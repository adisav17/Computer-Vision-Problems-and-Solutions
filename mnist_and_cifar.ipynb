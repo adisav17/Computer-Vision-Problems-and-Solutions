{
  "nbformat": 4,
  "nbformat_minor": 0,
  "metadata": {
    "colab": {
      "provenance": [],
      "collapsed_sections": []
    },
    "kernelspec": {
      "name": "python3",
      "display_name": "Python 3"
    },
    "widgets": {
      "application/vnd.jupyter.widget-state+json": {
        "c4869bd02b024d1e847b3c65690125e9": {
          "model_module": "@jupyter-widgets/controls",
          "model_name": "HBoxModel",
          "model_module_version": "1.5.0",
          "state": {
            "_dom_classes": [],
            "_model_module": "@jupyter-widgets/controls",
            "_model_module_version": "1.5.0",
            "_model_name": "HBoxModel",
            "_view_count": null,
            "_view_module": "@jupyter-widgets/controls",
            "_view_module_version": "1.5.0",
            "_view_name": "HBoxView",
            "box_style": "",
            "children": [
              "IPY_MODEL_8a3fed9d89394ce4b0c03f5b812826fe",
              "IPY_MODEL_63ca2945e6ae41ba9fc4361ff4cb9edc",
              "IPY_MODEL_132a48df87f94fcb9a8d428d7d358439"
            ],
            "layout": "IPY_MODEL_fa28153fb50a4778b57f57a92da147bb"
          }
        },
        "8a3fed9d89394ce4b0c03f5b812826fe": {
          "model_module": "@jupyter-widgets/controls",
          "model_name": "HTMLModel",
          "model_module_version": "1.5.0",
          "state": {
            "_dom_classes": [],
            "_model_module": "@jupyter-widgets/controls",
            "_model_module_version": "1.5.0",
            "_model_name": "HTMLModel",
            "_view_count": null,
            "_view_module": "@jupyter-widgets/controls",
            "_view_module_version": "1.5.0",
            "_view_name": "HTMLView",
            "description": "",
            "description_tooltip": null,
            "layout": "IPY_MODEL_0d99ffd28cb24ea8b23d603bb1942fe2",
            "placeholder": "​",
            "style": "IPY_MODEL_f8355a1ee86d433e811ce0ef8ad0aee0",
            "value": "100%"
          }
        },
        "63ca2945e6ae41ba9fc4361ff4cb9edc": {
          "model_module": "@jupyter-widgets/controls",
          "model_name": "FloatProgressModel",
          "model_module_version": "1.5.0",
          "state": {
            "_dom_classes": [],
            "_model_module": "@jupyter-widgets/controls",
            "_model_module_version": "1.5.0",
            "_model_name": "FloatProgressModel",
            "_view_count": null,
            "_view_module": "@jupyter-widgets/controls",
            "_view_module_version": "1.5.0",
            "_view_name": "ProgressView",
            "bar_style": "success",
            "description": "",
            "description_tooltip": null,
            "layout": "IPY_MODEL_bbf24ba5265d46f49e73a9ea0c27c4d1",
            "max": 9912422,
            "min": 0,
            "orientation": "horizontal",
            "style": "IPY_MODEL_71d3ece5d61842c48d4e90411078c435",
            "value": 9912422
          }
        },
        "132a48df87f94fcb9a8d428d7d358439": {
          "model_module": "@jupyter-widgets/controls",
          "model_name": "HTMLModel",
          "model_module_version": "1.5.0",
          "state": {
            "_dom_classes": [],
            "_model_module": "@jupyter-widgets/controls",
            "_model_module_version": "1.5.0",
            "_model_name": "HTMLModel",
            "_view_count": null,
            "_view_module": "@jupyter-widgets/controls",
            "_view_module_version": "1.5.0",
            "_view_name": "HTMLView",
            "description": "",
            "description_tooltip": null,
            "layout": "IPY_MODEL_d8fda20b68e54638bd82a86f162bf3c3",
            "placeholder": "​",
            "style": "IPY_MODEL_c347c139b3c941eb97cf2834a8cd112e",
            "value": " 9912422/9912422 [00:00&lt;00:00, 139865002.71it/s]"
          }
        },
        "fa28153fb50a4778b57f57a92da147bb": {
          "model_module": "@jupyter-widgets/base",
          "model_name": "LayoutModel",
          "model_module_version": "1.2.0",
          "state": {
            "_model_module": "@jupyter-widgets/base",
            "_model_module_version": "1.2.0",
            "_model_name": "LayoutModel",
            "_view_count": null,
            "_view_module": "@jupyter-widgets/base",
            "_view_module_version": "1.2.0",
            "_view_name": "LayoutView",
            "align_content": null,
            "align_items": null,
            "align_self": null,
            "border": null,
            "bottom": null,
            "display": null,
            "flex": null,
            "flex_flow": null,
            "grid_area": null,
            "grid_auto_columns": null,
            "grid_auto_flow": null,
            "grid_auto_rows": null,
            "grid_column": null,
            "grid_gap": null,
            "grid_row": null,
            "grid_template_areas": null,
            "grid_template_columns": null,
            "grid_template_rows": null,
            "height": null,
            "justify_content": null,
            "justify_items": null,
            "left": null,
            "margin": null,
            "max_height": null,
            "max_width": null,
            "min_height": null,
            "min_width": null,
            "object_fit": null,
            "object_position": null,
            "order": null,
            "overflow": null,
            "overflow_x": null,
            "overflow_y": null,
            "padding": null,
            "right": null,
            "top": null,
            "visibility": null,
            "width": null
          }
        },
        "0d99ffd28cb24ea8b23d603bb1942fe2": {
          "model_module": "@jupyter-widgets/base",
          "model_name": "LayoutModel",
          "model_module_version": "1.2.0",
          "state": {
            "_model_module": "@jupyter-widgets/base",
            "_model_module_version": "1.2.0",
            "_model_name": "LayoutModel",
            "_view_count": null,
            "_view_module": "@jupyter-widgets/base",
            "_view_module_version": "1.2.0",
            "_view_name": "LayoutView",
            "align_content": null,
            "align_items": null,
            "align_self": null,
            "border": null,
            "bottom": null,
            "display": null,
            "flex": null,
            "flex_flow": null,
            "grid_area": null,
            "grid_auto_columns": null,
            "grid_auto_flow": null,
            "grid_auto_rows": null,
            "grid_column": null,
            "grid_gap": null,
            "grid_row": null,
            "grid_template_areas": null,
            "grid_template_columns": null,
            "grid_template_rows": null,
            "height": null,
            "justify_content": null,
            "justify_items": null,
            "left": null,
            "margin": null,
            "max_height": null,
            "max_width": null,
            "min_height": null,
            "min_width": null,
            "object_fit": null,
            "object_position": null,
            "order": null,
            "overflow": null,
            "overflow_x": null,
            "overflow_y": null,
            "padding": null,
            "right": null,
            "top": null,
            "visibility": null,
            "width": null
          }
        },
        "f8355a1ee86d433e811ce0ef8ad0aee0": {
          "model_module": "@jupyter-widgets/controls",
          "model_name": "DescriptionStyleModel",
          "model_module_version": "1.5.0",
          "state": {
            "_model_module": "@jupyter-widgets/controls",
            "_model_module_version": "1.5.0",
            "_model_name": "DescriptionStyleModel",
            "_view_count": null,
            "_view_module": "@jupyter-widgets/base",
            "_view_module_version": "1.2.0",
            "_view_name": "StyleView",
            "description_width": ""
          }
        },
        "bbf24ba5265d46f49e73a9ea0c27c4d1": {
          "model_module": "@jupyter-widgets/base",
          "model_name": "LayoutModel",
          "model_module_version": "1.2.0",
          "state": {
            "_model_module": "@jupyter-widgets/base",
            "_model_module_version": "1.2.0",
            "_model_name": "LayoutModel",
            "_view_count": null,
            "_view_module": "@jupyter-widgets/base",
            "_view_module_version": "1.2.0",
            "_view_name": "LayoutView",
            "align_content": null,
            "align_items": null,
            "align_self": null,
            "border": null,
            "bottom": null,
            "display": null,
            "flex": null,
            "flex_flow": null,
            "grid_area": null,
            "grid_auto_columns": null,
            "grid_auto_flow": null,
            "grid_auto_rows": null,
            "grid_column": null,
            "grid_gap": null,
            "grid_row": null,
            "grid_template_areas": null,
            "grid_template_columns": null,
            "grid_template_rows": null,
            "height": null,
            "justify_content": null,
            "justify_items": null,
            "left": null,
            "margin": null,
            "max_height": null,
            "max_width": null,
            "min_height": null,
            "min_width": null,
            "object_fit": null,
            "object_position": null,
            "order": null,
            "overflow": null,
            "overflow_x": null,
            "overflow_y": null,
            "padding": null,
            "right": null,
            "top": null,
            "visibility": null,
            "width": null
          }
        },
        "71d3ece5d61842c48d4e90411078c435": {
          "model_module": "@jupyter-widgets/controls",
          "model_name": "ProgressStyleModel",
          "model_module_version": "1.5.0",
          "state": {
            "_model_module": "@jupyter-widgets/controls",
            "_model_module_version": "1.5.0",
            "_model_name": "ProgressStyleModel",
            "_view_count": null,
            "_view_module": "@jupyter-widgets/base",
            "_view_module_version": "1.2.0",
            "_view_name": "StyleView",
            "bar_color": null,
            "description_width": ""
          }
        },
        "d8fda20b68e54638bd82a86f162bf3c3": {
          "model_module": "@jupyter-widgets/base",
          "model_name": "LayoutModel",
          "model_module_version": "1.2.0",
          "state": {
            "_model_module": "@jupyter-widgets/base",
            "_model_module_version": "1.2.0",
            "_model_name": "LayoutModel",
            "_view_count": null,
            "_view_module": "@jupyter-widgets/base",
            "_view_module_version": "1.2.0",
            "_view_name": "LayoutView",
            "align_content": null,
            "align_items": null,
            "align_self": null,
            "border": null,
            "bottom": null,
            "display": null,
            "flex": null,
            "flex_flow": null,
            "grid_area": null,
            "grid_auto_columns": null,
            "grid_auto_flow": null,
            "grid_auto_rows": null,
            "grid_column": null,
            "grid_gap": null,
            "grid_row": null,
            "grid_template_areas": null,
            "grid_template_columns": null,
            "grid_template_rows": null,
            "height": null,
            "justify_content": null,
            "justify_items": null,
            "left": null,
            "margin": null,
            "max_height": null,
            "max_width": null,
            "min_height": null,
            "min_width": null,
            "object_fit": null,
            "object_position": null,
            "order": null,
            "overflow": null,
            "overflow_x": null,
            "overflow_y": null,
            "padding": null,
            "right": null,
            "top": null,
            "visibility": null,
            "width": null
          }
        },
        "c347c139b3c941eb97cf2834a8cd112e": {
          "model_module": "@jupyter-widgets/controls",
          "model_name": "DescriptionStyleModel",
          "model_module_version": "1.5.0",
          "state": {
            "_model_module": "@jupyter-widgets/controls",
            "_model_module_version": "1.5.0",
            "_model_name": "DescriptionStyleModel",
            "_view_count": null,
            "_view_module": "@jupyter-widgets/base",
            "_view_module_version": "1.2.0",
            "_view_name": "StyleView",
            "description_width": ""
          }
        },
        "3796a01e095d4225a6c192c6688b8f88": {
          "model_module": "@jupyter-widgets/controls",
          "model_name": "HBoxModel",
          "model_module_version": "1.5.0",
          "state": {
            "_dom_classes": [],
            "_model_module": "@jupyter-widgets/controls",
            "_model_module_version": "1.5.0",
            "_model_name": "HBoxModel",
            "_view_count": null,
            "_view_module": "@jupyter-widgets/controls",
            "_view_module_version": "1.5.0",
            "_view_name": "HBoxView",
            "box_style": "",
            "children": [
              "IPY_MODEL_60fa58e60ccc42b393f6b1afac5eca41",
              "IPY_MODEL_115b1d71e67d48c29f5e7102b878945e",
              "IPY_MODEL_966d91c1ad0a45548e4c59af14dc527b"
            ],
            "layout": "IPY_MODEL_c264134a9a9c4b06bf6ee68a0d04a0c7"
          }
        },
        "60fa58e60ccc42b393f6b1afac5eca41": {
          "model_module": "@jupyter-widgets/controls",
          "model_name": "HTMLModel",
          "model_module_version": "1.5.0",
          "state": {
            "_dom_classes": [],
            "_model_module": "@jupyter-widgets/controls",
            "_model_module_version": "1.5.0",
            "_model_name": "HTMLModel",
            "_view_count": null,
            "_view_module": "@jupyter-widgets/controls",
            "_view_module_version": "1.5.0",
            "_view_name": "HTMLView",
            "description": "",
            "description_tooltip": null,
            "layout": "IPY_MODEL_e6a3fd68584149bb92fae1e42fc4c9c9",
            "placeholder": "​",
            "style": "IPY_MODEL_57661ca20361441f82b6788478094710",
            "value": "100%"
          }
        },
        "115b1d71e67d48c29f5e7102b878945e": {
          "model_module": "@jupyter-widgets/controls",
          "model_name": "FloatProgressModel",
          "model_module_version": "1.5.0",
          "state": {
            "_dom_classes": [],
            "_model_module": "@jupyter-widgets/controls",
            "_model_module_version": "1.5.0",
            "_model_name": "FloatProgressModel",
            "_view_count": null,
            "_view_module": "@jupyter-widgets/controls",
            "_view_module_version": "1.5.0",
            "_view_name": "ProgressView",
            "bar_style": "success",
            "description": "",
            "description_tooltip": null,
            "layout": "IPY_MODEL_9173c4d5276744efb7bd88a2ca33e642",
            "max": 28881,
            "min": 0,
            "orientation": "horizontal",
            "style": "IPY_MODEL_58c7711d473e495c8814588212507814",
            "value": 28881
          }
        },
        "966d91c1ad0a45548e4c59af14dc527b": {
          "model_module": "@jupyter-widgets/controls",
          "model_name": "HTMLModel",
          "model_module_version": "1.5.0",
          "state": {
            "_dom_classes": [],
            "_model_module": "@jupyter-widgets/controls",
            "_model_module_version": "1.5.0",
            "_model_name": "HTMLModel",
            "_view_count": null,
            "_view_module": "@jupyter-widgets/controls",
            "_view_module_version": "1.5.0",
            "_view_name": "HTMLView",
            "description": "",
            "description_tooltip": null,
            "layout": "IPY_MODEL_a17e090018894bf78b9185497f2730f6",
            "placeholder": "​",
            "style": "IPY_MODEL_c128f4216cbd40b792f33a36482eb2e6",
            "value": " 28881/28881 [00:00&lt;00:00, 908949.45it/s]"
          }
        },
        "c264134a9a9c4b06bf6ee68a0d04a0c7": {
          "model_module": "@jupyter-widgets/base",
          "model_name": "LayoutModel",
          "model_module_version": "1.2.0",
          "state": {
            "_model_module": "@jupyter-widgets/base",
            "_model_module_version": "1.2.0",
            "_model_name": "LayoutModel",
            "_view_count": null,
            "_view_module": "@jupyter-widgets/base",
            "_view_module_version": "1.2.0",
            "_view_name": "LayoutView",
            "align_content": null,
            "align_items": null,
            "align_self": null,
            "border": null,
            "bottom": null,
            "display": null,
            "flex": null,
            "flex_flow": null,
            "grid_area": null,
            "grid_auto_columns": null,
            "grid_auto_flow": null,
            "grid_auto_rows": null,
            "grid_column": null,
            "grid_gap": null,
            "grid_row": null,
            "grid_template_areas": null,
            "grid_template_columns": null,
            "grid_template_rows": null,
            "height": null,
            "justify_content": null,
            "justify_items": null,
            "left": null,
            "margin": null,
            "max_height": null,
            "max_width": null,
            "min_height": null,
            "min_width": null,
            "object_fit": null,
            "object_position": null,
            "order": null,
            "overflow": null,
            "overflow_x": null,
            "overflow_y": null,
            "padding": null,
            "right": null,
            "top": null,
            "visibility": null,
            "width": null
          }
        },
        "e6a3fd68584149bb92fae1e42fc4c9c9": {
          "model_module": "@jupyter-widgets/base",
          "model_name": "LayoutModel",
          "model_module_version": "1.2.0",
          "state": {
            "_model_module": "@jupyter-widgets/base",
            "_model_module_version": "1.2.0",
            "_model_name": "LayoutModel",
            "_view_count": null,
            "_view_module": "@jupyter-widgets/base",
            "_view_module_version": "1.2.0",
            "_view_name": "LayoutView",
            "align_content": null,
            "align_items": null,
            "align_self": null,
            "border": null,
            "bottom": null,
            "display": null,
            "flex": null,
            "flex_flow": null,
            "grid_area": null,
            "grid_auto_columns": null,
            "grid_auto_flow": null,
            "grid_auto_rows": null,
            "grid_column": null,
            "grid_gap": null,
            "grid_row": null,
            "grid_template_areas": null,
            "grid_template_columns": null,
            "grid_template_rows": null,
            "height": null,
            "justify_content": null,
            "justify_items": null,
            "left": null,
            "margin": null,
            "max_height": null,
            "max_width": null,
            "min_height": null,
            "min_width": null,
            "object_fit": null,
            "object_position": null,
            "order": null,
            "overflow": null,
            "overflow_x": null,
            "overflow_y": null,
            "padding": null,
            "right": null,
            "top": null,
            "visibility": null,
            "width": null
          }
        },
        "57661ca20361441f82b6788478094710": {
          "model_module": "@jupyter-widgets/controls",
          "model_name": "DescriptionStyleModel",
          "model_module_version": "1.5.0",
          "state": {
            "_model_module": "@jupyter-widgets/controls",
            "_model_module_version": "1.5.0",
            "_model_name": "DescriptionStyleModel",
            "_view_count": null,
            "_view_module": "@jupyter-widgets/base",
            "_view_module_version": "1.2.0",
            "_view_name": "StyleView",
            "description_width": ""
          }
        },
        "9173c4d5276744efb7bd88a2ca33e642": {
          "model_module": "@jupyter-widgets/base",
          "model_name": "LayoutModel",
          "model_module_version": "1.2.0",
          "state": {
            "_model_module": "@jupyter-widgets/base",
            "_model_module_version": "1.2.0",
            "_model_name": "LayoutModel",
            "_view_count": null,
            "_view_module": "@jupyter-widgets/base",
            "_view_module_version": "1.2.0",
            "_view_name": "LayoutView",
            "align_content": null,
            "align_items": null,
            "align_self": null,
            "border": null,
            "bottom": null,
            "display": null,
            "flex": null,
            "flex_flow": null,
            "grid_area": null,
            "grid_auto_columns": null,
            "grid_auto_flow": null,
            "grid_auto_rows": null,
            "grid_column": null,
            "grid_gap": null,
            "grid_row": null,
            "grid_template_areas": null,
            "grid_template_columns": null,
            "grid_template_rows": null,
            "height": null,
            "justify_content": null,
            "justify_items": null,
            "left": null,
            "margin": null,
            "max_height": null,
            "max_width": null,
            "min_height": null,
            "min_width": null,
            "object_fit": null,
            "object_position": null,
            "order": null,
            "overflow": null,
            "overflow_x": null,
            "overflow_y": null,
            "padding": null,
            "right": null,
            "top": null,
            "visibility": null,
            "width": null
          }
        },
        "58c7711d473e495c8814588212507814": {
          "model_module": "@jupyter-widgets/controls",
          "model_name": "ProgressStyleModel",
          "model_module_version": "1.5.0",
          "state": {
            "_model_module": "@jupyter-widgets/controls",
            "_model_module_version": "1.5.0",
            "_model_name": "ProgressStyleModel",
            "_view_count": null,
            "_view_module": "@jupyter-widgets/base",
            "_view_module_version": "1.2.0",
            "_view_name": "StyleView",
            "bar_color": null,
            "description_width": ""
          }
        },
        "a17e090018894bf78b9185497f2730f6": {
          "model_module": "@jupyter-widgets/base",
          "model_name": "LayoutModel",
          "model_module_version": "1.2.0",
          "state": {
            "_model_module": "@jupyter-widgets/base",
            "_model_module_version": "1.2.0",
            "_model_name": "LayoutModel",
            "_view_count": null,
            "_view_module": "@jupyter-widgets/base",
            "_view_module_version": "1.2.0",
            "_view_name": "LayoutView",
            "align_content": null,
            "align_items": null,
            "align_self": null,
            "border": null,
            "bottom": null,
            "display": null,
            "flex": null,
            "flex_flow": null,
            "grid_area": null,
            "grid_auto_columns": null,
            "grid_auto_flow": null,
            "grid_auto_rows": null,
            "grid_column": null,
            "grid_gap": null,
            "grid_row": null,
            "grid_template_areas": null,
            "grid_template_columns": null,
            "grid_template_rows": null,
            "height": null,
            "justify_content": null,
            "justify_items": null,
            "left": null,
            "margin": null,
            "max_height": null,
            "max_width": null,
            "min_height": null,
            "min_width": null,
            "object_fit": null,
            "object_position": null,
            "order": null,
            "overflow": null,
            "overflow_x": null,
            "overflow_y": null,
            "padding": null,
            "right": null,
            "top": null,
            "visibility": null,
            "width": null
          }
        },
        "c128f4216cbd40b792f33a36482eb2e6": {
          "model_module": "@jupyter-widgets/controls",
          "model_name": "DescriptionStyleModel",
          "model_module_version": "1.5.0",
          "state": {
            "_model_module": "@jupyter-widgets/controls",
            "_model_module_version": "1.5.0",
            "_model_name": "DescriptionStyleModel",
            "_view_count": null,
            "_view_module": "@jupyter-widgets/base",
            "_view_module_version": "1.2.0",
            "_view_name": "StyleView",
            "description_width": ""
          }
        },
        "c30d025dd8ec43a2af68ea6a1fedc21b": {
          "model_module": "@jupyter-widgets/controls",
          "model_name": "HBoxModel",
          "model_module_version": "1.5.0",
          "state": {
            "_dom_classes": [],
            "_model_module": "@jupyter-widgets/controls",
            "_model_module_version": "1.5.0",
            "_model_name": "HBoxModel",
            "_view_count": null,
            "_view_module": "@jupyter-widgets/controls",
            "_view_module_version": "1.5.0",
            "_view_name": "HBoxView",
            "box_style": "",
            "children": [
              "IPY_MODEL_7452ebe0f2dd41dd84b9fa1cb06ff0a2",
              "IPY_MODEL_2c0116e5b6fc46e8910a8ccf39f35ccf",
              "IPY_MODEL_60f1f5f2b82a4653b176da2064c05129"
            ],
            "layout": "IPY_MODEL_46b8b3385e0344dda9d34f0c600b6d08"
          }
        },
        "7452ebe0f2dd41dd84b9fa1cb06ff0a2": {
          "model_module": "@jupyter-widgets/controls",
          "model_name": "HTMLModel",
          "model_module_version": "1.5.0",
          "state": {
            "_dom_classes": [],
            "_model_module": "@jupyter-widgets/controls",
            "_model_module_version": "1.5.0",
            "_model_name": "HTMLModel",
            "_view_count": null,
            "_view_module": "@jupyter-widgets/controls",
            "_view_module_version": "1.5.0",
            "_view_name": "HTMLView",
            "description": "",
            "description_tooltip": null,
            "layout": "IPY_MODEL_d5b986e5610845baaac1861d056bbf36",
            "placeholder": "​",
            "style": "IPY_MODEL_b7c597a124e741d496f0a033eed5c49e",
            "value": "100%"
          }
        },
        "2c0116e5b6fc46e8910a8ccf39f35ccf": {
          "model_module": "@jupyter-widgets/controls",
          "model_name": "FloatProgressModel",
          "model_module_version": "1.5.0",
          "state": {
            "_dom_classes": [],
            "_model_module": "@jupyter-widgets/controls",
            "_model_module_version": "1.5.0",
            "_model_name": "FloatProgressModel",
            "_view_count": null,
            "_view_module": "@jupyter-widgets/controls",
            "_view_module_version": "1.5.0",
            "_view_name": "ProgressView",
            "bar_style": "success",
            "description": "",
            "description_tooltip": null,
            "layout": "IPY_MODEL_0812b10493b347c1aa5df1da06305821",
            "max": 1648877,
            "min": 0,
            "orientation": "horizontal",
            "style": "IPY_MODEL_2df1e1a6d17d48ffbc96233cd561b6ac",
            "value": 1648877
          }
        },
        "60f1f5f2b82a4653b176da2064c05129": {
          "model_module": "@jupyter-widgets/controls",
          "model_name": "HTMLModel",
          "model_module_version": "1.5.0",
          "state": {
            "_dom_classes": [],
            "_model_module": "@jupyter-widgets/controls",
            "_model_module_version": "1.5.0",
            "_model_name": "HTMLModel",
            "_view_count": null,
            "_view_module": "@jupyter-widgets/controls",
            "_view_module_version": "1.5.0",
            "_view_name": "HTMLView",
            "description": "",
            "description_tooltip": null,
            "layout": "IPY_MODEL_98130dc2fdc542d7b53b6c67de9bfffb",
            "placeholder": "​",
            "style": "IPY_MODEL_84bb1fb4dc394d158aeb036503064c9f",
            "value": " 1648877/1648877 [00:00&lt;00:00, 31639802.90it/s]"
          }
        },
        "46b8b3385e0344dda9d34f0c600b6d08": {
          "model_module": "@jupyter-widgets/base",
          "model_name": "LayoutModel",
          "model_module_version": "1.2.0",
          "state": {
            "_model_module": "@jupyter-widgets/base",
            "_model_module_version": "1.2.0",
            "_model_name": "LayoutModel",
            "_view_count": null,
            "_view_module": "@jupyter-widgets/base",
            "_view_module_version": "1.2.0",
            "_view_name": "LayoutView",
            "align_content": null,
            "align_items": null,
            "align_self": null,
            "border": null,
            "bottom": null,
            "display": null,
            "flex": null,
            "flex_flow": null,
            "grid_area": null,
            "grid_auto_columns": null,
            "grid_auto_flow": null,
            "grid_auto_rows": null,
            "grid_column": null,
            "grid_gap": null,
            "grid_row": null,
            "grid_template_areas": null,
            "grid_template_columns": null,
            "grid_template_rows": null,
            "height": null,
            "justify_content": null,
            "justify_items": null,
            "left": null,
            "margin": null,
            "max_height": null,
            "max_width": null,
            "min_height": null,
            "min_width": null,
            "object_fit": null,
            "object_position": null,
            "order": null,
            "overflow": null,
            "overflow_x": null,
            "overflow_y": null,
            "padding": null,
            "right": null,
            "top": null,
            "visibility": null,
            "width": null
          }
        },
        "d5b986e5610845baaac1861d056bbf36": {
          "model_module": "@jupyter-widgets/base",
          "model_name": "LayoutModel",
          "model_module_version": "1.2.0",
          "state": {
            "_model_module": "@jupyter-widgets/base",
            "_model_module_version": "1.2.0",
            "_model_name": "LayoutModel",
            "_view_count": null,
            "_view_module": "@jupyter-widgets/base",
            "_view_module_version": "1.2.0",
            "_view_name": "LayoutView",
            "align_content": null,
            "align_items": null,
            "align_self": null,
            "border": null,
            "bottom": null,
            "display": null,
            "flex": null,
            "flex_flow": null,
            "grid_area": null,
            "grid_auto_columns": null,
            "grid_auto_flow": null,
            "grid_auto_rows": null,
            "grid_column": null,
            "grid_gap": null,
            "grid_row": null,
            "grid_template_areas": null,
            "grid_template_columns": null,
            "grid_template_rows": null,
            "height": null,
            "justify_content": null,
            "justify_items": null,
            "left": null,
            "margin": null,
            "max_height": null,
            "max_width": null,
            "min_height": null,
            "min_width": null,
            "object_fit": null,
            "object_position": null,
            "order": null,
            "overflow": null,
            "overflow_x": null,
            "overflow_y": null,
            "padding": null,
            "right": null,
            "top": null,
            "visibility": null,
            "width": null
          }
        },
        "b7c597a124e741d496f0a033eed5c49e": {
          "model_module": "@jupyter-widgets/controls",
          "model_name": "DescriptionStyleModel",
          "model_module_version": "1.5.0",
          "state": {
            "_model_module": "@jupyter-widgets/controls",
            "_model_module_version": "1.5.0",
            "_model_name": "DescriptionStyleModel",
            "_view_count": null,
            "_view_module": "@jupyter-widgets/base",
            "_view_module_version": "1.2.0",
            "_view_name": "StyleView",
            "description_width": ""
          }
        },
        "0812b10493b347c1aa5df1da06305821": {
          "model_module": "@jupyter-widgets/base",
          "model_name": "LayoutModel",
          "model_module_version": "1.2.0",
          "state": {
            "_model_module": "@jupyter-widgets/base",
            "_model_module_version": "1.2.0",
            "_model_name": "LayoutModel",
            "_view_count": null,
            "_view_module": "@jupyter-widgets/base",
            "_view_module_version": "1.2.0",
            "_view_name": "LayoutView",
            "align_content": null,
            "align_items": null,
            "align_self": null,
            "border": null,
            "bottom": null,
            "display": null,
            "flex": null,
            "flex_flow": null,
            "grid_area": null,
            "grid_auto_columns": null,
            "grid_auto_flow": null,
            "grid_auto_rows": null,
            "grid_column": null,
            "grid_gap": null,
            "grid_row": null,
            "grid_template_areas": null,
            "grid_template_columns": null,
            "grid_template_rows": null,
            "height": null,
            "justify_content": null,
            "justify_items": null,
            "left": null,
            "margin": null,
            "max_height": null,
            "max_width": null,
            "min_height": null,
            "min_width": null,
            "object_fit": null,
            "object_position": null,
            "order": null,
            "overflow": null,
            "overflow_x": null,
            "overflow_y": null,
            "padding": null,
            "right": null,
            "top": null,
            "visibility": null,
            "width": null
          }
        },
        "2df1e1a6d17d48ffbc96233cd561b6ac": {
          "model_module": "@jupyter-widgets/controls",
          "model_name": "ProgressStyleModel",
          "model_module_version": "1.5.0",
          "state": {
            "_model_module": "@jupyter-widgets/controls",
            "_model_module_version": "1.5.0",
            "_model_name": "ProgressStyleModel",
            "_view_count": null,
            "_view_module": "@jupyter-widgets/base",
            "_view_module_version": "1.2.0",
            "_view_name": "StyleView",
            "bar_color": null,
            "description_width": ""
          }
        },
        "98130dc2fdc542d7b53b6c67de9bfffb": {
          "model_module": "@jupyter-widgets/base",
          "model_name": "LayoutModel",
          "model_module_version": "1.2.0",
          "state": {
            "_model_module": "@jupyter-widgets/base",
            "_model_module_version": "1.2.0",
            "_model_name": "LayoutModel",
            "_view_count": null,
            "_view_module": "@jupyter-widgets/base",
            "_view_module_version": "1.2.0",
            "_view_name": "LayoutView",
            "align_content": null,
            "align_items": null,
            "align_self": null,
            "border": null,
            "bottom": null,
            "display": null,
            "flex": null,
            "flex_flow": null,
            "grid_area": null,
            "grid_auto_columns": null,
            "grid_auto_flow": null,
            "grid_auto_rows": null,
            "grid_column": null,
            "grid_gap": null,
            "grid_row": null,
            "grid_template_areas": null,
            "grid_template_columns": null,
            "grid_template_rows": null,
            "height": null,
            "justify_content": null,
            "justify_items": null,
            "left": null,
            "margin": null,
            "max_height": null,
            "max_width": null,
            "min_height": null,
            "min_width": null,
            "object_fit": null,
            "object_position": null,
            "order": null,
            "overflow": null,
            "overflow_x": null,
            "overflow_y": null,
            "padding": null,
            "right": null,
            "top": null,
            "visibility": null,
            "width": null
          }
        },
        "84bb1fb4dc394d158aeb036503064c9f": {
          "model_module": "@jupyter-widgets/controls",
          "model_name": "DescriptionStyleModel",
          "model_module_version": "1.5.0",
          "state": {
            "_model_module": "@jupyter-widgets/controls",
            "_model_module_version": "1.5.0",
            "_model_name": "DescriptionStyleModel",
            "_view_count": null,
            "_view_module": "@jupyter-widgets/base",
            "_view_module_version": "1.2.0",
            "_view_name": "StyleView",
            "description_width": ""
          }
        },
        "c45a5b73f06a4e08a16bc8fcaf74ab18": {
          "model_module": "@jupyter-widgets/controls",
          "model_name": "HBoxModel",
          "model_module_version": "1.5.0",
          "state": {
            "_dom_classes": [],
            "_model_module": "@jupyter-widgets/controls",
            "_model_module_version": "1.5.0",
            "_model_name": "HBoxModel",
            "_view_count": null,
            "_view_module": "@jupyter-widgets/controls",
            "_view_module_version": "1.5.0",
            "_view_name": "HBoxView",
            "box_style": "",
            "children": [
              "IPY_MODEL_67a31f8237244ab182da6859d44bf865",
              "IPY_MODEL_08b2642737354553b3ce1ab37904d1ba",
              "IPY_MODEL_0198e3dce0ee4d40bf1f2f72204995c3"
            ],
            "layout": "IPY_MODEL_2d8bbd4cc8dc4fe7aa4d632b50d4451c"
          }
        },
        "67a31f8237244ab182da6859d44bf865": {
          "model_module": "@jupyter-widgets/controls",
          "model_name": "HTMLModel",
          "model_module_version": "1.5.0",
          "state": {
            "_dom_classes": [],
            "_model_module": "@jupyter-widgets/controls",
            "_model_module_version": "1.5.0",
            "_model_name": "HTMLModel",
            "_view_count": null,
            "_view_module": "@jupyter-widgets/controls",
            "_view_module_version": "1.5.0",
            "_view_name": "HTMLView",
            "description": "",
            "description_tooltip": null,
            "layout": "IPY_MODEL_5e1075848fcf40899bcf576606a11cef",
            "placeholder": "​",
            "style": "IPY_MODEL_d178ac0075ab423f835c921777f8d273",
            "value": "100%"
          }
        },
        "08b2642737354553b3ce1ab37904d1ba": {
          "model_module": "@jupyter-widgets/controls",
          "model_name": "FloatProgressModel",
          "model_module_version": "1.5.0",
          "state": {
            "_dom_classes": [],
            "_model_module": "@jupyter-widgets/controls",
            "_model_module_version": "1.5.0",
            "_model_name": "FloatProgressModel",
            "_view_count": null,
            "_view_module": "@jupyter-widgets/controls",
            "_view_module_version": "1.5.0",
            "_view_name": "ProgressView",
            "bar_style": "success",
            "description": "",
            "description_tooltip": null,
            "layout": "IPY_MODEL_a9b0328b4fde49d5b9d11495a55e202d",
            "max": 4542,
            "min": 0,
            "orientation": "horizontal",
            "style": "IPY_MODEL_94af765f59734acabdd58d7f3cd27498",
            "value": 4542
          }
        },
        "0198e3dce0ee4d40bf1f2f72204995c3": {
          "model_module": "@jupyter-widgets/controls",
          "model_name": "HTMLModel",
          "model_module_version": "1.5.0",
          "state": {
            "_dom_classes": [],
            "_model_module": "@jupyter-widgets/controls",
            "_model_module_version": "1.5.0",
            "_model_name": "HTMLModel",
            "_view_count": null,
            "_view_module": "@jupyter-widgets/controls",
            "_view_module_version": "1.5.0",
            "_view_name": "HTMLView",
            "description": "",
            "description_tooltip": null,
            "layout": "IPY_MODEL_4df70e73085b498b958869560b7744aa",
            "placeholder": "​",
            "style": "IPY_MODEL_90d07fd3bac7446aa57fb69aaf0c4cc8",
            "value": " 4542/4542 [00:00&lt;00:00, 154252.80it/s]"
          }
        },
        "2d8bbd4cc8dc4fe7aa4d632b50d4451c": {
          "model_module": "@jupyter-widgets/base",
          "model_name": "LayoutModel",
          "model_module_version": "1.2.0",
          "state": {
            "_model_module": "@jupyter-widgets/base",
            "_model_module_version": "1.2.0",
            "_model_name": "LayoutModel",
            "_view_count": null,
            "_view_module": "@jupyter-widgets/base",
            "_view_module_version": "1.2.0",
            "_view_name": "LayoutView",
            "align_content": null,
            "align_items": null,
            "align_self": null,
            "border": null,
            "bottom": null,
            "display": null,
            "flex": null,
            "flex_flow": null,
            "grid_area": null,
            "grid_auto_columns": null,
            "grid_auto_flow": null,
            "grid_auto_rows": null,
            "grid_column": null,
            "grid_gap": null,
            "grid_row": null,
            "grid_template_areas": null,
            "grid_template_columns": null,
            "grid_template_rows": null,
            "height": null,
            "justify_content": null,
            "justify_items": null,
            "left": null,
            "margin": null,
            "max_height": null,
            "max_width": null,
            "min_height": null,
            "min_width": null,
            "object_fit": null,
            "object_position": null,
            "order": null,
            "overflow": null,
            "overflow_x": null,
            "overflow_y": null,
            "padding": null,
            "right": null,
            "top": null,
            "visibility": null,
            "width": null
          }
        },
        "5e1075848fcf40899bcf576606a11cef": {
          "model_module": "@jupyter-widgets/base",
          "model_name": "LayoutModel",
          "model_module_version": "1.2.0",
          "state": {
            "_model_module": "@jupyter-widgets/base",
            "_model_module_version": "1.2.0",
            "_model_name": "LayoutModel",
            "_view_count": null,
            "_view_module": "@jupyter-widgets/base",
            "_view_module_version": "1.2.0",
            "_view_name": "LayoutView",
            "align_content": null,
            "align_items": null,
            "align_self": null,
            "border": null,
            "bottom": null,
            "display": null,
            "flex": null,
            "flex_flow": null,
            "grid_area": null,
            "grid_auto_columns": null,
            "grid_auto_flow": null,
            "grid_auto_rows": null,
            "grid_column": null,
            "grid_gap": null,
            "grid_row": null,
            "grid_template_areas": null,
            "grid_template_columns": null,
            "grid_template_rows": null,
            "height": null,
            "justify_content": null,
            "justify_items": null,
            "left": null,
            "margin": null,
            "max_height": null,
            "max_width": null,
            "min_height": null,
            "min_width": null,
            "object_fit": null,
            "object_position": null,
            "order": null,
            "overflow": null,
            "overflow_x": null,
            "overflow_y": null,
            "padding": null,
            "right": null,
            "top": null,
            "visibility": null,
            "width": null
          }
        },
        "d178ac0075ab423f835c921777f8d273": {
          "model_module": "@jupyter-widgets/controls",
          "model_name": "DescriptionStyleModel",
          "model_module_version": "1.5.0",
          "state": {
            "_model_module": "@jupyter-widgets/controls",
            "_model_module_version": "1.5.0",
            "_model_name": "DescriptionStyleModel",
            "_view_count": null,
            "_view_module": "@jupyter-widgets/base",
            "_view_module_version": "1.2.0",
            "_view_name": "StyleView",
            "description_width": ""
          }
        },
        "a9b0328b4fde49d5b9d11495a55e202d": {
          "model_module": "@jupyter-widgets/base",
          "model_name": "LayoutModel",
          "model_module_version": "1.2.0",
          "state": {
            "_model_module": "@jupyter-widgets/base",
            "_model_module_version": "1.2.0",
            "_model_name": "LayoutModel",
            "_view_count": null,
            "_view_module": "@jupyter-widgets/base",
            "_view_module_version": "1.2.0",
            "_view_name": "LayoutView",
            "align_content": null,
            "align_items": null,
            "align_self": null,
            "border": null,
            "bottom": null,
            "display": null,
            "flex": null,
            "flex_flow": null,
            "grid_area": null,
            "grid_auto_columns": null,
            "grid_auto_flow": null,
            "grid_auto_rows": null,
            "grid_column": null,
            "grid_gap": null,
            "grid_row": null,
            "grid_template_areas": null,
            "grid_template_columns": null,
            "grid_template_rows": null,
            "height": null,
            "justify_content": null,
            "justify_items": null,
            "left": null,
            "margin": null,
            "max_height": null,
            "max_width": null,
            "min_height": null,
            "min_width": null,
            "object_fit": null,
            "object_position": null,
            "order": null,
            "overflow": null,
            "overflow_x": null,
            "overflow_y": null,
            "padding": null,
            "right": null,
            "top": null,
            "visibility": null,
            "width": null
          }
        },
        "94af765f59734acabdd58d7f3cd27498": {
          "model_module": "@jupyter-widgets/controls",
          "model_name": "ProgressStyleModel",
          "model_module_version": "1.5.0",
          "state": {
            "_model_module": "@jupyter-widgets/controls",
            "_model_module_version": "1.5.0",
            "_model_name": "ProgressStyleModel",
            "_view_count": null,
            "_view_module": "@jupyter-widgets/base",
            "_view_module_version": "1.2.0",
            "_view_name": "StyleView",
            "bar_color": null,
            "description_width": ""
          }
        },
        "4df70e73085b498b958869560b7744aa": {
          "model_module": "@jupyter-widgets/base",
          "model_name": "LayoutModel",
          "model_module_version": "1.2.0",
          "state": {
            "_model_module": "@jupyter-widgets/base",
            "_model_module_version": "1.2.0",
            "_model_name": "LayoutModel",
            "_view_count": null,
            "_view_module": "@jupyter-widgets/base",
            "_view_module_version": "1.2.0",
            "_view_name": "LayoutView",
            "align_content": null,
            "align_items": null,
            "align_self": null,
            "border": null,
            "bottom": null,
            "display": null,
            "flex": null,
            "flex_flow": null,
            "grid_area": null,
            "grid_auto_columns": null,
            "grid_auto_flow": null,
            "grid_auto_rows": null,
            "grid_column": null,
            "grid_gap": null,
            "grid_row": null,
            "grid_template_areas": null,
            "grid_template_columns": null,
            "grid_template_rows": null,
            "height": null,
            "justify_content": null,
            "justify_items": null,
            "left": null,
            "margin": null,
            "max_height": null,
            "max_width": null,
            "min_height": null,
            "min_width": null,
            "object_fit": null,
            "object_position": null,
            "order": null,
            "overflow": null,
            "overflow_x": null,
            "overflow_y": null,
            "padding": null,
            "right": null,
            "top": null,
            "visibility": null,
            "width": null
          }
        },
        "90d07fd3bac7446aa57fb69aaf0c4cc8": {
          "model_module": "@jupyter-widgets/controls",
          "model_name": "DescriptionStyleModel",
          "model_module_version": "1.5.0",
          "state": {
            "_model_module": "@jupyter-widgets/controls",
            "_model_module_version": "1.5.0",
            "_model_name": "DescriptionStyleModel",
            "_view_count": null,
            "_view_module": "@jupyter-widgets/base",
            "_view_module_version": "1.2.0",
            "_view_name": "StyleView",
            "description_width": ""
          }
        },
        "bc2ec7b595a943648fabeb6946ea07c7": {
          "model_module": "@jupyter-widgets/controls",
          "model_name": "HBoxModel",
          "model_module_version": "1.5.0",
          "state": {
            "_dom_classes": [],
            "_model_module": "@jupyter-widgets/controls",
            "_model_module_version": "1.5.0",
            "_model_name": "HBoxModel",
            "_view_count": null,
            "_view_module": "@jupyter-widgets/controls",
            "_view_module_version": "1.5.0",
            "_view_name": "HBoxView",
            "box_style": "",
            "children": [
              "IPY_MODEL_fd9d40b1caf04fceb737daebed342f90",
              "IPY_MODEL_dd43a181210444cbb4e8b7a4ccbc0651",
              "IPY_MODEL_dfe3f18dcc8b4474a828bd102317b146"
            ],
            "layout": "IPY_MODEL_20ab65cc4abb429080a2e542d0f2348c"
          }
        },
        "fd9d40b1caf04fceb737daebed342f90": {
          "model_module": "@jupyter-widgets/controls",
          "model_name": "HTMLModel",
          "model_module_version": "1.5.0",
          "state": {
            "_dom_classes": [],
            "_model_module": "@jupyter-widgets/controls",
            "_model_module_version": "1.5.0",
            "_model_name": "HTMLModel",
            "_view_count": null,
            "_view_module": "@jupyter-widgets/controls",
            "_view_module_version": "1.5.0",
            "_view_name": "HTMLView",
            "description": "",
            "description_tooltip": null,
            "layout": "IPY_MODEL_58faf61ee0fc49e6a991b6041ec542a1",
            "placeholder": "​",
            "style": "IPY_MODEL_5abe2617f68448c08eacc061ceb70840",
            "value": "100%"
          }
        },
        "dd43a181210444cbb4e8b7a4ccbc0651": {
          "model_module": "@jupyter-widgets/controls",
          "model_name": "FloatProgressModel",
          "model_module_version": "1.5.0",
          "state": {
            "_dom_classes": [],
            "_model_module": "@jupyter-widgets/controls",
            "_model_module_version": "1.5.0",
            "_model_name": "FloatProgressModel",
            "_view_count": null,
            "_view_module": "@jupyter-widgets/controls",
            "_view_module_version": "1.5.0",
            "_view_name": "ProgressView",
            "bar_style": "success",
            "description": "",
            "description_tooltip": null,
            "layout": "IPY_MODEL_e9ee67db6eea4516a588ea1225c150a7",
            "max": 9912422,
            "min": 0,
            "orientation": "horizontal",
            "style": "IPY_MODEL_1e4ed62f705b47599d6b1c7762705604",
            "value": 9912422
          }
        },
        "dfe3f18dcc8b4474a828bd102317b146": {
          "model_module": "@jupyter-widgets/controls",
          "model_name": "HTMLModel",
          "model_module_version": "1.5.0",
          "state": {
            "_dom_classes": [],
            "_model_module": "@jupyter-widgets/controls",
            "_model_module_version": "1.5.0",
            "_model_name": "HTMLModel",
            "_view_count": null,
            "_view_module": "@jupyter-widgets/controls",
            "_view_module_version": "1.5.0",
            "_view_name": "HTMLView",
            "description": "",
            "description_tooltip": null,
            "layout": "IPY_MODEL_7825e14ea9164aae8788e3daa028e6e0",
            "placeholder": "​",
            "style": "IPY_MODEL_a4463ee1019f456796b24c4f2af8c4b3",
            "value": " 9912422/9912422 [00:00&lt;00:00, 14557597.37it/s]"
          }
        },
        "20ab65cc4abb429080a2e542d0f2348c": {
          "model_module": "@jupyter-widgets/base",
          "model_name": "LayoutModel",
          "model_module_version": "1.2.0",
          "state": {
            "_model_module": "@jupyter-widgets/base",
            "_model_module_version": "1.2.0",
            "_model_name": "LayoutModel",
            "_view_count": null,
            "_view_module": "@jupyter-widgets/base",
            "_view_module_version": "1.2.0",
            "_view_name": "LayoutView",
            "align_content": null,
            "align_items": null,
            "align_self": null,
            "border": null,
            "bottom": null,
            "display": null,
            "flex": null,
            "flex_flow": null,
            "grid_area": null,
            "grid_auto_columns": null,
            "grid_auto_flow": null,
            "grid_auto_rows": null,
            "grid_column": null,
            "grid_gap": null,
            "grid_row": null,
            "grid_template_areas": null,
            "grid_template_columns": null,
            "grid_template_rows": null,
            "height": null,
            "justify_content": null,
            "justify_items": null,
            "left": null,
            "margin": null,
            "max_height": null,
            "max_width": null,
            "min_height": null,
            "min_width": null,
            "object_fit": null,
            "object_position": null,
            "order": null,
            "overflow": null,
            "overflow_x": null,
            "overflow_y": null,
            "padding": null,
            "right": null,
            "top": null,
            "visibility": null,
            "width": null
          }
        },
        "58faf61ee0fc49e6a991b6041ec542a1": {
          "model_module": "@jupyter-widgets/base",
          "model_name": "LayoutModel",
          "model_module_version": "1.2.0",
          "state": {
            "_model_module": "@jupyter-widgets/base",
            "_model_module_version": "1.2.0",
            "_model_name": "LayoutModel",
            "_view_count": null,
            "_view_module": "@jupyter-widgets/base",
            "_view_module_version": "1.2.0",
            "_view_name": "LayoutView",
            "align_content": null,
            "align_items": null,
            "align_self": null,
            "border": null,
            "bottom": null,
            "display": null,
            "flex": null,
            "flex_flow": null,
            "grid_area": null,
            "grid_auto_columns": null,
            "grid_auto_flow": null,
            "grid_auto_rows": null,
            "grid_column": null,
            "grid_gap": null,
            "grid_row": null,
            "grid_template_areas": null,
            "grid_template_columns": null,
            "grid_template_rows": null,
            "height": null,
            "justify_content": null,
            "justify_items": null,
            "left": null,
            "margin": null,
            "max_height": null,
            "max_width": null,
            "min_height": null,
            "min_width": null,
            "object_fit": null,
            "object_position": null,
            "order": null,
            "overflow": null,
            "overflow_x": null,
            "overflow_y": null,
            "padding": null,
            "right": null,
            "top": null,
            "visibility": null,
            "width": null
          }
        },
        "5abe2617f68448c08eacc061ceb70840": {
          "model_module": "@jupyter-widgets/controls",
          "model_name": "DescriptionStyleModel",
          "model_module_version": "1.5.0",
          "state": {
            "_model_module": "@jupyter-widgets/controls",
            "_model_module_version": "1.5.0",
            "_model_name": "DescriptionStyleModel",
            "_view_count": null,
            "_view_module": "@jupyter-widgets/base",
            "_view_module_version": "1.2.0",
            "_view_name": "StyleView",
            "description_width": ""
          }
        },
        "e9ee67db6eea4516a588ea1225c150a7": {
          "model_module": "@jupyter-widgets/base",
          "model_name": "LayoutModel",
          "model_module_version": "1.2.0",
          "state": {
            "_model_module": "@jupyter-widgets/base",
            "_model_module_version": "1.2.0",
            "_model_name": "LayoutModel",
            "_view_count": null,
            "_view_module": "@jupyter-widgets/base",
            "_view_module_version": "1.2.0",
            "_view_name": "LayoutView",
            "align_content": null,
            "align_items": null,
            "align_self": null,
            "border": null,
            "bottom": null,
            "display": null,
            "flex": null,
            "flex_flow": null,
            "grid_area": null,
            "grid_auto_columns": null,
            "grid_auto_flow": null,
            "grid_auto_rows": null,
            "grid_column": null,
            "grid_gap": null,
            "grid_row": null,
            "grid_template_areas": null,
            "grid_template_columns": null,
            "grid_template_rows": null,
            "height": null,
            "justify_content": null,
            "justify_items": null,
            "left": null,
            "margin": null,
            "max_height": null,
            "max_width": null,
            "min_height": null,
            "min_width": null,
            "object_fit": null,
            "object_position": null,
            "order": null,
            "overflow": null,
            "overflow_x": null,
            "overflow_y": null,
            "padding": null,
            "right": null,
            "top": null,
            "visibility": null,
            "width": null
          }
        },
        "1e4ed62f705b47599d6b1c7762705604": {
          "model_module": "@jupyter-widgets/controls",
          "model_name": "ProgressStyleModel",
          "model_module_version": "1.5.0",
          "state": {
            "_model_module": "@jupyter-widgets/controls",
            "_model_module_version": "1.5.0",
            "_model_name": "ProgressStyleModel",
            "_view_count": null,
            "_view_module": "@jupyter-widgets/base",
            "_view_module_version": "1.2.0",
            "_view_name": "StyleView",
            "bar_color": null,
            "description_width": ""
          }
        },
        "7825e14ea9164aae8788e3daa028e6e0": {
          "model_module": "@jupyter-widgets/base",
          "model_name": "LayoutModel",
          "model_module_version": "1.2.0",
          "state": {
            "_model_module": "@jupyter-widgets/base",
            "_model_module_version": "1.2.0",
            "_model_name": "LayoutModel",
            "_view_count": null,
            "_view_module": "@jupyter-widgets/base",
            "_view_module_version": "1.2.0",
            "_view_name": "LayoutView",
            "align_content": null,
            "align_items": null,
            "align_self": null,
            "border": null,
            "bottom": null,
            "display": null,
            "flex": null,
            "flex_flow": null,
            "grid_area": null,
            "grid_auto_columns": null,
            "grid_auto_flow": null,
            "grid_auto_rows": null,
            "grid_column": null,
            "grid_gap": null,
            "grid_row": null,
            "grid_template_areas": null,
            "grid_template_columns": null,
            "grid_template_rows": null,
            "height": null,
            "justify_content": null,
            "justify_items": null,
            "left": null,
            "margin": null,
            "max_height": null,
            "max_width": null,
            "min_height": null,
            "min_width": null,
            "object_fit": null,
            "object_position": null,
            "order": null,
            "overflow": null,
            "overflow_x": null,
            "overflow_y": null,
            "padding": null,
            "right": null,
            "top": null,
            "visibility": null,
            "width": null
          }
        },
        "a4463ee1019f456796b24c4f2af8c4b3": {
          "model_module": "@jupyter-widgets/controls",
          "model_name": "DescriptionStyleModel",
          "model_module_version": "1.5.0",
          "state": {
            "_model_module": "@jupyter-widgets/controls",
            "_model_module_version": "1.5.0",
            "_model_name": "DescriptionStyleModel",
            "_view_count": null,
            "_view_module": "@jupyter-widgets/base",
            "_view_module_version": "1.2.0",
            "_view_name": "StyleView",
            "description_width": ""
          }
        },
        "83265719501c4752a7a2c81dda5525da": {
          "model_module": "@jupyter-widgets/controls",
          "model_name": "HBoxModel",
          "model_module_version": "1.5.0",
          "state": {
            "_dom_classes": [],
            "_model_module": "@jupyter-widgets/controls",
            "_model_module_version": "1.5.0",
            "_model_name": "HBoxModel",
            "_view_count": null,
            "_view_module": "@jupyter-widgets/controls",
            "_view_module_version": "1.5.0",
            "_view_name": "HBoxView",
            "box_style": "",
            "children": [
              "IPY_MODEL_25ccf846baea435dbc71943e6afdefdb",
              "IPY_MODEL_c115766cc7f5420b9078a32dc37aef1e",
              "IPY_MODEL_59ab17cdf4d44f35a2825efeeaef9073"
            ],
            "layout": "IPY_MODEL_2b7a0fd6e1e54e73a237fbf3063475c4"
          }
        },
        "25ccf846baea435dbc71943e6afdefdb": {
          "model_module": "@jupyter-widgets/controls",
          "model_name": "HTMLModel",
          "model_module_version": "1.5.0",
          "state": {
            "_dom_classes": [],
            "_model_module": "@jupyter-widgets/controls",
            "_model_module_version": "1.5.0",
            "_model_name": "HTMLModel",
            "_view_count": null,
            "_view_module": "@jupyter-widgets/controls",
            "_view_module_version": "1.5.0",
            "_view_name": "HTMLView",
            "description": "",
            "description_tooltip": null,
            "layout": "IPY_MODEL_2a9472cd99674d949cdf185fb9f07424",
            "placeholder": "​",
            "style": "IPY_MODEL_98a513afe3224a6992ff440a236738bc",
            "value": "100%"
          }
        },
        "c115766cc7f5420b9078a32dc37aef1e": {
          "model_module": "@jupyter-widgets/controls",
          "model_name": "FloatProgressModel",
          "model_module_version": "1.5.0",
          "state": {
            "_dom_classes": [],
            "_model_module": "@jupyter-widgets/controls",
            "_model_module_version": "1.5.0",
            "_model_name": "FloatProgressModel",
            "_view_count": null,
            "_view_module": "@jupyter-widgets/controls",
            "_view_module_version": "1.5.0",
            "_view_name": "ProgressView",
            "bar_style": "success",
            "description": "",
            "description_tooltip": null,
            "layout": "IPY_MODEL_8bd6fcf1fb2d4f7aa34689314c722dca",
            "max": 28881,
            "min": 0,
            "orientation": "horizontal",
            "style": "IPY_MODEL_79112704837349edb8804b588a0136c0",
            "value": 28881
          }
        },
        "59ab17cdf4d44f35a2825efeeaef9073": {
          "model_module": "@jupyter-widgets/controls",
          "model_name": "HTMLModel",
          "model_module_version": "1.5.0",
          "state": {
            "_dom_classes": [],
            "_model_module": "@jupyter-widgets/controls",
            "_model_module_version": "1.5.0",
            "_model_name": "HTMLModel",
            "_view_count": null,
            "_view_module": "@jupyter-widgets/controls",
            "_view_module_version": "1.5.0",
            "_view_name": "HTMLView",
            "description": "",
            "description_tooltip": null,
            "layout": "IPY_MODEL_bbc07bb6d56849c6bab3c18b97f87070",
            "placeholder": "​",
            "style": "IPY_MODEL_35cb21faee55479fa552b04d3c5ac486",
            "value": " 28881/28881 [00:00&lt;00:00, 817368.82it/s]"
          }
        },
        "2b7a0fd6e1e54e73a237fbf3063475c4": {
          "model_module": "@jupyter-widgets/base",
          "model_name": "LayoutModel",
          "model_module_version": "1.2.0",
          "state": {
            "_model_module": "@jupyter-widgets/base",
            "_model_module_version": "1.2.0",
            "_model_name": "LayoutModel",
            "_view_count": null,
            "_view_module": "@jupyter-widgets/base",
            "_view_module_version": "1.2.0",
            "_view_name": "LayoutView",
            "align_content": null,
            "align_items": null,
            "align_self": null,
            "border": null,
            "bottom": null,
            "display": null,
            "flex": null,
            "flex_flow": null,
            "grid_area": null,
            "grid_auto_columns": null,
            "grid_auto_flow": null,
            "grid_auto_rows": null,
            "grid_column": null,
            "grid_gap": null,
            "grid_row": null,
            "grid_template_areas": null,
            "grid_template_columns": null,
            "grid_template_rows": null,
            "height": null,
            "justify_content": null,
            "justify_items": null,
            "left": null,
            "margin": null,
            "max_height": null,
            "max_width": null,
            "min_height": null,
            "min_width": null,
            "object_fit": null,
            "object_position": null,
            "order": null,
            "overflow": null,
            "overflow_x": null,
            "overflow_y": null,
            "padding": null,
            "right": null,
            "top": null,
            "visibility": null,
            "width": null
          }
        },
        "2a9472cd99674d949cdf185fb9f07424": {
          "model_module": "@jupyter-widgets/base",
          "model_name": "LayoutModel",
          "model_module_version": "1.2.0",
          "state": {
            "_model_module": "@jupyter-widgets/base",
            "_model_module_version": "1.2.0",
            "_model_name": "LayoutModel",
            "_view_count": null,
            "_view_module": "@jupyter-widgets/base",
            "_view_module_version": "1.2.0",
            "_view_name": "LayoutView",
            "align_content": null,
            "align_items": null,
            "align_self": null,
            "border": null,
            "bottom": null,
            "display": null,
            "flex": null,
            "flex_flow": null,
            "grid_area": null,
            "grid_auto_columns": null,
            "grid_auto_flow": null,
            "grid_auto_rows": null,
            "grid_column": null,
            "grid_gap": null,
            "grid_row": null,
            "grid_template_areas": null,
            "grid_template_columns": null,
            "grid_template_rows": null,
            "height": null,
            "justify_content": null,
            "justify_items": null,
            "left": null,
            "margin": null,
            "max_height": null,
            "max_width": null,
            "min_height": null,
            "min_width": null,
            "object_fit": null,
            "object_position": null,
            "order": null,
            "overflow": null,
            "overflow_x": null,
            "overflow_y": null,
            "padding": null,
            "right": null,
            "top": null,
            "visibility": null,
            "width": null
          }
        },
        "98a513afe3224a6992ff440a236738bc": {
          "model_module": "@jupyter-widgets/controls",
          "model_name": "DescriptionStyleModel",
          "model_module_version": "1.5.0",
          "state": {
            "_model_module": "@jupyter-widgets/controls",
            "_model_module_version": "1.5.0",
            "_model_name": "DescriptionStyleModel",
            "_view_count": null,
            "_view_module": "@jupyter-widgets/base",
            "_view_module_version": "1.2.0",
            "_view_name": "StyleView",
            "description_width": ""
          }
        },
        "8bd6fcf1fb2d4f7aa34689314c722dca": {
          "model_module": "@jupyter-widgets/base",
          "model_name": "LayoutModel",
          "model_module_version": "1.2.0",
          "state": {
            "_model_module": "@jupyter-widgets/base",
            "_model_module_version": "1.2.0",
            "_model_name": "LayoutModel",
            "_view_count": null,
            "_view_module": "@jupyter-widgets/base",
            "_view_module_version": "1.2.0",
            "_view_name": "LayoutView",
            "align_content": null,
            "align_items": null,
            "align_self": null,
            "border": null,
            "bottom": null,
            "display": null,
            "flex": null,
            "flex_flow": null,
            "grid_area": null,
            "grid_auto_columns": null,
            "grid_auto_flow": null,
            "grid_auto_rows": null,
            "grid_column": null,
            "grid_gap": null,
            "grid_row": null,
            "grid_template_areas": null,
            "grid_template_columns": null,
            "grid_template_rows": null,
            "height": null,
            "justify_content": null,
            "justify_items": null,
            "left": null,
            "margin": null,
            "max_height": null,
            "max_width": null,
            "min_height": null,
            "min_width": null,
            "object_fit": null,
            "object_position": null,
            "order": null,
            "overflow": null,
            "overflow_x": null,
            "overflow_y": null,
            "padding": null,
            "right": null,
            "top": null,
            "visibility": null,
            "width": null
          }
        },
        "79112704837349edb8804b588a0136c0": {
          "model_module": "@jupyter-widgets/controls",
          "model_name": "ProgressStyleModel",
          "model_module_version": "1.5.0",
          "state": {
            "_model_module": "@jupyter-widgets/controls",
            "_model_module_version": "1.5.0",
            "_model_name": "ProgressStyleModel",
            "_view_count": null,
            "_view_module": "@jupyter-widgets/base",
            "_view_module_version": "1.2.0",
            "_view_name": "StyleView",
            "bar_color": null,
            "description_width": ""
          }
        },
        "bbc07bb6d56849c6bab3c18b97f87070": {
          "model_module": "@jupyter-widgets/base",
          "model_name": "LayoutModel",
          "model_module_version": "1.2.0",
          "state": {
            "_model_module": "@jupyter-widgets/base",
            "_model_module_version": "1.2.0",
            "_model_name": "LayoutModel",
            "_view_count": null,
            "_view_module": "@jupyter-widgets/base",
            "_view_module_version": "1.2.0",
            "_view_name": "LayoutView",
            "align_content": null,
            "align_items": null,
            "align_self": null,
            "border": null,
            "bottom": null,
            "display": null,
            "flex": null,
            "flex_flow": null,
            "grid_area": null,
            "grid_auto_columns": null,
            "grid_auto_flow": null,
            "grid_auto_rows": null,
            "grid_column": null,
            "grid_gap": null,
            "grid_row": null,
            "grid_template_areas": null,
            "grid_template_columns": null,
            "grid_template_rows": null,
            "height": null,
            "justify_content": null,
            "justify_items": null,
            "left": null,
            "margin": null,
            "max_height": null,
            "max_width": null,
            "min_height": null,
            "min_width": null,
            "object_fit": null,
            "object_position": null,
            "order": null,
            "overflow": null,
            "overflow_x": null,
            "overflow_y": null,
            "padding": null,
            "right": null,
            "top": null,
            "visibility": null,
            "width": null
          }
        },
        "35cb21faee55479fa552b04d3c5ac486": {
          "model_module": "@jupyter-widgets/controls",
          "model_name": "DescriptionStyleModel",
          "model_module_version": "1.5.0",
          "state": {
            "_model_module": "@jupyter-widgets/controls",
            "_model_module_version": "1.5.0",
            "_model_name": "DescriptionStyleModel",
            "_view_count": null,
            "_view_module": "@jupyter-widgets/base",
            "_view_module_version": "1.2.0",
            "_view_name": "StyleView",
            "description_width": ""
          }
        },
        "c85fce8d93514b758bd72672efda74d8": {
          "model_module": "@jupyter-widgets/controls",
          "model_name": "HBoxModel",
          "model_module_version": "1.5.0",
          "state": {
            "_dom_classes": [],
            "_model_module": "@jupyter-widgets/controls",
            "_model_module_version": "1.5.0",
            "_model_name": "HBoxModel",
            "_view_count": null,
            "_view_module": "@jupyter-widgets/controls",
            "_view_module_version": "1.5.0",
            "_view_name": "HBoxView",
            "box_style": "",
            "children": [
              "IPY_MODEL_ccd6151f1da8422e9dbccf6f87a599ba",
              "IPY_MODEL_6c134a6fb9914f7b9dd34766781f98ca",
              "IPY_MODEL_9ea374c71aa146159eb17ce38d85fa39"
            ],
            "layout": "IPY_MODEL_87a3b9cd788942949be1ed6a1553837c"
          }
        },
        "ccd6151f1da8422e9dbccf6f87a599ba": {
          "model_module": "@jupyter-widgets/controls",
          "model_name": "HTMLModel",
          "model_module_version": "1.5.0",
          "state": {
            "_dom_classes": [],
            "_model_module": "@jupyter-widgets/controls",
            "_model_module_version": "1.5.0",
            "_model_name": "HTMLModel",
            "_view_count": null,
            "_view_module": "@jupyter-widgets/controls",
            "_view_module_version": "1.5.0",
            "_view_name": "HTMLView",
            "description": "",
            "description_tooltip": null,
            "layout": "IPY_MODEL_880a97a016d143f5a80fbe19cce3fa70",
            "placeholder": "​",
            "style": "IPY_MODEL_b8e0793a82b0492b9d6eab088d3fae52",
            "value": "100%"
          }
        },
        "6c134a6fb9914f7b9dd34766781f98ca": {
          "model_module": "@jupyter-widgets/controls",
          "model_name": "FloatProgressModel",
          "model_module_version": "1.5.0",
          "state": {
            "_dom_classes": [],
            "_model_module": "@jupyter-widgets/controls",
            "_model_module_version": "1.5.0",
            "_model_name": "FloatProgressModel",
            "_view_count": null,
            "_view_module": "@jupyter-widgets/controls",
            "_view_module_version": "1.5.0",
            "_view_name": "ProgressView",
            "bar_style": "success",
            "description": "",
            "description_tooltip": null,
            "layout": "IPY_MODEL_a0d27a47e8164696a6e47df1dab0ffe3",
            "max": 1648877,
            "min": 0,
            "orientation": "horizontal",
            "style": "IPY_MODEL_42ea37e03c35408ab0fde0003dfe0f31",
            "value": 1648877
          }
        },
        "9ea374c71aa146159eb17ce38d85fa39": {
          "model_module": "@jupyter-widgets/controls",
          "model_name": "HTMLModel",
          "model_module_version": "1.5.0",
          "state": {
            "_dom_classes": [],
            "_model_module": "@jupyter-widgets/controls",
            "_model_module_version": "1.5.0",
            "_model_name": "HTMLModel",
            "_view_count": null,
            "_view_module": "@jupyter-widgets/controls",
            "_view_module_version": "1.5.0",
            "_view_name": "HTMLView",
            "description": "",
            "description_tooltip": null,
            "layout": "IPY_MODEL_b421452cd20f4cb18aa25b9870eb90d8",
            "placeholder": "​",
            "style": "IPY_MODEL_557b3a5480034b809fca17a108ace0f2",
            "value": " 1648877/1648877 [00:00&lt;00:00, 1919230.20it/s]"
          }
        },
        "87a3b9cd788942949be1ed6a1553837c": {
          "model_module": "@jupyter-widgets/base",
          "model_name": "LayoutModel",
          "model_module_version": "1.2.0",
          "state": {
            "_model_module": "@jupyter-widgets/base",
            "_model_module_version": "1.2.0",
            "_model_name": "LayoutModel",
            "_view_count": null,
            "_view_module": "@jupyter-widgets/base",
            "_view_module_version": "1.2.0",
            "_view_name": "LayoutView",
            "align_content": null,
            "align_items": null,
            "align_self": null,
            "border": null,
            "bottom": null,
            "display": null,
            "flex": null,
            "flex_flow": null,
            "grid_area": null,
            "grid_auto_columns": null,
            "grid_auto_flow": null,
            "grid_auto_rows": null,
            "grid_column": null,
            "grid_gap": null,
            "grid_row": null,
            "grid_template_areas": null,
            "grid_template_columns": null,
            "grid_template_rows": null,
            "height": null,
            "justify_content": null,
            "justify_items": null,
            "left": null,
            "margin": null,
            "max_height": null,
            "max_width": null,
            "min_height": null,
            "min_width": null,
            "object_fit": null,
            "object_position": null,
            "order": null,
            "overflow": null,
            "overflow_x": null,
            "overflow_y": null,
            "padding": null,
            "right": null,
            "top": null,
            "visibility": null,
            "width": null
          }
        },
        "880a97a016d143f5a80fbe19cce3fa70": {
          "model_module": "@jupyter-widgets/base",
          "model_name": "LayoutModel",
          "model_module_version": "1.2.0",
          "state": {
            "_model_module": "@jupyter-widgets/base",
            "_model_module_version": "1.2.0",
            "_model_name": "LayoutModel",
            "_view_count": null,
            "_view_module": "@jupyter-widgets/base",
            "_view_module_version": "1.2.0",
            "_view_name": "LayoutView",
            "align_content": null,
            "align_items": null,
            "align_self": null,
            "border": null,
            "bottom": null,
            "display": null,
            "flex": null,
            "flex_flow": null,
            "grid_area": null,
            "grid_auto_columns": null,
            "grid_auto_flow": null,
            "grid_auto_rows": null,
            "grid_column": null,
            "grid_gap": null,
            "grid_row": null,
            "grid_template_areas": null,
            "grid_template_columns": null,
            "grid_template_rows": null,
            "height": null,
            "justify_content": null,
            "justify_items": null,
            "left": null,
            "margin": null,
            "max_height": null,
            "max_width": null,
            "min_height": null,
            "min_width": null,
            "object_fit": null,
            "object_position": null,
            "order": null,
            "overflow": null,
            "overflow_x": null,
            "overflow_y": null,
            "padding": null,
            "right": null,
            "top": null,
            "visibility": null,
            "width": null
          }
        },
        "b8e0793a82b0492b9d6eab088d3fae52": {
          "model_module": "@jupyter-widgets/controls",
          "model_name": "DescriptionStyleModel",
          "model_module_version": "1.5.0",
          "state": {
            "_model_module": "@jupyter-widgets/controls",
            "_model_module_version": "1.5.0",
            "_model_name": "DescriptionStyleModel",
            "_view_count": null,
            "_view_module": "@jupyter-widgets/base",
            "_view_module_version": "1.2.0",
            "_view_name": "StyleView",
            "description_width": ""
          }
        },
        "a0d27a47e8164696a6e47df1dab0ffe3": {
          "model_module": "@jupyter-widgets/base",
          "model_name": "LayoutModel",
          "model_module_version": "1.2.0",
          "state": {
            "_model_module": "@jupyter-widgets/base",
            "_model_module_version": "1.2.0",
            "_model_name": "LayoutModel",
            "_view_count": null,
            "_view_module": "@jupyter-widgets/base",
            "_view_module_version": "1.2.0",
            "_view_name": "LayoutView",
            "align_content": null,
            "align_items": null,
            "align_self": null,
            "border": null,
            "bottom": null,
            "display": null,
            "flex": null,
            "flex_flow": null,
            "grid_area": null,
            "grid_auto_columns": null,
            "grid_auto_flow": null,
            "grid_auto_rows": null,
            "grid_column": null,
            "grid_gap": null,
            "grid_row": null,
            "grid_template_areas": null,
            "grid_template_columns": null,
            "grid_template_rows": null,
            "height": null,
            "justify_content": null,
            "justify_items": null,
            "left": null,
            "margin": null,
            "max_height": null,
            "max_width": null,
            "min_height": null,
            "min_width": null,
            "object_fit": null,
            "object_position": null,
            "order": null,
            "overflow": null,
            "overflow_x": null,
            "overflow_y": null,
            "padding": null,
            "right": null,
            "top": null,
            "visibility": null,
            "width": null
          }
        },
        "42ea37e03c35408ab0fde0003dfe0f31": {
          "model_module": "@jupyter-widgets/controls",
          "model_name": "ProgressStyleModel",
          "model_module_version": "1.5.0",
          "state": {
            "_model_module": "@jupyter-widgets/controls",
            "_model_module_version": "1.5.0",
            "_model_name": "ProgressStyleModel",
            "_view_count": null,
            "_view_module": "@jupyter-widgets/base",
            "_view_module_version": "1.2.0",
            "_view_name": "StyleView",
            "bar_color": null,
            "description_width": ""
          }
        },
        "b421452cd20f4cb18aa25b9870eb90d8": {
          "model_module": "@jupyter-widgets/base",
          "model_name": "LayoutModel",
          "model_module_version": "1.2.0",
          "state": {
            "_model_module": "@jupyter-widgets/base",
            "_model_module_version": "1.2.0",
            "_model_name": "LayoutModel",
            "_view_count": null,
            "_view_module": "@jupyter-widgets/base",
            "_view_module_version": "1.2.0",
            "_view_name": "LayoutView",
            "align_content": null,
            "align_items": null,
            "align_self": null,
            "border": null,
            "bottom": null,
            "display": null,
            "flex": null,
            "flex_flow": null,
            "grid_area": null,
            "grid_auto_columns": null,
            "grid_auto_flow": null,
            "grid_auto_rows": null,
            "grid_column": null,
            "grid_gap": null,
            "grid_row": null,
            "grid_template_areas": null,
            "grid_template_columns": null,
            "grid_template_rows": null,
            "height": null,
            "justify_content": null,
            "justify_items": null,
            "left": null,
            "margin": null,
            "max_height": null,
            "max_width": null,
            "min_height": null,
            "min_width": null,
            "object_fit": null,
            "object_position": null,
            "order": null,
            "overflow": null,
            "overflow_x": null,
            "overflow_y": null,
            "padding": null,
            "right": null,
            "top": null,
            "visibility": null,
            "width": null
          }
        },
        "557b3a5480034b809fca17a108ace0f2": {
          "model_module": "@jupyter-widgets/controls",
          "model_name": "DescriptionStyleModel",
          "model_module_version": "1.5.0",
          "state": {
            "_model_module": "@jupyter-widgets/controls",
            "_model_module_version": "1.5.0",
            "_model_name": "DescriptionStyleModel",
            "_view_count": null,
            "_view_module": "@jupyter-widgets/base",
            "_view_module_version": "1.2.0",
            "_view_name": "StyleView",
            "description_width": ""
          }
        },
        "97b8a485f45c4179921a0d9f9abf45f7": {
          "model_module": "@jupyter-widgets/controls",
          "model_name": "HBoxModel",
          "model_module_version": "1.5.0",
          "state": {
            "_dom_classes": [],
            "_model_module": "@jupyter-widgets/controls",
            "_model_module_version": "1.5.0",
            "_model_name": "HBoxModel",
            "_view_count": null,
            "_view_module": "@jupyter-widgets/controls",
            "_view_module_version": "1.5.0",
            "_view_name": "HBoxView",
            "box_style": "",
            "children": [
              "IPY_MODEL_d3bbfaa4d4db49dc945b2f421bbd5248",
              "IPY_MODEL_916c89921666424cab6c8048f49a2d88",
              "IPY_MODEL_535f60efe50b4a788d475dc0ce3ce567"
            ],
            "layout": "IPY_MODEL_de16a894aa5d41ca81d24f188d249610"
          }
        },
        "d3bbfaa4d4db49dc945b2f421bbd5248": {
          "model_module": "@jupyter-widgets/controls",
          "model_name": "HTMLModel",
          "model_module_version": "1.5.0",
          "state": {
            "_dom_classes": [],
            "_model_module": "@jupyter-widgets/controls",
            "_model_module_version": "1.5.0",
            "_model_name": "HTMLModel",
            "_view_count": null,
            "_view_module": "@jupyter-widgets/controls",
            "_view_module_version": "1.5.0",
            "_view_name": "HTMLView",
            "description": "",
            "description_tooltip": null,
            "layout": "IPY_MODEL_d6071ecfffd346f59145b67218a19d7d",
            "placeholder": "​",
            "style": "IPY_MODEL_29073ce6faa24e42a825976fd8077d0d",
            "value": "100%"
          }
        },
        "916c89921666424cab6c8048f49a2d88": {
          "model_module": "@jupyter-widgets/controls",
          "model_name": "FloatProgressModel",
          "model_module_version": "1.5.0",
          "state": {
            "_dom_classes": [],
            "_model_module": "@jupyter-widgets/controls",
            "_model_module_version": "1.5.0",
            "_model_name": "FloatProgressModel",
            "_view_count": null,
            "_view_module": "@jupyter-widgets/controls",
            "_view_module_version": "1.5.0",
            "_view_name": "ProgressView",
            "bar_style": "success",
            "description": "",
            "description_tooltip": null,
            "layout": "IPY_MODEL_d4b13ac859834dd69318eb7a6a8d3fa2",
            "max": 4542,
            "min": 0,
            "orientation": "horizontal",
            "style": "IPY_MODEL_d4315e0080014a4fa15b10f43b0c558b",
            "value": 4542
          }
        },
        "535f60efe50b4a788d475dc0ce3ce567": {
          "model_module": "@jupyter-widgets/controls",
          "model_name": "HTMLModel",
          "model_module_version": "1.5.0",
          "state": {
            "_dom_classes": [],
            "_model_module": "@jupyter-widgets/controls",
            "_model_module_version": "1.5.0",
            "_model_name": "HTMLModel",
            "_view_count": null,
            "_view_module": "@jupyter-widgets/controls",
            "_view_module_version": "1.5.0",
            "_view_name": "HTMLView",
            "description": "",
            "description_tooltip": null,
            "layout": "IPY_MODEL_461e47762b0c464aaa2571f8c4426e3c",
            "placeholder": "​",
            "style": "IPY_MODEL_155d61c5e7484726b8cfb61764256023",
            "value": " 4542/4542 [00:00&lt;00:00, 136333.26it/s]"
          }
        },
        "de16a894aa5d41ca81d24f188d249610": {
          "model_module": "@jupyter-widgets/base",
          "model_name": "LayoutModel",
          "model_module_version": "1.2.0",
          "state": {
            "_model_module": "@jupyter-widgets/base",
            "_model_module_version": "1.2.0",
            "_model_name": "LayoutModel",
            "_view_count": null,
            "_view_module": "@jupyter-widgets/base",
            "_view_module_version": "1.2.0",
            "_view_name": "LayoutView",
            "align_content": null,
            "align_items": null,
            "align_self": null,
            "border": null,
            "bottom": null,
            "display": null,
            "flex": null,
            "flex_flow": null,
            "grid_area": null,
            "grid_auto_columns": null,
            "grid_auto_flow": null,
            "grid_auto_rows": null,
            "grid_column": null,
            "grid_gap": null,
            "grid_row": null,
            "grid_template_areas": null,
            "grid_template_columns": null,
            "grid_template_rows": null,
            "height": null,
            "justify_content": null,
            "justify_items": null,
            "left": null,
            "margin": null,
            "max_height": null,
            "max_width": null,
            "min_height": null,
            "min_width": null,
            "object_fit": null,
            "object_position": null,
            "order": null,
            "overflow": null,
            "overflow_x": null,
            "overflow_y": null,
            "padding": null,
            "right": null,
            "top": null,
            "visibility": null,
            "width": null
          }
        },
        "d6071ecfffd346f59145b67218a19d7d": {
          "model_module": "@jupyter-widgets/base",
          "model_name": "LayoutModel",
          "model_module_version": "1.2.0",
          "state": {
            "_model_module": "@jupyter-widgets/base",
            "_model_module_version": "1.2.0",
            "_model_name": "LayoutModel",
            "_view_count": null,
            "_view_module": "@jupyter-widgets/base",
            "_view_module_version": "1.2.0",
            "_view_name": "LayoutView",
            "align_content": null,
            "align_items": null,
            "align_self": null,
            "border": null,
            "bottom": null,
            "display": null,
            "flex": null,
            "flex_flow": null,
            "grid_area": null,
            "grid_auto_columns": null,
            "grid_auto_flow": null,
            "grid_auto_rows": null,
            "grid_column": null,
            "grid_gap": null,
            "grid_row": null,
            "grid_template_areas": null,
            "grid_template_columns": null,
            "grid_template_rows": null,
            "height": null,
            "justify_content": null,
            "justify_items": null,
            "left": null,
            "margin": null,
            "max_height": null,
            "max_width": null,
            "min_height": null,
            "min_width": null,
            "object_fit": null,
            "object_position": null,
            "order": null,
            "overflow": null,
            "overflow_x": null,
            "overflow_y": null,
            "padding": null,
            "right": null,
            "top": null,
            "visibility": null,
            "width": null
          }
        },
        "29073ce6faa24e42a825976fd8077d0d": {
          "model_module": "@jupyter-widgets/controls",
          "model_name": "DescriptionStyleModel",
          "model_module_version": "1.5.0",
          "state": {
            "_model_module": "@jupyter-widgets/controls",
            "_model_module_version": "1.5.0",
            "_model_name": "DescriptionStyleModel",
            "_view_count": null,
            "_view_module": "@jupyter-widgets/base",
            "_view_module_version": "1.2.0",
            "_view_name": "StyleView",
            "description_width": ""
          }
        },
        "d4b13ac859834dd69318eb7a6a8d3fa2": {
          "model_module": "@jupyter-widgets/base",
          "model_name": "LayoutModel",
          "model_module_version": "1.2.0",
          "state": {
            "_model_module": "@jupyter-widgets/base",
            "_model_module_version": "1.2.0",
            "_model_name": "LayoutModel",
            "_view_count": null,
            "_view_module": "@jupyter-widgets/base",
            "_view_module_version": "1.2.0",
            "_view_name": "LayoutView",
            "align_content": null,
            "align_items": null,
            "align_self": null,
            "border": null,
            "bottom": null,
            "display": null,
            "flex": null,
            "flex_flow": null,
            "grid_area": null,
            "grid_auto_columns": null,
            "grid_auto_flow": null,
            "grid_auto_rows": null,
            "grid_column": null,
            "grid_gap": null,
            "grid_row": null,
            "grid_template_areas": null,
            "grid_template_columns": null,
            "grid_template_rows": null,
            "height": null,
            "justify_content": null,
            "justify_items": null,
            "left": null,
            "margin": null,
            "max_height": null,
            "max_width": null,
            "min_height": null,
            "min_width": null,
            "object_fit": null,
            "object_position": null,
            "order": null,
            "overflow": null,
            "overflow_x": null,
            "overflow_y": null,
            "padding": null,
            "right": null,
            "top": null,
            "visibility": null,
            "width": null
          }
        },
        "d4315e0080014a4fa15b10f43b0c558b": {
          "model_module": "@jupyter-widgets/controls",
          "model_name": "ProgressStyleModel",
          "model_module_version": "1.5.0",
          "state": {
            "_model_module": "@jupyter-widgets/controls",
            "_model_module_version": "1.5.0",
            "_model_name": "ProgressStyleModel",
            "_view_count": null,
            "_view_module": "@jupyter-widgets/base",
            "_view_module_version": "1.2.0",
            "_view_name": "StyleView",
            "bar_color": null,
            "description_width": ""
          }
        },
        "461e47762b0c464aaa2571f8c4426e3c": {
          "model_module": "@jupyter-widgets/base",
          "model_name": "LayoutModel",
          "model_module_version": "1.2.0",
          "state": {
            "_model_module": "@jupyter-widgets/base",
            "_model_module_version": "1.2.0",
            "_model_name": "LayoutModel",
            "_view_count": null,
            "_view_module": "@jupyter-widgets/base",
            "_view_module_version": "1.2.0",
            "_view_name": "LayoutView",
            "align_content": null,
            "align_items": null,
            "align_self": null,
            "border": null,
            "bottom": null,
            "display": null,
            "flex": null,
            "flex_flow": null,
            "grid_area": null,
            "grid_auto_columns": null,
            "grid_auto_flow": null,
            "grid_auto_rows": null,
            "grid_column": null,
            "grid_gap": null,
            "grid_row": null,
            "grid_template_areas": null,
            "grid_template_columns": null,
            "grid_template_rows": null,
            "height": null,
            "justify_content": null,
            "justify_items": null,
            "left": null,
            "margin": null,
            "max_height": null,
            "max_width": null,
            "min_height": null,
            "min_width": null,
            "object_fit": null,
            "object_position": null,
            "order": null,
            "overflow": null,
            "overflow_x": null,
            "overflow_y": null,
            "padding": null,
            "right": null,
            "top": null,
            "visibility": null,
            "width": null
          }
        },
        "155d61c5e7484726b8cfb61764256023": {
          "model_module": "@jupyter-widgets/controls",
          "model_name": "DescriptionStyleModel",
          "model_module_version": "1.5.0",
          "state": {
            "_model_module": "@jupyter-widgets/controls",
            "_model_module_version": "1.5.0",
            "_model_name": "DescriptionStyleModel",
            "_view_count": null,
            "_view_module": "@jupyter-widgets/base",
            "_view_module_version": "1.2.0",
            "_view_name": "StyleView",
            "description_width": ""
          }
        },
        "c9963f2c79da434facdaf9028726f608": {
          "model_module": "@jupyter-widgets/controls",
          "model_name": "HBoxModel",
          "model_module_version": "1.5.0",
          "state": {
            "_dom_classes": [],
            "_model_module": "@jupyter-widgets/controls",
            "_model_module_version": "1.5.0",
            "_model_name": "HBoxModel",
            "_view_count": null,
            "_view_module": "@jupyter-widgets/controls",
            "_view_module_version": "1.5.0",
            "_view_name": "HBoxView",
            "box_style": "",
            "children": [
              "IPY_MODEL_5d78ce16f9c645de85384d0c21011de3",
              "IPY_MODEL_0bd5912922ea4855bf91613220778d1e",
              "IPY_MODEL_2562354916ad45b2a9ede266e5d3c79f"
            ],
            "layout": "IPY_MODEL_27268523335c42db93ec0816e7a79c73"
          }
        },
        "5d78ce16f9c645de85384d0c21011de3": {
          "model_module": "@jupyter-widgets/controls",
          "model_name": "HTMLModel",
          "model_module_version": "1.5.0",
          "state": {
            "_dom_classes": [],
            "_model_module": "@jupyter-widgets/controls",
            "_model_module_version": "1.5.0",
            "_model_name": "HTMLModel",
            "_view_count": null,
            "_view_module": "@jupyter-widgets/controls",
            "_view_module_version": "1.5.0",
            "_view_name": "HTMLView",
            "description": "",
            "description_tooltip": null,
            "layout": "IPY_MODEL_881d674decc94abea9dc0d5fee4dd350",
            "placeholder": "​",
            "style": "IPY_MODEL_3b8818b155614ef7a31f4643944cce46",
            "value": "100%"
          }
        },
        "0bd5912922ea4855bf91613220778d1e": {
          "model_module": "@jupyter-widgets/controls",
          "model_name": "FloatProgressModel",
          "model_module_version": "1.5.0",
          "state": {
            "_dom_classes": [],
            "_model_module": "@jupyter-widgets/controls",
            "_model_module_version": "1.5.0",
            "_model_name": "FloatProgressModel",
            "_view_count": null,
            "_view_module": "@jupyter-widgets/controls",
            "_view_module_version": "1.5.0",
            "_view_name": "ProgressView",
            "bar_style": "success",
            "description": "",
            "description_tooltip": null,
            "layout": "IPY_MODEL_8ec9e68b622f428090674d5d85cbb189",
            "max": 170498071,
            "min": 0,
            "orientation": "horizontal",
            "style": "IPY_MODEL_a9e5b5a9b0724e6e9744cd485d774ae5",
            "value": 170498071
          }
        },
        "2562354916ad45b2a9ede266e5d3c79f": {
          "model_module": "@jupyter-widgets/controls",
          "model_name": "HTMLModel",
          "model_module_version": "1.5.0",
          "state": {
            "_dom_classes": [],
            "_model_module": "@jupyter-widgets/controls",
            "_model_module_version": "1.5.0",
            "_model_name": "HTMLModel",
            "_view_count": null,
            "_view_module": "@jupyter-widgets/controls",
            "_view_module_version": "1.5.0",
            "_view_name": "HTMLView",
            "description": "",
            "description_tooltip": null,
            "layout": "IPY_MODEL_6ca76318f6a54727917c2216ea91ef8b",
            "placeholder": "​",
            "style": "IPY_MODEL_da816d2f5f894c02a1b0b0c909310f8d",
            "value": " 170498071/170498071 [00:10&lt;00:00, 18161419.88it/s]"
          }
        },
        "27268523335c42db93ec0816e7a79c73": {
          "model_module": "@jupyter-widgets/base",
          "model_name": "LayoutModel",
          "model_module_version": "1.2.0",
          "state": {
            "_model_module": "@jupyter-widgets/base",
            "_model_module_version": "1.2.0",
            "_model_name": "LayoutModel",
            "_view_count": null,
            "_view_module": "@jupyter-widgets/base",
            "_view_module_version": "1.2.0",
            "_view_name": "LayoutView",
            "align_content": null,
            "align_items": null,
            "align_self": null,
            "border": null,
            "bottom": null,
            "display": null,
            "flex": null,
            "flex_flow": null,
            "grid_area": null,
            "grid_auto_columns": null,
            "grid_auto_flow": null,
            "grid_auto_rows": null,
            "grid_column": null,
            "grid_gap": null,
            "grid_row": null,
            "grid_template_areas": null,
            "grid_template_columns": null,
            "grid_template_rows": null,
            "height": null,
            "justify_content": null,
            "justify_items": null,
            "left": null,
            "margin": null,
            "max_height": null,
            "max_width": null,
            "min_height": null,
            "min_width": null,
            "object_fit": null,
            "object_position": null,
            "order": null,
            "overflow": null,
            "overflow_x": null,
            "overflow_y": null,
            "padding": null,
            "right": null,
            "top": null,
            "visibility": null,
            "width": null
          }
        },
        "881d674decc94abea9dc0d5fee4dd350": {
          "model_module": "@jupyter-widgets/base",
          "model_name": "LayoutModel",
          "model_module_version": "1.2.0",
          "state": {
            "_model_module": "@jupyter-widgets/base",
            "_model_module_version": "1.2.0",
            "_model_name": "LayoutModel",
            "_view_count": null,
            "_view_module": "@jupyter-widgets/base",
            "_view_module_version": "1.2.0",
            "_view_name": "LayoutView",
            "align_content": null,
            "align_items": null,
            "align_self": null,
            "border": null,
            "bottom": null,
            "display": null,
            "flex": null,
            "flex_flow": null,
            "grid_area": null,
            "grid_auto_columns": null,
            "grid_auto_flow": null,
            "grid_auto_rows": null,
            "grid_column": null,
            "grid_gap": null,
            "grid_row": null,
            "grid_template_areas": null,
            "grid_template_columns": null,
            "grid_template_rows": null,
            "height": null,
            "justify_content": null,
            "justify_items": null,
            "left": null,
            "margin": null,
            "max_height": null,
            "max_width": null,
            "min_height": null,
            "min_width": null,
            "object_fit": null,
            "object_position": null,
            "order": null,
            "overflow": null,
            "overflow_x": null,
            "overflow_y": null,
            "padding": null,
            "right": null,
            "top": null,
            "visibility": null,
            "width": null
          }
        },
        "3b8818b155614ef7a31f4643944cce46": {
          "model_module": "@jupyter-widgets/controls",
          "model_name": "DescriptionStyleModel",
          "model_module_version": "1.5.0",
          "state": {
            "_model_module": "@jupyter-widgets/controls",
            "_model_module_version": "1.5.0",
            "_model_name": "DescriptionStyleModel",
            "_view_count": null,
            "_view_module": "@jupyter-widgets/base",
            "_view_module_version": "1.2.0",
            "_view_name": "StyleView",
            "description_width": ""
          }
        },
        "8ec9e68b622f428090674d5d85cbb189": {
          "model_module": "@jupyter-widgets/base",
          "model_name": "LayoutModel",
          "model_module_version": "1.2.0",
          "state": {
            "_model_module": "@jupyter-widgets/base",
            "_model_module_version": "1.2.0",
            "_model_name": "LayoutModel",
            "_view_count": null,
            "_view_module": "@jupyter-widgets/base",
            "_view_module_version": "1.2.0",
            "_view_name": "LayoutView",
            "align_content": null,
            "align_items": null,
            "align_self": null,
            "border": null,
            "bottom": null,
            "display": null,
            "flex": null,
            "flex_flow": null,
            "grid_area": null,
            "grid_auto_columns": null,
            "grid_auto_flow": null,
            "grid_auto_rows": null,
            "grid_column": null,
            "grid_gap": null,
            "grid_row": null,
            "grid_template_areas": null,
            "grid_template_columns": null,
            "grid_template_rows": null,
            "height": null,
            "justify_content": null,
            "justify_items": null,
            "left": null,
            "margin": null,
            "max_height": null,
            "max_width": null,
            "min_height": null,
            "min_width": null,
            "object_fit": null,
            "object_position": null,
            "order": null,
            "overflow": null,
            "overflow_x": null,
            "overflow_y": null,
            "padding": null,
            "right": null,
            "top": null,
            "visibility": null,
            "width": null
          }
        },
        "a9e5b5a9b0724e6e9744cd485d774ae5": {
          "model_module": "@jupyter-widgets/controls",
          "model_name": "ProgressStyleModel",
          "model_module_version": "1.5.0",
          "state": {
            "_model_module": "@jupyter-widgets/controls",
            "_model_module_version": "1.5.0",
            "_model_name": "ProgressStyleModel",
            "_view_count": null,
            "_view_module": "@jupyter-widgets/base",
            "_view_module_version": "1.2.0",
            "_view_name": "StyleView",
            "bar_color": null,
            "description_width": ""
          }
        },
        "6ca76318f6a54727917c2216ea91ef8b": {
          "model_module": "@jupyter-widgets/base",
          "model_name": "LayoutModel",
          "model_module_version": "1.2.0",
          "state": {
            "_model_module": "@jupyter-widgets/base",
            "_model_module_version": "1.2.0",
            "_model_name": "LayoutModel",
            "_view_count": null,
            "_view_module": "@jupyter-widgets/base",
            "_view_module_version": "1.2.0",
            "_view_name": "LayoutView",
            "align_content": null,
            "align_items": null,
            "align_self": null,
            "border": null,
            "bottom": null,
            "display": null,
            "flex": null,
            "flex_flow": null,
            "grid_area": null,
            "grid_auto_columns": null,
            "grid_auto_flow": null,
            "grid_auto_rows": null,
            "grid_column": null,
            "grid_gap": null,
            "grid_row": null,
            "grid_template_areas": null,
            "grid_template_columns": null,
            "grid_template_rows": null,
            "height": null,
            "justify_content": null,
            "justify_items": null,
            "left": null,
            "margin": null,
            "max_height": null,
            "max_width": null,
            "min_height": null,
            "min_width": null,
            "object_fit": null,
            "object_position": null,
            "order": null,
            "overflow": null,
            "overflow_x": null,
            "overflow_y": null,
            "padding": null,
            "right": null,
            "top": null,
            "visibility": null,
            "width": null
          }
        },
        "da816d2f5f894c02a1b0b0c909310f8d": {
          "model_module": "@jupyter-widgets/controls",
          "model_name": "DescriptionStyleModel",
          "model_module_version": "1.5.0",
          "state": {
            "_model_module": "@jupyter-widgets/controls",
            "_model_module_version": "1.5.0",
            "_model_name": "DescriptionStyleModel",
            "_view_count": null,
            "_view_module": "@jupyter-widgets/base",
            "_view_module_version": "1.2.0",
            "_view_name": "StyleView",
            "description_width": ""
          }
        }
      }
    },
    "accelerator": "GPU"
  },
  "cells": [
    {
      "cell_type": "markdown",
      "metadata": {
        "id": "5NwLQOFMMlev"
      },
      "source": [
        "# Computer Vision Assignment 1 Part 1\n",
        "---\n",
        "\n",
        "Semester: **Fall 2022**\n",
        "\n",
        "Due date: **September 29th 2022, 11.59PM EST.**\n",
        "\n",
        "## Introduction\n",
        "---\n",
        "\n",
        "This assignment is an introduction to using PyTorch for training simple neural net models. Two different datasets will be used: \n",
        "- MNIST (handwritten digits)\n",
        "- CIFAR-10 (32x32 resolution color images of 10 object classes)\n",
        "\n",
        "## Instructions\n",
        "---\n",
        "\n",
        "You should perform this assignment using Google Colab. \n",
        "* Before starting, clone this assignment using `File > Save a copy in Drive`. \n",
        "* After you're done, go through the notebook and ensure that you have answered all questions.\n",
        "* Finally, submit the ipynb `File > Download > Download .ipynb` on brightspace\n",
        "\n",
        "\n",
        "## 1. Warmup [5%]\n",
        "---\n",
        "\n",
        "It is always good practice to visually inspect your data before trying to train a model, since it lets you check for problems and get a feel for the task at hand. MNIST is a dataset of 70,000 grayscale hand-written digits (0 through 9).\n",
        "60,000 of these are training images. 10,000 are a held out test set. On the other hand, CIFAR-10 is a dataset of 60,000 color images (32 by 32 resolution) across 10 classes (airplane, automobile, bird, cat, deer, dog, frog, horse, ship, truck). The train/test split is 50k/10k.\n",
        "\n",
        "* (a) Display 10 random images from each class of MNIST\n",
        "* (b) Do the same for each class of CIFAR-10\n",
        "\n",
        "Use `matplotlib` and ipython notebook's visualization capabilities. See [this PyTorch tutorial page](http://pytorch.org/tutorials/beginner/blitz/cifar10_tutorial.html) for hints on how to achieve this.\n",
        "\n",
        "## 2. Training a Single Layer Network on MNIST [10%]\n",
        "---\n",
        "\n",
        "* (a) Start by running the training on MNIST.\n",
        "By default if you run this notebook successfully, it will train on MNIST.\n",
        "\n",
        "This will initialize a single layer model and train it on the 60,000 MNIST training images for 1 epoch (passes through the training data). The loss function ([cross_entropy](http://pytorch.org/docs/master/nn.html?highlight=cross_entropy#torch.nn.functional.cross_entropy)) computes a Logarithm of the Softmax on the output of the neural network, and then computes the negative log-likelihood w.r.t. the given `target`. The default values for the learning rate, batch size and number of epochs are given in the `options` cell of this notebook. Unless otherwise specified, use the default values throughout this assignment. Note the decrease in training loss and corresponding decrease in validation errors.\n",
        "\n",
        "* (b): Add code to plot out the network weights as images (one for each output, of size 28 by 28) after the last epoch. (Hint threads: [#1](https://discuss.pytorch.org/t/understanding-deep-network-visualize-weights/2060/2?u=smth) [#2](https://github.com/pytorch/vision#utils) )\n",
        "\n",
        "* (c): Reduce the number of training examples to just 50. (Hint: limit the iterator in the `train` function) and train the model until the loss converges. Explain what is happening to the model.\n",
        "\n",
        "## 3. Training a Multi-Layer Network on MNIST [10%]\n",
        "---\n",
        "\n",
        "* (a) Add an extra layer with 1000 hidden units and a `tanh` nonlinearity. (Hint: modify the `Net` class). Train the model for 10 epochs.\n",
        "* (b) Now set the learning rate to 10 and observe what happens during training. Give a brief explanation of your observations\n",
        "\n",
        "## 4. Training a Convolutional Network on CIFAR [25%]\n",
        "---\n",
        "\n",
        "To change over to the CIFAR-10 dataset, change the `options` cell's `dataset` variable to `'cifar10'`.\n",
        "\n",
        "- (a) Create a convolutional network with the following architecture:\n",
        "  - Convolution with 5 by 5 filters, 16 feature maps + Tanh nonlinearity.\n",
        "  - 2 by 2 max pooling (non-overlapping).\n",
        "  - Convolution with 5 by 5 filters, 128 feature maps + Tanh nonlinearity.\n",
        "  - 2 by 2 max pooling (non-overlapping).\n",
        "  - Flatten to vector.\n",
        "  - Linear layer with 64 hidden units + Tanh nonlinearity.\n",
        "  - Linear layer to 10 output units.\n",
        "\n",
        "* (b) Train it for 20 epochs on the CIFAR-10 training set. Show an image of the first layer filters.\n",
        "\n",
        "* (c) Give a breakdown of the parameters within the above model, and the overall number.\n",
        "\n",
        "Hints: [Follow the first PyTorch tutorial](http://pytorch.org/tutorials/beginner/blitz/neural_networks_tutorial.html) or look at the [MNIST example](https://github.com/pytorch/examples/tree/master/mnist). Also, you may speed up training if you use a GPU runtime (`RunTime > Change Runtime Type > GPU`)."
      ]
    },
    {
      "cell_type": "markdown",
      "source": [
        "Initialization and imports"
      ],
      "metadata": {
        "id": "z9HlzKhwHe7U"
      }
    },
    {
      "cell_type": "code",
      "metadata": {
        "id": "CrnqiscEKGWv"
      },
      "source": [
        "# Imports\n",
        "import torch\n",
        "import torch.nn as nn\n",
        "import torch.nn.functional as F\n",
        "import torch.optim as optim\n",
        "from torchvision import datasets, transforms"
      ],
      "execution_count": null,
      "outputs": []
    },
    {
      "cell_type": "code",
      "metadata": {
        "id": "V0NBWksLKRD7"
      },
      "source": [
        "# Options\n",
        "dataset = 'mnist' # options: 'mnist' | 'cifar10'\n",
        "batch_size = 64   # input batch size for training\n",
        "epochs = 10       # number of epochs to train\n",
        "lr = 0.01        # learning rate"
      ],
      "execution_count": null,
      "outputs": []
    },
    {
      "cell_type": "code",
      "source": [],
      "metadata": {
        "id": "W4DfcwmHFhtU"
      },
      "execution_count": null,
      "outputs": []
    },
    {
      "cell_type": "code",
      "metadata": {
        "id": "ab7pqvGUKVVf",
        "colab": {
          "base_uri": "https://localhost:8080/",
          "height": 423,
          "referenced_widgets": [
            "c4869bd02b024d1e847b3c65690125e9",
            "8a3fed9d89394ce4b0c03f5b812826fe",
            "63ca2945e6ae41ba9fc4361ff4cb9edc",
            "132a48df87f94fcb9a8d428d7d358439",
            "fa28153fb50a4778b57f57a92da147bb",
            "0d99ffd28cb24ea8b23d603bb1942fe2",
            "f8355a1ee86d433e811ce0ef8ad0aee0",
            "bbf24ba5265d46f49e73a9ea0c27c4d1",
            "71d3ece5d61842c48d4e90411078c435",
            "d8fda20b68e54638bd82a86f162bf3c3",
            "c347c139b3c941eb97cf2834a8cd112e",
            "3796a01e095d4225a6c192c6688b8f88",
            "60fa58e60ccc42b393f6b1afac5eca41",
            "115b1d71e67d48c29f5e7102b878945e",
            "966d91c1ad0a45548e4c59af14dc527b",
            "c264134a9a9c4b06bf6ee68a0d04a0c7",
            "e6a3fd68584149bb92fae1e42fc4c9c9",
            "57661ca20361441f82b6788478094710",
            "9173c4d5276744efb7bd88a2ca33e642",
            "58c7711d473e495c8814588212507814",
            "a17e090018894bf78b9185497f2730f6",
            "c128f4216cbd40b792f33a36482eb2e6",
            "c30d025dd8ec43a2af68ea6a1fedc21b",
            "7452ebe0f2dd41dd84b9fa1cb06ff0a2",
            "2c0116e5b6fc46e8910a8ccf39f35ccf",
            "60f1f5f2b82a4653b176da2064c05129",
            "46b8b3385e0344dda9d34f0c600b6d08",
            "d5b986e5610845baaac1861d056bbf36",
            "b7c597a124e741d496f0a033eed5c49e",
            "0812b10493b347c1aa5df1da06305821",
            "2df1e1a6d17d48ffbc96233cd561b6ac",
            "98130dc2fdc542d7b53b6c67de9bfffb",
            "84bb1fb4dc394d158aeb036503064c9f",
            "c45a5b73f06a4e08a16bc8fcaf74ab18",
            "67a31f8237244ab182da6859d44bf865",
            "08b2642737354553b3ce1ab37904d1ba",
            "0198e3dce0ee4d40bf1f2f72204995c3",
            "2d8bbd4cc8dc4fe7aa4d632b50d4451c",
            "5e1075848fcf40899bcf576606a11cef",
            "d178ac0075ab423f835c921777f8d273",
            "a9b0328b4fde49d5b9d11495a55e202d",
            "94af765f59734acabdd58d7f3cd27498",
            "4df70e73085b498b958869560b7744aa",
            "90d07fd3bac7446aa57fb69aaf0c4cc8"
          ]
        },
        "outputId": "65444bcc-b479-4963-b131-d6d45d2c22c5"
      },
      "source": [
        "# Data Loading\n",
        "# This cell might take some time when you run it for the first time, \n",
        "# because it will download the datasets from the internet\n",
        "if dataset == 'mnist':\n",
        "    data_transform = transforms.Compose([\n",
        "        transforms.ToTensor(),\n",
        "        transforms.Normalize((0.1307,), (0.3081,))\n",
        "    ])\n",
        "    trainset = datasets.MNIST(root='.', train=True, download=True, transform=data_transform)\n",
        "    testset = datasets.MNIST(root='.', train=False, download=True, transform=data_transform)\n",
        "\n",
        "elif dataset == 'cifar10':\n",
        "    data_transform = transforms.Compose([\n",
        "        transforms.ToTensor(),\n",
        "        transforms.Normalize((0.5, 0.5, 0.5), (0.5, 0.5, 0.5)),\n",
        "    ])\n",
        "    trainset = datasets.CIFAR10(root='.', train=True, download=True, transform=data_transform)\n",
        "    testset = datasets.CIFAR10(root='.', train=False, download=True, transform=data_transform)\n",
        "\n",
        "train_loader = torch.utils.data.DataLoader(trainset, batch_size=batch_size, shuffle=True, num_workers=0)\n",
        "test_loader  = torch.utils.data.DataLoader(testset, batch_size=batch_size, shuffle=False, num_workers=0)"
      ],
      "execution_count": null,
      "outputs": [
        {
          "output_type": "stream",
          "name": "stdout",
          "text": [
            "Downloading http://yann.lecun.com/exdb/mnist/train-images-idx3-ubyte.gz\n",
            "Downloading http://yann.lecun.com/exdb/mnist/train-images-idx3-ubyte.gz to ./MNIST/raw/train-images-idx3-ubyte.gz\n"
          ]
        },
        {
          "output_type": "display_data",
          "data": {
            "text/plain": [
              "  0%|          | 0/9912422 [00:00<?, ?it/s]"
            ],
            "application/vnd.jupyter.widget-view+json": {
              "version_major": 2,
              "version_minor": 0,
              "model_id": "c4869bd02b024d1e847b3c65690125e9"
            }
          },
          "metadata": {}
        },
        {
          "output_type": "stream",
          "name": "stdout",
          "text": [
            "Extracting ./MNIST/raw/train-images-idx3-ubyte.gz to ./MNIST/raw\n",
            "\n",
            "Downloading http://yann.lecun.com/exdb/mnist/train-labels-idx1-ubyte.gz\n",
            "Downloading http://yann.lecun.com/exdb/mnist/train-labels-idx1-ubyte.gz to ./MNIST/raw/train-labels-idx1-ubyte.gz\n"
          ]
        },
        {
          "output_type": "display_data",
          "data": {
            "text/plain": [
              "  0%|          | 0/28881 [00:00<?, ?it/s]"
            ],
            "application/vnd.jupyter.widget-view+json": {
              "version_major": 2,
              "version_minor": 0,
              "model_id": "3796a01e095d4225a6c192c6688b8f88"
            }
          },
          "metadata": {}
        },
        {
          "output_type": "stream",
          "name": "stdout",
          "text": [
            "Extracting ./MNIST/raw/train-labels-idx1-ubyte.gz to ./MNIST/raw\n",
            "\n",
            "Downloading http://yann.lecun.com/exdb/mnist/t10k-images-idx3-ubyte.gz\n",
            "Downloading http://yann.lecun.com/exdb/mnist/t10k-images-idx3-ubyte.gz to ./MNIST/raw/t10k-images-idx3-ubyte.gz\n"
          ]
        },
        {
          "output_type": "display_data",
          "data": {
            "text/plain": [
              "  0%|          | 0/1648877 [00:00<?, ?it/s]"
            ],
            "application/vnd.jupyter.widget-view+json": {
              "version_major": 2,
              "version_minor": 0,
              "model_id": "c30d025dd8ec43a2af68ea6a1fedc21b"
            }
          },
          "metadata": {}
        },
        {
          "output_type": "stream",
          "name": "stdout",
          "text": [
            "Extracting ./MNIST/raw/t10k-images-idx3-ubyte.gz to ./MNIST/raw\n",
            "\n",
            "Downloading http://yann.lecun.com/exdb/mnist/t10k-labels-idx1-ubyte.gz\n",
            "Downloading http://yann.lecun.com/exdb/mnist/t10k-labels-idx1-ubyte.gz to ./MNIST/raw/t10k-labels-idx1-ubyte.gz\n"
          ]
        },
        {
          "output_type": "display_data",
          "data": {
            "text/plain": [
              "  0%|          | 0/4542 [00:00<?, ?it/s]"
            ],
            "application/vnd.jupyter.widget-view+json": {
              "version_major": 2,
              "version_minor": 0,
              "model_id": "c45a5b73f06a4e08a16bc8fcaf74ab18"
            }
          },
          "metadata": {}
        },
        {
          "output_type": "stream",
          "name": "stdout",
          "text": [
            "Extracting ./MNIST/raw/t10k-labels-idx1-ubyte.gz to ./MNIST/raw\n",
            "\n"
          ]
        }
      ]
    },
    {
      "cell_type": "code",
      "source": [],
      "metadata": {
        "id": "YApyhh19A1FC"
      },
      "execution_count": null,
      "outputs": []
    },
    {
      "cell_type": "markdown",
      "source": [
        "# Part 1\n"
      ],
      "metadata": {
        "id": "pPxVEp630JMj"
      }
    },
    {
      "cell_type": "code",
      "source": [
        "len(trainset[0])"
      ],
      "metadata": {
        "colab": {
          "base_uri": "https://localhost:8080/"
        },
        "id": "huhsKzeCFsV8",
        "outputId": "d2a5bc35-a9ff-4d45-e1f1-311b755ae820"
      },
      "execution_count": null,
      "outputs": [
        {
          "output_type": "execute_result",
          "data": {
            "text/plain": [
              "2"
            ]
          },
          "metadata": {},
          "execution_count": 4
        }
      ]
    },
    {
      "cell_type": "code",
      "source": [
        "trainset[0][0].shape"
      ],
      "metadata": {
        "colab": {
          "base_uri": "https://localhost:8080/"
        },
        "id": "NzVIDV8sGAG9",
        "outputId": "b612bedf-0831-4c8d-d2f2-04132aafcb49"
      },
      "execution_count": null,
      "outputs": [
        {
          "output_type": "execute_result",
          "data": {
            "text/plain": [
              "torch.Size([1, 28, 28])"
            ]
          },
          "metadata": {},
          "execution_count": 5
        }
      ]
    },
    {
      "cell_type": "code",
      "source": [
        "trainset[0][1]"
      ],
      "metadata": {
        "colab": {
          "base_uri": "https://localhost:8080/"
        },
        "id": "-ABttoJTGLtx",
        "outputId": "b1bfca99-8ba7-4c84-f6a1-cf567e45afc0"
      },
      "execution_count": null,
      "outputs": [
        {
          "output_type": "execute_result",
          "data": {
            "text/plain": [
              "5"
            ]
          },
          "metadata": {},
          "execution_count": 6
        }
      ]
    },
    {
      "cell_type": "code",
      "source": [
        "mnist_data_transform = transforms.Compose([\n",
        "        transforms.ToTensor(),\n",
        "        transforms.Normalize((0.1307,), (0.3081,))\n",
        "    ])\n",
        "  \n",
        "mnist_trainset = datasets.MNIST(root='.', train=True, download = True,  transform=mnist_data_transform)\n",
        "\n",
        "cifar_data_transform = transforms.Compose([\n",
        "        transforms.ToTensor(),\n",
        "        transforms.Normalize((0.5, 0.5, 0.5), (0.5, 0.5, 0.5)),\n",
        "    ])\n",
        "  \n",
        "cifar_trainset = datasets.CIFAR10(root='.', train=True, download = True,  transform=cifar_data_transform)\n",
        "\n",
        "mnist_ids = {}\n",
        "cifar_ids = {}\n",
        "unique_mnist = [0]*10\n",
        "unique_cifar = [0]*10\n",
        "\n",
        "for i in range(10):\n",
        "  mnist_ids[i] = []\n",
        "\n",
        "\n",
        "for i in range(10):\n",
        "  cifar_ids[i] = []\n",
        "\n",
        "\n",
        "for i in range(len(mnist_trainset)):\n",
        "   mnist_ids[mnist_trainset[i][1]].append(i)  \n",
        "   \n",
        "   \n",
        "\n",
        "for i in range(len(cifar_trainset)):\n",
        "     cifar_ids[cifar_trainset[i][1]].append(i)  \n",
        "   \n",
        "    \n",
        "\n",
        "\n",
        "\n",
        "\n",
        "   \n",
        "   \n",
        "\n",
        "\n",
        "\n",
        "\n"
      ],
      "metadata": {
        "colab": {
          "base_uri": "https://localhost:8080/",
          "height": 489,
          "referenced_widgets": [
            "bc2ec7b595a943648fabeb6946ea07c7",
            "fd9d40b1caf04fceb737daebed342f90",
            "dd43a181210444cbb4e8b7a4ccbc0651",
            "dfe3f18dcc8b4474a828bd102317b146",
            "20ab65cc4abb429080a2e542d0f2348c",
            "58faf61ee0fc49e6a991b6041ec542a1",
            "5abe2617f68448c08eacc061ceb70840",
            "e9ee67db6eea4516a588ea1225c150a7",
            "1e4ed62f705b47599d6b1c7762705604",
            "7825e14ea9164aae8788e3daa028e6e0",
            "a4463ee1019f456796b24c4f2af8c4b3",
            "83265719501c4752a7a2c81dda5525da",
            "25ccf846baea435dbc71943e6afdefdb",
            "c115766cc7f5420b9078a32dc37aef1e",
            "59ab17cdf4d44f35a2825efeeaef9073",
            "2b7a0fd6e1e54e73a237fbf3063475c4",
            "2a9472cd99674d949cdf185fb9f07424",
            "98a513afe3224a6992ff440a236738bc",
            "8bd6fcf1fb2d4f7aa34689314c722dca",
            "79112704837349edb8804b588a0136c0",
            "bbc07bb6d56849c6bab3c18b97f87070",
            "35cb21faee55479fa552b04d3c5ac486",
            "c85fce8d93514b758bd72672efda74d8",
            "ccd6151f1da8422e9dbccf6f87a599ba",
            "6c134a6fb9914f7b9dd34766781f98ca",
            "9ea374c71aa146159eb17ce38d85fa39",
            "87a3b9cd788942949be1ed6a1553837c",
            "880a97a016d143f5a80fbe19cce3fa70",
            "b8e0793a82b0492b9d6eab088d3fae52",
            "a0d27a47e8164696a6e47df1dab0ffe3",
            "42ea37e03c35408ab0fde0003dfe0f31",
            "b421452cd20f4cb18aa25b9870eb90d8",
            "557b3a5480034b809fca17a108ace0f2",
            "97b8a485f45c4179921a0d9f9abf45f7",
            "d3bbfaa4d4db49dc945b2f421bbd5248",
            "916c89921666424cab6c8048f49a2d88",
            "535f60efe50b4a788d475dc0ce3ce567",
            "de16a894aa5d41ca81d24f188d249610",
            "d6071ecfffd346f59145b67218a19d7d",
            "29073ce6faa24e42a825976fd8077d0d",
            "d4b13ac859834dd69318eb7a6a8d3fa2",
            "d4315e0080014a4fa15b10f43b0c558b",
            "461e47762b0c464aaa2571f8c4426e3c",
            "155d61c5e7484726b8cfb61764256023",
            "c9963f2c79da434facdaf9028726f608",
            "5d78ce16f9c645de85384d0c21011de3",
            "0bd5912922ea4855bf91613220778d1e",
            "2562354916ad45b2a9ede266e5d3c79f",
            "27268523335c42db93ec0816e7a79c73",
            "881d674decc94abea9dc0d5fee4dd350",
            "3b8818b155614ef7a31f4643944cce46",
            "8ec9e68b622f428090674d5d85cbb189",
            "a9e5b5a9b0724e6e9744cd485d774ae5",
            "6ca76318f6a54727917c2216ea91ef8b",
            "da816d2f5f894c02a1b0b0c909310f8d"
          ]
        },
        "id": "6MZcezoSGvIS",
        "outputId": "d9be9aad-af2f-4c79-dc0b-3306527bd058"
      },
      "execution_count": null,
      "outputs": [
        {
          "output_type": "stream",
          "name": "stdout",
          "text": [
            "Downloading http://yann.lecun.com/exdb/mnist/train-images-idx3-ubyte.gz\n",
            "Downloading http://yann.lecun.com/exdb/mnist/train-images-idx3-ubyte.gz to ./MNIST/raw/train-images-idx3-ubyte.gz\n"
          ]
        },
        {
          "output_type": "display_data",
          "data": {
            "text/plain": [
              "  0%|          | 0/9912422 [00:00<?, ?it/s]"
            ],
            "application/vnd.jupyter.widget-view+json": {
              "version_major": 2,
              "version_minor": 0,
              "model_id": "bc2ec7b595a943648fabeb6946ea07c7"
            }
          },
          "metadata": {}
        },
        {
          "output_type": "stream",
          "name": "stdout",
          "text": [
            "Extracting ./MNIST/raw/train-images-idx3-ubyte.gz to ./MNIST/raw\n",
            "\n",
            "Downloading http://yann.lecun.com/exdb/mnist/train-labels-idx1-ubyte.gz\n",
            "Downloading http://yann.lecun.com/exdb/mnist/train-labels-idx1-ubyte.gz to ./MNIST/raw/train-labels-idx1-ubyte.gz\n"
          ]
        },
        {
          "output_type": "display_data",
          "data": {
            "text/plain": [
              "  0%|          | 0/28881 [00:00<?, ?it/s]"
            ],
            "application/vnd.jupyter.widget-view+json": {
              "version_major": 2,
              "version_minor": 0,
              "model_id": "83265719501c4752a7a2c81dda5525da"
            }
          },
          "metadata": {}
        },
        {
          "output_type": "stream",
          "name": "stdout",
          "text": [
            "Extracting ./MNIST/raw/train-labels-idx1-ubyte.gz to ./MNIST/raw\n",
            "\n",
            "Downloading http://yann.lecun.com/exdb/mnist/t10k-images-idx3-ubyte.gz\n",
            "Downloading http://yann.lecun.com/exdb/mnist/t10k-images-idx3-ubyte.gz to ./MNIST/raw/t10k-images-idx3-ubyte.gz\n"
          ]
        },
        {
          "output_type": "display_data",
          "data": {
            "text/plain": [
              "  0%|          | 0/1648877 [00:00<?, ?it/s]"
            ],
            "application/vnd.jupyter.widget-view+json": {
              "version_major": 2,
              "version_minor": 0,
              "model_id": "c85fce8d93514b758bd72672efda74d8"
            }
          },
          "metadata": {}
        },
        {
          "output_type": "stream",
          "name": "stdout",
          "text": [
            "Extracting ./MNIST/raw/t10k-images-idx3-ubyte.gz to ./MNIST/raw\n",
            "\n",
            "Downloading http://yann.lecun.com/exdb/mnist/t10k-labels-idx1-ubyte.gz\n",
            "Downloading http://yann.lecun.com/exdb/mnist/t10k-labels-idx1-ubyte.gz to ./MNIST/raw/t10k-labels-idx1-ubyte.gz\n"
          ]
        },
        {
          "output_type": "display_data",
          "data": {
            "text/plain": [
              "  0%|          | 0/4542 [00:00<?, ?it/s]"
            ],
            "application/vnd.jupyter.widget-view+json": {
              "version_major": 2,
              "version_minor": 0,
              "model_id": "97b8a485f45c4179921a0d9f9abf45f7"
            }
          },
          "metadata": {}
        },
        {
          "output_type": "stream",
          "name": "stdout",
          "text": [
            "Extracting ./MNIST/raw/t10k-labels-idx1-ubyte.gz to ./MNIST/raw\n",
            "\n",
            "Downloading https://www.cs.toronto.edu/~kriz/cifar-10-python.tar.gz to ./cifar-10-python.tar.gz\n"
          ]
        },
        {
          "output_type": "display_data",
          "data": {
            "text/plain": [
              "  0%|          | 0/170498071 [00:00<?, ?it/s]"
            ],
            "application/vnd.jupyter.widget-view+json": {
              "version_major": 2,
              "version_minor": 0,
              "model_id": "c9963f2c79da434facdaf9028726f608"
            }
          },
          "metadata": {}
        },
        {
          "output_type": "stream",
          "name": "stdout",
          "text": [
            "Extracting ./cifar-10-python.tar.gz to .\n"
          ]
        }
      ]
    },
    {
      "cell_type": "code",
      "source": [
        "import matplotlib.pyplot as plt"
      ],
      "metadata": {
        "id": "JiZmGejLQ7sL"
      },
      "execution_count": null,
      "outputs": []
    },
    {
      "cell_type": "code",
      "source": [
        "\n",
        "fig,axes = plt.subplots(1,10)\n",
        "x = mnist_ids[0]\n",
        "\n",
        "for i in range(10):\n",
        "        axes[i].imshow(mnist_trainset[mnist_ids[0][i]][0].squeeze())\n"
      ],
      "metadata": {
        "colab": {
          "base_uri": "https://localhost:8080/",
          "height": 80
        },
        "id": "_dLhSTy9UbHi",
        "outputId": "7967f237-f209-40ef-b380-17baa39192df"
      },
      "execution_count": null,
      "outputs": [
        {
          "output_type": "display_data",
          "data": {
            "text/plain": [
              "<Figure size 432x288 with 10 Axes>"
            ],
            "image/png": "[encoded data removed]"
          },
          "metadata": {
            "needs_background": "light"
          }
        }
      ]
    },
    {
      "cell_type": "code",
      "source": [
        "\n",
        "fig,axes = plt.subplots(10,10)\n",
        "x = mnist_ids[0]\n",
        "\n",
        "for j in range(10):\n",
        "\n",
        "  for i in range(10):\n",
        "         axes[i,j].imshow(mnist_trainset[mnist_ids[j][i]][0].squeeze())\n",
        "         \n",
        "         axes[i,j].axes.xaxis.set_visible(False)\n",
        "         axes[i,j].axes.yaxis.set_visible(False)"
      ],
      "metadata": {
        "colab": {
          "base_uri": "https://localhost:8080/",
          "height": 252
        },
        "id": "9Kxkfyn2xuLq",
        "outputId": "29cd4386-0ab1-4eb9-9cab-59ee8cb1c1cd"
      },
      "execution_count": null,
      "outputs": [
        {
          "output_type": "display_data",
          "data": {
            "text/plain": [
              "<Figure size 432x288 with 100 Axes>"
            ],
            "image/png": "[encoded data removed]"
          },
          "metadata": {
            "needs_background": "light"
          }
        }
      ]
    },
    {
      "cell_type": "code",
      "source": [
        "import warnings\n",
        "\n",
        "#warnings.filterwarnings('ignore')\n",
        "\n",
        "fig,axes = plt.subplots(10,10)\n",
        "x = mnist_ids[0]\n",
        "\n",
        "for j in range(10):\n",
        "\n",
        "  for i in range(10):\n",
        "         \n",
        "         #warnings.filterwarnings('ignore')\n",
        "\n",
        "         axes[i,j].imshow(0.5*cifar_trainset[cifar_ids[j][i]][0].squeeze().permute(1,2,0) + 0.5)\n",
        "         \n",
        "         #warnings.filterwarnings('ignore')\n",
        "         axes[i,j].axes.xaxis.set_visible(False)\n",
        "         axes[i,j].axes.yaxis.set_visible(False)\n",
        "\n"
      ],
      "metadata": {
        "colab": {
          "base_uri": "https://localhost:8080/",
          "height": 252
        },
        "id": "crGR4zLQVg20",
        "outputId": "d57df73a-eec5-4266-c1a1-dbfb81d17b75"
      },
      "execution_count": null,
      "outputs": [
        {
          "output_type": "display_data",
          "data": {
            "text/plain": [
              "<Figure size 432x288 with 100 Axes>"
            ],
            "image/png": "[encoded data removed]"
          },
          "metadata": {
            "needs_background": "light"
          }
        }
      ]
    },
    {
      "cell_type": "markdown",
      "source": [
        "We thus see 10 images from every class of the two datasets."
      ],
      "metadata": {
        "id": "vREfMh4PINZc"
      }
    },
    {
      "cell_type": "markdown",
      "source": [
        "# Part 2\n"
      ],
      "metadata": {
        "id": "WwYc0hBY0WGA"
      }
    },
    {
      "cell_type": "code",
      "metadata": {
        "id": "mRkBGjAEKZM0"
      },
      "source": [
        "## network and optimizer\n",
        "if dataset == 'mnist':\n",
        "    num_inputs = 784\n",
        "elif dataset == 'cifar10':\n",
        "    num_inputs = 3072\n",
        "\n",
        "num_outputs = 10 # same for both CIFAR10 and MNIST, both have 10 classes as outputs\n",
        "\n",
        "class Net(nn.Module):\n",
        "    def __init__(self, num_inputs, num_outputs):\n",
        "        super(Net, self).__init__()\n",
        "        self.linear = nn.Linear(num_inputs, num_outputs)\n",
        "\n",
        "    def forward(self, input):\n",
        "        input = input.view(-1, num_inputs) # reshape input to batch x num_inputs\n",
        "        output = self.linear(input)\n",
        "        return output\n",
        "\n",
        "network = Net(num_inputs, num_outputs)\n",
        "optimizer = optim.SGD(network.parameters(), lr=lr)"
      ],
      "execution_count": null,
      "outputs": []
    },
    {
      "cell_type": "code",
      "metadata": {
        "id": "3DfrCg4-Kfq6"
      },
      "source": [
        "def train(epoch):\n",
        "    network.train()\n",
        "    for batch_idx, (data, target) in enumerate(train_loader):\n",
        "        optimizer.zero_grad()\n",
        "        output = network(data)\n",
        "        loss = F.cross_entropy(output, target)\n",
        "        loss.backward()\n",
        "        optimizer.step()\n",
        "        if batch_idx % 100 == 0:\n",
        "            print('Train Epoch: {} [{}/{} ({:.0f}%)]\\tLoss: {:.6f}'.format(\n",
        "                epoch, batch_idx * len(data), len(train_loader.dataset),\n",
        "                100. * batch_idx / len(train_loader), loss.item()))\n",
        "\n",
        "def test():\n",
        "    network.eval()\n",
        "    test_loss = 0\n",
        "    correct = 0\n",
        "    for data, target in test_loader:\n",
        "        output = network(data)\n",
        "        test_loss += F.cross_entropy(output, target, reduction='sum').item() # sum up batch loss\n",
        "        pred = output.data.max(1, keepdim=True)[1] # get the index of the max log-probability\n",
        "        correct += pred.eq(target.data.view_as(pred)).cpu().sum()\n",
        "\n",
        "    test_loss /= len(test_loader.dataset)\n",
        "    print('\\nTest set: Average loss: {:.4f}, Accuracy: {}/{} ({:.0f}%)\\n'.format(\n",
        "        test_loss, correct, len(test_loader.dataset),\n",
        "        100. * correct / len(test_loader.dataset)))\n"
      ],
      "execution_count": null,
      "outputs": []
    },
    {
      "cell_type": "code",
      "metadata": {
        "id": "c52XmoeCKja2"
      },
      "source": [
        "def train_network(epochs):\n",
        "  for epoch in range(epochs):\n",
        "    for batch_idx, (data, target) in enumerate(train_loader):\n",
        "        optimizer.zero_grad()\n",
        "        output = network(data)\n",
        "        loss = F.cross_entropy(output, target)\n",
        "        loss.backward()\n",
        "        optimizer.step()\n",
        "        if batch_idx % 100 == 0:\n",
        "            print('Train Epoch: {} [{}/{} ({:.0f}%)]\\tLoss: {:.6f}'.format(\n",
        "                epoch, batch_idx * len(data), len(train_loader.dataset),\n",
        "                100. * batch_idx / len(train_loader), loss.item()))\n"
      ],
      "execution_count": null,
      "outputs": []
    },
    {
      "cell_type": "code",
      "metadata": {
        "id": "4Nfl06zkKmfX",
        "colab": {
          "base_uri": "https://localhost:8080/"
        },
        "outputId": "e7a04e6e-5e6b-4d20-c5c7-1a3f5dc6fe6a"
      },
      "source": [
        "train_network(20)"
      ],
      "execution_count": null,
      "outputs": [
        {
          "output_type": "stream",
          "name": "stdout",
          "text": [
            "Train Epoch: 0 [0/60000 (0%)]\tLoss: 2.369891\n",
            "Train Epoch: 0 [6400/60000 (11%)]\tLoss: 0.654882\n",
            "Train Epoch: 0 [12800/60000 (21%)]\tLoss: 0.410621\n",
            "Train Epoch: 0 [19200/60000 (32%)]\tLoss: 0.441408\n",
            "Train Epoch: 0 [25600/60000 (43%)]\tLoss: 0.413443\n",
            "Train Epoch: 0 [32000/60000 (53%)]\tLoss: 0.573544\n",
            "Train Epoch: 0 [38400/60000 (64%)]\tLoss: 0.387383\n",
            "Train Epoch: 0 [44800/60000 (75%)]\tLoss: 0.341223\n",
            "Train Epoch: 0 [51200/60000 (85%)]\tLoss: 0.416196\n",
            "Train Epoch: 0 [57600/60000 (96%)]\tLoss: 0.254778\n",
            "Train Epoch: 1 [0/60000 (0%)]\tLoss: 0.168357\n",
            "Train Epoch: 1 [6400/60000 (11%)]\tLoss: 0.261421\n",
            "Train Epoch: 1 [12800/60000 (21%)]\tLoss: 0.464715\n",
            "Train Epoch: 1 [19200/60000 (32%)]\tLoss: 0.447517\n",
            "Train Epoch: 1 [25600/60000 (43%)]\tLoss: 0.239781\n",
            "Train Epoch: 1 [32000/60000 (53%)]\tLoss: 0.263004\n",
            "Train Epoch: 1 [38400/60000 (64%)]\tLoss: 0.283739\n",
            "Train Epoch: 1 [44800/60000 (75%)]\tLoss: 0.263876\n",
            "Train Epoch: 1 [51200/60000 (85%)]\tLoss: 0.541220\n",
            "Train Epoch: 1 [57600/60000 (96%)]\tLoss: 0.266036\n",
            "Train Epoch: 2 [0/60000 (0%)]\tLoss: 0.377861\n",
            "Train Epoch: 2 [6400/60000 (11%)]\tLoss: 0.401789\n",
            "Train Epoch: 2 [12800/60000 (21%)]\tLoss: 0.546479\n",
            "Train Epoch: 2 [19200/60000 (32%)]\tLoss: 0.340581\n",
            "Train Epoch: 2 [25600/60000 (43%)]\tLoss: 0.341405\n",
            "Train Epoch: 2 [32000/60000 (53%)]\tLoss: 0.324619\n",
            "Train Epoch: 2 [38400/60000 (64%)]\tLoss: 0.184253\n",
            "Train Epoch: 2 [44800/60000 (75%)]\tLoss: 0.268023\n",
            "Train Epoch: 2 [51200/60000 (85%)]\tLoss: 0.187974\n",
            "Train Epoch: 2 [57600/60000 (96%)]\tLoss: 0.285877\n",
            "Train Epoch: 3 [0/60000 (0%)]\tLoss: 0.368696\n",
            "Train Epoch: 3 [6400/60000 (11%)]\tLoss: 0.371496\n",
            "Train Epoch: 3 [12800/60000 (21%)]\tLoss: 0.416352\n",
            "Train Epoch: 3 [19200/60000 (32%)]\tLoss: 0.313003\n",
            "Train Epoch: 3 [25600/60000 (43%)]\tLoss: 0.187157\n",
            "Train Epoch: 3 [32000/60000 (53%)]\tLoss: 0.474212\n",
            "Train Epoch: 3 [38400/60000 (64%)]\tLoss: 0.526763\n",
            "Train Epoch: 3 [44800/60000 (75%)]\tLoss: 0.273057\n",
            "Train Epoch: 3 [51200/60000 (85%)]\tLoss: 0.273384\n",
            "Train Epoch: 3 [57600/60000 (96%)]\tLoss: 0.533797\n",
            "Train Epoch: 4 [0/60000 (0%)]\tLoss: 0.161921\n",
            "Train Epoch: 4 [6400/60000 (11%)]\tLoss: 0.443240\n",
            "Train Epoch: 4 [12800/60000 (21%)]\tLoss: 0.232925\n",
            "Train Epoch: 4 [19200/60000 (32%)]\tLoss: 0.194804\n",
            "Train Epoch: 4 [25600/60000 (43%)]\tLoss: 0.274991\n",
            "Train Epoch: 4 [32000/60000 (53%)]\tLoss: 0.565023\n",
            "Train Epoch: 4 [38400/60000 (64%)]\tLoss: 0.324330\n",
            "Train Epoch: 4 [44800/60000 (75%)]\tLoss: 0.134823\n",
            "Train Epoch: 4 [51200/60000 (85%)]\tLoss: 0.161411\n",
            "Train Epoch: 4 [57600/60000 (96%)]\tLoss: 0.325367\n",
            "Train Epoch: 5 [0/60000 (0%)]\tLoss: 0.586123\n",
            "Train Epoch: 5 [6400/60000 (11%)]\tLoss: 0.389854\n",
            "Train Epoch: 5 [12800/60000 (21%)]\tLoss: 0.325985\n",
            "Train Epoch: 5 [19200/60000 (32%)]\tLoss: 0.204693\n",
            "Train Epoch: 5 [25600/60000 (43%)]\tLoss: 0.217000\n",
            "Train Epoch: 5 [32000/60000 (53%)]\tLoss: 0.195151\n",
            "Train Epoch: 5 [38400/60000 (64%)]\tLoss: 0.253599\n",
            "Train Epoch: 5 [44800/60000 (75%)]\tLoss: 0.267583\n",
            "Train Epoch: 5 [51200/60000 (85%)]\tLoss: 0.240025\n",
            "Train Epoch: 5 [57600/60000 (96%)]\tLoss: 0.320881\n",
            "Train Epoch: 6 [0/60000 (0%)]\tLoss: 0.435879\n",
            "Train Epoch: 6 [6400/60000 (11%)]\tLoss: 0.289838\n",
            "Train Epoch: 6 [12800/60000 (21%)]\tLoss: 0.136472\n",
            "Train Epoch: 6 [19200/60000 (32%)]\tLoss: 0.320998\n",
            "Train Epoch: 6 [25600/60000 (43%)]\tLoss: 0.411760\n",
            "Train Epoch: 6 [32000/60000 (53%)]\tLoss: 0.267972\n",
            "Train Epoch: 6 [38400/60000 (64%)]\tLoss: 0.288047\n",
            "Train Epoch: 6 [44800/60000 (75%)]\tLoss: 0.381390\n",
            "Train Epoch: 6 [51200/60000 (85%)]\tLoss: 0.279205\n",
            "Train Epoch: 6 [57600/60000 (96%)]\tLoss: 0.385294\n",
            "Train Epoch: 7 [0/60000 (0%)]\tLoss: 0.179906\n",
            "Train Epoch: 7 [6400/60000 (11%)]\tLoss: 0.432072\n",
            "Train Epoch: 7 [12800/60000 (21%)]\tLoss: 0.173783\n",
            "Train Epoch: 7 [19200/60000 (32%)]\tLoss: 0.310857\n",
            "Train Epoch: 7 [25600/60000 (43%)]\tLoss: 0.203764\n",
            "Train Epoch: 7 [32000/60000 (53%)]\tLoss: 0.172744\n",
            "Train Epoch: 7 [38400/60000 (64%)]\tLoss: 0.118645\n",
            "Train Epoch: 7 [44800/60000 (75%)]\tLoss: 0.259545\n",
            "Train Epoch: 7 [51200/60000 (85%)]\tLoss: 0.267973\n",
            "Train Epoch: 7 [57600/60000 (96%)]\tLoss: 0.508625\n",
            "Train Epoch: 8 [0/60000 (0%)]\tLoss: 0.187046\n",
            "Train Epoch: 8 [6400/60000 (11%)]\tLoss: 0.265891\n",
            "Train Epoch: 8 [12800/60000 (21%)]\tLoss: 0.181244\n",
            "Train Epoch: 8 [19200/60000 (32%)]\tLoss: 0.196555\n",
            "Train Epoch: 8 [25600/60000 (43%)]\tLoss: 0.204301\n",
            "Train Epoch: 8 [32000/60000 (53%)]\tLoss: 0.226343\n",
            "Train Epoch: 8 [38400/60000 (64%)]\tLoss: 0.189272\n",
            "Train Epoch: 8 [44800/60000 (75%)]\tLoss: 0.197277\n",
            "Train Epoch: 8 [51200/60000 (85%)]\tLoss: 0.239875\n",
            "Train Epoch: 8 [57600/60000 (96%)]\tLoss: 0.320402\n",
            "Train Epoch: 9 [0/60000 (0%)]\tLoss: 0.237583\n",
            "Train Epoch: 9 [6400/60000 (11%)]\tLoss: 0.342094\n",
            "Train Epoch: 9 [12800/60000 (21%)]\tLoss: 0.217318\n",
            "Train Epoch: 9 [19200/60000 (32%)]\tLoss: 0.552669\n",
            "Train Epoch: 9 [25600/60000 (43%)]\tLoss: 0.174647\n",
            "Train Epoch: 9 [32000/60000 (53%)]\tLoss: 0.543062\n",
            "Train Epoch: 9 [38400/60000 (64%)]\tLoss: 0.219757\n",
            "Train Epoch: 9 [44800/60000 (75%)]\tLoss: 0.278330\n",
            "Train Epoch: 9 [51200/60000 (85%)]\tLoss: 0.348323\n",
            "Train Epoch: 9 [57600/60000 (96%)]\tLoss: 0.301290\n",
            "Train Epoch: 10 [0/60000 (0%)]\tLoss: 0.283555\n",
            "Train Epoch: 10 [6400/60000 (11%)]\tLoss: 0.353484\n",
            "Train Epoch: 10 [12800/60000 (21%)]\tLoss: 0.180661\n",
            "Train Epoch: 10 [19200/60000 (32%)]\tLoss: 0.150881\n",
            "Train Epoch: 10 [25600/60000 (43%)]\tLoss: 0.174942\n",
            "Train Epoch: 10 [32000/60000 (53%)]\tLoss: 0.197435\n",
            "Train Epoch: 10 [38400/60000 (64%)]\tLoss: 0.161086\n",
            "Train Epoch: 10 [44800/60000 (75%)]\tLoss: 0.243808\n",
            "Train Epoch: 10 [51200/60000 (85%)]\tLoss: 0.460731\n",
            "Train Epoch: 10 [57600/60000 (96%)]\tLoss: 0.270189\n",
            "Train Epoch: 11 [0/60000 (0%)]\tLoss: 0.341803\n",
            "Train Epoch: 11 [6400/60000 (11%)]\tLoss: 0.303938\n",
            "Train Epoch: 11 [12800/60000 (21%)]\tLoss: 0.203193\n",
            "Train Epoch: 11 [19200/60000 (32%)]\tLoss: 0.190165\n",
            "Train Epoch: 11 [25600/60000 (43%)]\tLoss: 0.151304\n",
            "Train Epoch: 11 [32000/60000 (53%)]\tLoss: 0.279286\n",
            "Train Epoch: 11 [38400/60000 (64%)]\tLoss: 0.206214\n",
            "Train Epoch: 11 [44800/60000 (75%)]\tLoss: 0.165734\n",
            "Train Epoch: 11 [51200/60000 (85%)]\tLoss: 0.272074\n",
            "Train Epoch: 11 [57600/60000 (96%)]\tLoss: 0.512118\n",
            "Train Epoch: 12 [0/60000 (0%)]\tLoss: 0.139991\n",
            "Train Epoch: 12 [6400/60000 (11%)]\tLoss: 0.281652\n",
            "Train Epoch: 12 [12800/60000 (21%)]\tLoss: 0.293661\n",
            "Train Epoch: 12 [19200/60000 (32%)]\tLoss: 0.207474\n",
            "Train Epoch: 12 [25600/60000 (43%)]\tLoss: 0.477987\n",
            "Train Epoch: 12 [32000/60000 (53%)]\tLoss: 0.493616\n",
            "Train Epoch: 12 [38400/60000 (64%)]\tLoss: 0.090100\n",
            "Train Epoch: 12 [44800/60000 (75%)]\tLoss: 0.278702\n",
            "Train Epoch: 12 [51200/60000 (85%)]\tLoss: 0.264318\n",
            "Train Epoch: 12 [57600/60000 (96%)]\tLoss: 0.237336\n",
            "Train Epoch: 13 [0/60000 (0%)]\tLoss: 0.433549\n",
            "Train Epoch: 13 [6400/60000 (11%)]\tLoss: 0.458495\n",
            "Train Epoch: 13 [12800/60000 (21%)]\tLoss: 0.178945\n",
            "Train Epoch: 13 [19200/60000 (32%)]\tLoss: 0.463917\n",
            "Train Epoch: 13 [25600/60000 (43%)]\tLoss: 0.189075\n",
            "Train Epoch: 13 [32000/60000 (53%)]\tLoss: 0.348814\n",
            "Train Epoch: 13 [38400/60000 (64%)]\tLoss: 0.342386\n",
            "Train Epoch: 13 [44800/60000 (75%)]\tLoss: 0.195292\n",
            "Train Epoch: 13 [51200/60000 (85%)]\tLoss: 0.129166\n",
            "Train Epoch: 13 [57600/60000 (96%)]\tLoss: 0.124775\n",
            "Train Epoch: 14 [0/60000 (0%)]\tLoss: 0.361964\n",
            "Train Epoch: 14 [6400/60000 (11%)]\tLoss: 0.189268\n",
            "Train Epoch: 14 [12800/60000 (21%)]\tLoss: 0.258383\n",
            "Train Epoch: 14 [19200/60000 (32%)]\tLoss: 0.088258\n",
            "Train Epoch: 14 [25600/60000 (43%)]\tLoss: 0.136398\n",
            "Train Epoch: 14 [32000/60000 (53%)]\tLoss: 0.298381\n",
            "Train Epoch: 14 [38400/60000 (64%)]\tLoss: 0.217583\n",
            "Train Epoch: 14 [44800/60000 (75%)]\tLoss: 0.345582\n",
            "Train Epoch: 14 [51200/60000 (85%)]\tLoss: 0.327992\n",
            "Train Epoch: 14 [57600/60000 (96%)]\tLoss: 0.298912\n",
            "Train Epoch: 15 [0/60000 (0%)]\tLoss: 0.109583\n",
            "Train Epoch: 15 [6400/60000 (11%)]\tLoss: 0.121064\n",
            "Train Epoch: 15 [12800/60000 (21%)]\tLoss: 0.244591\n",
            "Train Epoch: 15 [19200/60000 (32%)]\tLoss: 0.191076\n",
            "Train Epoch: 15 [25600/60000 (43%)]\tLoss: 0.213816\n",
            "Train Epoch: 15 [32000/60000 (53%)]\tLoss: 0.222567\n",
            "Train Epoch: 15 [38400/60000 (64%)]\tLoss: 0.231776\n",
            "Train Epoch: 15 [44800/60000 (75%)]\tLoss: 0.353622\n",
            "Train Epoch: 15 [51200/60000 (85%)]\tLoss: 0.175005\n",
            "Train Epoch: 15 [57600/60000 (96%)]\tLoss: 0.250339\n",
            "Train Epoch: 16 [0/60000 (0%)]\tLoss: 0.325051\n",
            "Train Epoch: 16 [6400/60000 (11%)]\tLoss: 0.409318\n",
            "Train Epoch: 16 [12800/60000 (21%)]\tLoss: 0.328306\n",
            "Train Epoch: 16 [19200/60000 (32%)]\tLoss: 0.244377\n",
            "Train Epoch: 16 [25600/60000 (43%)]\tLoss: 0.235525\n",
            "Train Epoch: 16 [32000/60000 (53%)]\tLoss: 0.377066\n",
            "Train Epoch: 16 [38400/60000 (64%)]\tLoss: 0.378920\n",
            "Train Epoch: 16 [44800/60000 (75%)]\tLoss: 0.617856\n",
            "Train Epoch: 16 [51200/60000 (85%)]\tLoss: 0.132053\n",
            "Train Epoch: 16 [57600/60000 (96%)]\tLoss: 0.115800\n",
            "Train Epoch: 17 [0/60000 (0%)]\tLoss: 0.227128\n",
            "Train Epoch: 17 [6400/60000 (11%)]\tLoss: 0.193128\n",
            "Train Epoch: 17 [12800/60000 (21%)]\tLoss: 0.111701\n",
            "Train Epoch: 17 [19200/60000 (32%)]\tLoss: 0.156796\n",
            "Train Epoch: 17 [25600/60000 (43%)]\tLoss: 0.127195\n",
            "Train Epoch: 17 [32000/60000 (53%)]\tLoss: 0.363094\n",
            "Train Epoch: 17 [38400/60000 (64%)]\tLoss: 0.174115\n",
            "Train Epoch: 17 [44800/60000 (75%)]\tLoss: 0.212661\n",
            "Train Epoch: 17 [51200/60000 (85%)]\tLoss: 0.339927\n",
            "Train Epoch: 17 [57600/60000 (96%)]\tLoss: 0.432012\n",
            "Train Epoch: 18 [0/60000 (0%)]\tLoss: 0.398971\n",
            "Train Epoch: 18 [6400/60000 (11%)]\tLoss: 0.141316\n",
            "Train Epoch: 18 [12800/60000 (21%)]\tLoss: 0.446272\n",
            "Train Epoch: 18 [19200/60000 (32%)]\tLoss: 0.095401\n",
            "Train Epoch: 18 [25600/60000 (43%)]\tLoss: 0.246957\n",
            "Train Epoch: 18 [32000/60000 (53%)]\tLoss: 0.279382\n",
            "Train Epoch: 18 [38400/60000 (64%)]\tLoss: 0.172723\n",
            "Train Epoch: 18 [44800/60000 (75%)]\tLoss: 0.231588\n",
            "Train Epoch: 18 [51200/60000 (85%)]\tLoss: 0.249324\n",
            "Train Epoch: 18 [57600/60000 (96%)]\tLoss: 0.163983\n",
            "Train Epoch: 19 [0/60000 (0%)]\tLoss: 0.321491\n",
            "Train Epoch: 19 [6400/60000 (11%)]\tLoss: 0.279970\n",
            "Train Epoch: 19 [12800/60000 (21%)]\tLoss: 0.355091\n",
            "Train Epoch: 19 [19200/60000 (32%)]\tLoss: 0.151802\n",
            "Train Epoch: 19 [25600/60000 (43%)]\tLoss: 0.113264\n",
            "Train Epoch: 19 [32000/60000 (53%)]\tLoss: 0.146292\n",
            "Train Epoch: 19 [38400/60000 (64%)]\tLoss: 0.302052\n",
            "Train Epoch: 19 [44800/60000 (75%)]\tLoss: 0.097486\n",
            "Train Epoch: 19 [51200/60000 (85%)]\tLoss: 0.345506\n",
            "Train Epoch: 19 [57600/60000 (96%)]\tLoss: 0.197427\n"
          ]
        }
      ]
    },
    {
      "cell_type": "code",
      "source": [
        "network.state_dict()"
      ],
      "metadata": {
        "colab": {
          "base_uri": "https://localhost:8080/"
        },
        "id": "g0row-6u6aKZ",
        "outputId": "98be2dc8-d6f0-4012-e147-ead56ac8ff46"
      },
      "execution_count": null,
      "outputs": [
        {
          "output_type": "execute_result",
          "data": {
            "text/plain": [
              "OrderedDict([('linear.weight',\n",
              "              tensor([[ 0.0074, -0.0033, -0.0250,  ..., -0.0282,  0.0281,  0.0312],\n",
              "                      [ 0.0100, -0.0067,  0.0072,  ...,  0.0226,  0.0242, -0.0037],\n",
              "                      [ 0.0169,  0.0036, -0.0167,  ..., -0.0093,  0.0027, -0.0193],\n",
              "                      ...,\n",
              "                      [-0.0140,  0.0144, -0.0095,  ...,  0.0012,  0.0091, -0.0206],\n",
              "                      [-0.0212,  0.0162,  0.0240,  ...,  0.0068, -0.0201,  0.0316],\n",
              "                      [ 0.0197,  0.0142,  0.0340,  ...,  0.0015,  0.0227, -0.0264]])),\n",
              "             ('linear.bias',\n",
              "              tensor([-0.0468, -0.0687,  0.0711,  0.0509, -0.0421,  0.0774,  0.0191, -0.0111,\n",
              "                       0.0169,  0.0122]))])"
            ]
          },
          "metadata": {},
          "execution_count": 18
        }
      ]
    },
    {
      "cell_type": "code",
      "source": [
        "weight = network.state_dict()['linear.weight']"
      ],
      "metadata": {
        "id": "-jEKlivQ822u"
      },
      "execution_count": null,
      "outputs": []
    },
    {
      "cell_type": "code",
      "source": [
        "weight[0].shape"
      ],
      "metadata": {
        "colab": {
          "base_uri": "https://localhost:8080/"
        },
        "id": "LnFf7Axj9IYY",
        "outputId": "f54bd61c-162c-4e52-e272-25f21f880492"
      },
      "execution_count": null,
      "outputs": [
        {
          "output_type": "execute_result",
          "data": {
            "text/plain": [
              "torch.Size([784])"
            ]
          },
          "metadata": {},
          "execution_count": 20
        }
      ]
    },
    {
      "cell_type": "code",
      "source": [
        "weight[0].shape[0]"
      ],
      "metadata": {
        "colab": {
          "base_uri": "https://localhost:8080/"
        },
        "id": "iX8gwuOV_i3A",
        "outputId": "2103c2e0-0af4-4656-cae6-5fa42cf77439"
      },
      "execution_count": null,
      "outputs": [
        {
          "output_type": "execute_result",
          "data": {
            "text/plain": [
              "784"
            ]
          },
          "metadata": {},
          "execution_count": 21
        }
      ]
    },
    {
      "cell_type": "code",
      "source": [
        "weight_viz = weight[0].view(28,28)"
      ],
      "metadata": {
        "id": "o29SNn6j_RSq"
      },
      "execution_count": null,
      "outputs": []
    },
    {
      "cell_type": "code",
      "source": [
        "plt.imshow(weight_viz)"
      ],
      "metadata": {
        "colab": {
          "base_uri": "https://localhost:8080/",
          "height": 282
        },
        "id": "nw9bIw1e_5UI",
        "outputId": "363ab3b5-972a-4a1a-a3c7-22d9601f1f4e"
      },
      "execution_count": null,
      "outputs": [
        {
          "output_type": "execute_result",
          "data": {
            "text/plain": [
              "<matplotlib.image.AxesImage at 0x7f17ae07d890>"
            ]
          },
          "metadata": {},
          "execution_count": 23
        },
        {
          "output_type": "display_data",
          "data": {
            "text/plain": [
              "<Figure size 432x288 with 1 Axes>"
            ],
            "image/png": "[encoded data removed]"
          },
          "metadata": {
            "needs_background": "light"
          }
        }
      ]
    },
    {
      "cell_type": "code",
      "source": [
        "fig,axes = plt.subplots(10,1)\n",
        "\n",
        "\n",
        "#fig, axes = plt.subplots(10,1,figsize=(18, 2))\n",
        "for i in range(10):\n",
        " \n",
        "  \n",
        "  axes[i].figure.set_size_inches(30, 30)\n",
        "  axes[i].imshow(weight[i].view(28,28))\n",
        "\n",
        "  axes[i].axes.xaxis.set_visible(False)\n"
      ],
      "metadata": {
        "colab": {
          "base_uri": "https://localhost:8080/",
          "height": 1000
        },
        "id": "o9m2RPkHANXM",
        "outputId": "795b5bf3-6c4c-49ec-b32a-118e965b88df"
      },
      "execution_count": null,
      "outputs": [
        {
          "output_type": "display_data",
          "data": {
            "text/plain": [
              "<Figure size 2160x2160 with 10 Axes>"
            ],
            "image/png": "[encoded data removed]"
          },
          "metadata": {
            "needs_background": "light"
          }
        }
      ]
    },
    {
      "cell_type": "code",
      "source": [
        "test()\n"
      ],
      "metadata": {
        "colab": {
          "base_uri": "https://localhost:8080/"
        },
        "id": "N8C4eU7EElv-",
        "outputId": "1c24cf20-6d0f-4cb0-9547-675f38a7c1f4"
      },
      "execution_count": null,
      "outputs": [
        {
          "output_type": "stream",
          "name": "stdout",
          "text": [
            "\n",
            "Test set: Average loss: 0.2700, Accuracy: 9229/10000 (92%)\n",
            "\n"
          ]
        }
      ]
    },
    {
      "cell_type": "markdown",
      "source": [
        "For each of the classes, we looked at the corresponding linear weight parameter set. We can see that there is some magnitude differential of weight parameters corresponding to the shape of the digit of the class."
      ],
      "metadata": {
        "id": "5Nu245ekIno_"
      }
    },
    {
      "cell_type": "code",
      "source": [
        "def train_with_50(epochs,network):\n",
        "    network.train()\n",
        "    for epoch in range(epochs):\n",
        "\n",
        "      for batch_idx, (data, target) in enumerate(train_loader):\n",
        "\n",
        "        #print(data.shape)\n",
        "        (data,target)= (data[:50],target[:50])\n",
        "        #print(data.shape)\n",
        "        \n",
        "        optimizer.zero_grad()\n",
        "        output = network(data)\n",
        "        loss = F.cross_entropy(output, target)\n",
        "        loss.backward()\n",
        "        optimizer.step()\n",
        "        if batch_idx % 100 == 0:\n",
        "            print('Train Epoch: {} [{}/{} ({:.0f}%)]\\tLoss: {:.6f}'.format(\n",
        "                epoch, batch_idx * len(data), len(train_loader.dataset),\n",
        "                100. * batch_idx / len(train_loader), loss.item()))"
      ],
      "metadata": {
        "id": "l0ddQdVtMO5P"
      },
      "execution_count": null,
      "outputs": []
    },
    {
      "cell_type": "markdown",
      "metadata": {
        "id": "rk-O2_m03CIF"
      },
      "source": [
        "We consider both 50 examples in a particular batch and 50 examples in total as used for training."
      ]
    },
    {
      "cell_type": "code",
      "source": [
        "\n",
        "new_net = Net(num_inputs, num_outputs)\n",
        "train_with_50(20,new_net)"
      ],
      "metadata": {
        "colab": {
          "base_uri": "https://localhost:8080/"
        },
        "id": "PKfkWZyiM6YZ",
        "outputId": "8942dd6b-84e1-49f7-bee2-86ee5bfc6692"
      },
      "execution_count": null,
      "outputs": [
        {
          "output_type": "stream",
          "name": "stdout",
          "text": [
            "Train Epoch: 0 [0/60000 (0%)]\tLoss: 2.475615\n",
            "Train Epoch: 0 [5000/60000 (11%)]\tLoss: 2.438540\n",
            "Train Epoch: 0 [10000/60000 (21%)]\tLoss: 2.482450\n",
            "Train Epoch: 0 [15000/60000 (32%)]\tLoss: 2.444075\n",
            "Train Epoch: 0 [20000/60000 (43%)]\tLoss: 2.384138\n",
            "Train Epoch: 0 [25000/60000 (53%)]\tLoss: 2.454850\n",
            "Train Epoch: 0 [30000/60000 (64%)]\tLoss: 2.562568\n",
            "Train Epoch: 0 [35000/60000 (75%)]\tLoss: 2.514648\n",
            "Train Epoch: 0 [40000/60000 (85%)]\tLoss: 2.434914\n",
            "Train Epoch: 0 [45000/60000 (96%)]\tLoss: 2.506857\n",
            "Train Epoch: 1 [0/60000 (0%)]\tLoss: 2.532342\n",
            "Train Epoch: 1 [5000/60000 (11%)]\tLoss: 2.522432\n",
            "Train Epoch: 1 [10000/60000 (21%)]\tLoss: 2.585847\n",
            "Train Epoch: 1 [15000/60000 (32%)]\tLoss: 2.446740\n",
            "Train Epoch: 1 [20000/60000 (43%)]\tLoss: 2.418481\n",
            "Train Epoch: 1 [25000/60000 (53%)]\tLoss: 2.459604\n",
            "Train Epoch: 1 [30000/60000 (64%)]\tLoss: 2.448210\n",
            "Train Epoch: 1 [35000/60000 (75%)]\tLoss: 2.567560\n",
            "Train Epoch: 1 [40000/60000 (85%)]\tLoss: 2.419580\n",
            "Train Epoch: 1 [45000/60000 (96%)]\tLoss: 2.350760\n",
            "Train Epoch: 2 [0/60000 (0%)]\tLoss: 2.437594\n",
            "Train Epoch: 2 [5000/60000 (11%)]\tLoss: 2.447254\n",
            "Train Epoch: 2 [10000/60000 (21%)]\tLoss: 2.345452\n",
            "Train Epoch: 2 [15000/60000 (32%)]\tLoss: 2.473943\n",
            "Train Epoch: 2 [20000/60000 (43%)]\tLoss: 2.451949\n",
            "Train Epoch: 2 [25000/60000 (53%)]\tLoss: 2.463284\n",
            "Train Epoch: 2 [30000/60000 (64%)]\tLoss: 2.441713\n",
            "Train Epoch: 2 [35000/60000 (75%)]\tLoss: 2.400934\n",
            "Train Epoch: 2 [40000/60000 (85%)]\tLoss: 2.527945\n",
            "Train Epoch: 2 [45000/60000 (96%)]\tLoss: 2.589539\n",
            "Train Epoch: 3 [0/60000 (0%)]\tLoss: 2.525333\n",
            "Train Epoch: 3 [5000/60000 (11%)]\tLoss: 2.444674\n",
            "Train Epoch: 3 [10000/60000 (21%)]\tLoss: 2.580369\n",
            "Train Epoch: 3 [15000/60000 (32%)]\tLoss: 2.589559\n",
            "Train Epoch: 3 [20000/60000 (43%)]\tLoss: 2.588768\n",
            "Train Epoch: 3 [25000/60000 (53%)]\tLoss: 2.533919\n",
            "Train Epoch: 3 [30000/60000 (64%)]\tLoss: 2.457000\n",
            "Train Epoch: 3 [35000/60000 (75%)]\tLoss: 2.543318\n",
            "Train Epoch: 3 [40000/60000 (85%)]\tLoss: 2.347665\n",
            "Train Epoch: 3 [45000/60000 (96%)]\tLoss: 2.441947\n",
            "Train Epoch: 4 [0/60000 (0%)]\tLoss: 2.450763\n",
            "Train Epoch: 4 [5000/60000 (11%)]\tLoss: 2.500533\n",
            "Train Epoch: 4 [10000/60000 (21%)]\tLoss: 2.498588\n",
            "Train Epoch: 4 [15000/60000 (32%)]\tLoss: 2.564085\n",
            "Train Epoch: 4 [20000/60000 (43%)]\tLoss: 2.500436\n",
            "Train Epoch: 4 [25000/60000 (53%)]\tLoss: 2.386976\n",
            "Train Epoch: 4 [30000/60000 (64%)]\tLoss: 2.394889\n",
            "Train Epoch: 4 [35000/60000 (75%)]\tLoss: 2.440686\n",
            "Train Epoch: 4 [40000/60000 (85%)]\tLoss: 2.414812\n",
            "Train Epoch: 4 [45000/60000 (96%)]\tLoss: 2.466369\n",
            "Train Epoch: 5 [0/60000 (0%)]\tLoss: 2.496948\n",
            "Train Epoch: 5 [5000/60000 (11%)]\tLoss: 2.555591\n",
            "Train Epoch: 5 [10000/60000 (21%)]\tLoss: 2.517235\n",
            "Train Epoch: 5 [15000/60000 (32%)]\tLoss: 2.464423\n",
            "Train Epoch: 5 [20000/60000 (43%)]\tLoss: 2.312342\n",
            "Train Epoch: 5 [25000/60000 (53%)]\tLoss: 2.479335\n",
            "Train Epoch: 5 [30000/60000 (64%)]\tLoss: 2.371711\n",
            "Train Epoch: 5 [35000/60000 (75%)]\tLoss: 2.454045\n",
            "Train Epoch: 5 [40000/60000 (85%)]\tLoss: 2.352687\n",
            "Train Epoch: 5 [45000/60000 (96%)]\tLoss: 2.531989\n",
            "Train Epoch: 6 [0/60000 (0%)]\tLoss: 2.566380\n",
            "Train Epoch: 6 [5000/60000 (11%)]\tLoss: 2.583004\n",
            "Train Epoch: 6 [10000/60000 (21%)]\tLoss: 2.364905\n",
            "Train Epoch: 6 [15000/60000 (32%)]\tLoss: 2.528759\n",
            "Train Epoch: 6 [20000/60000 (43%)]\tLoss: 2.440291\n",
            "Train Epoch: 6 [25000/60000 (53%)]\tLoss: 2.442240\n",
            "Train Epoch: 6 [30000/60000 (64%)]\tLoss: 2.444668\n",
            "Train Epoch: 6 [35000/60000 (75%)]\tLoss: 2.549240\n",
            "Train Epoch: 6 [40000/60000 (85%)]\tLoss: 2.374337\n",
            "Train Epoch: 6 [45000/60000 (96%)]\tLoss: 2.601263\n",
            "Train Epoch: 7 [0/60000 (0%)]\tLoss: 2.424949\n",
            "Train Epoch: 7 [5000/60000 (11%)]\tLoss: 2.496630\n",
            "Train Epoch: 7 [10000/60000 (21%)]\tLoss: 2.470944\n",
            "Train Epoch: 7 [15000/60000 (32%)]\tLoss: 2.436179\n",
            "Train Epoch: 7 [20000/60000 (43%)]\tLoss: 2.557864\n",
            "Train Epoch: 7 [25000/60000 (53%)]\tLoss: 2.469244\n",
            "Train Epoch: 7 [30000/60000 (64%)]\tLoss: 2.509782\n",
            "Train Epoch: 7 [35000/60000 (75%)]\tLoss: 2.561896\n",
            "Train Epoch: 7 [40000/60000 (85%)]\tLoss: 2.502500\n",
            "Train Epoch: 7 [45000/60000 (96%)]\tLoss: 2.365139\n",
            "Train Epoch: 8 [0/60000 (0%)]\tLoss: 2.434166\n",
            "Train Epoch: 8 [5000/60000 (11%)]\tLoss: 2.488127\n",
            "Train Epoch: 8 [10000/60000 (21%)]\tLoss: 2.542004\n",
            "Train Epoch: 8 [15000/60000 (32%)]\tLoss: 2.293703\n",
            "Train Epoch: 8 [20000/60000 (43%)]\tLoss: 2.397632\n",
            "Train Epoch: 8 [25000/60000 (53%)]\tLoss: 2.558764\n",
            "Train Epoch: 8 [30000/60000 (64%)]\tLoss: 2.465264\n",
            "Train Epoch: 8 [35000/60000 (75%)]\tLoss: 2.533249\n",
            "Train Epoch: 8 [40000/60000 (85%)]\tLoss: 2.551646\n",
            "Train Epoch: 8 [45000/60000 (96%)]\tLoss: 2.524014\n",
            "Train Epoch: 9 [0/60000 (0%)]\tLoss: 2.503704\n",
            "Train Epoch: 9 [5000/60000 (11%)]\tLoss: 2.425875\n",
            "Train Epoch: 9 [10000/60000 (21%)]\tLoss: 2.584327\n",
            "Train Epoch: 9 [15000/60000 (32%)]\tLoss: 2.471475\n",
            "Train Epoch: 9 [20000/60000 (43%)]\tLoss: 2.530884\n",
            "Train Epoch: 9 [25000/60000 (53%)]\tLoss: 2.510556\n",
            "Train Epoch: 9 [30000/60000 (64%)]\tLoss: 2.476793\n",
            "Train Epoch: 9 [35000/60000 (75%)]\tLoss: 2.443798\n",
            "Train Epoch: 9 [40000/60000 (85%)]\tLoss: 2.499257\n",
            "Train Epoch: 9 [45000/60000 (96%)]\tLoss: 2.425701\n",
            "Train Epoch: 10 [0/60000 (0%)]\tLoss: 2.557967\n",
            "Train Epoch: 10 [5000/60000 (11%)]\tLoss: 2.513329\n",
            "Train Epoch: 10 [10000/60000 (21%)]\tLoss: 2.502869\n",
            "Train Epoch: 10 [15000/60000 (32%)]\tLoss: 2.498296\n",
            "Train Epoch: 10 [20000/60000 (43%)]\tLoss: 2.485661\n",
            "Train Epoch: 10 [25000/60000 (53%)]\tLoss: 2.308220\n",
            "Train Epoch: 10 [30000/60000 (64%)]\tLoss: 2.436163\n",
            "Train Epoch: 10 [35000/60000 (75%)]\tLoss: 2.546755\n",
            "Train Epoch: 10 [40000/60000 (85%)]\tLoss: 2.418887\n",
            "Train Epoch: 10 [45000/60000 (96%)]\tLoss: 2.323493\n",
            "Train Epoch: 11 [0/60000 (0%)]\tLoss: 2.480217\n",
            "Train Epoch: 11 [5000/60000 (11%)]\tLoss: 2.460132\n",
            "Train Epoch: 11 [10000/60000 (21%)]\tLoss: 2.474977\n",
            "Train Epoch: 11 [15000/60000 (32%)]\tLoss: 2.401209\n",
            "Train Epoch: 11 [20000/60000 (43%)]\tLoss: 2.411432\n",
            "Train Epoch: 11 [25000/60000 (53%)]\tLoss: 2.479393\n",
            "Train Epoch: 11 [30000/60000 (64%)]\tLoss: 2.477680\n",
            "Train Epoch: 11 [35000/60000 (75%)]\tLoss: 2.433590\n",
            "Train Epoch: 11 [40000/60000 (85%)]\tLoss: 2.437833\n",
            "Train Epoch: 11 [45000/60000 (96%)]\tLoss: 2.427414\n",
            "Train Epoch: 12 [0/60000 (0%)]\tLoss: 2.418096\n",
            "Train Epoch: 12 [5000/60000 (11%)]\tLoss: 2.453193\n",
            "Train Epoch: 12 [10000/60000 (21%)]\tLoss: 2.547021\n",
            "Train Epoch: 12 [15000/60000 (32%)]\tLoss: 2.439925\n",
            "Train Epoch: 12 [20000/60000 (43%)]\tLoss: 2.495106\n",
            "Train Epoch: 12 [25000/60000 (53%)]\tLoss: 2.543185\n",
            "Train Epoch: 12 [30000/60000 (64%)]\tLoss: 2.432099\n",
            "Train Epoch: 12 [35000/60000 (75%)]\tLoss: 2.458954\n",
            "Train Epoch: 12 [40000/60000 (85%)]\tLoss: 2.518722\n",
            "Train Epoch: 12 [45000/60000 (96%)]\tLoss: 2.480428\n",
            "Train Epoch: 13 [0/60000 (0%)]\tLoss: 2.540920\n",
            "Train Epoch: 13 [5000/60000 (11%)]\tLoss: 2.533286\n",
            "Train Epoch: 13 [10000/60000 (21%)]\tLoss: 2.374510\n",
            "Train Epoch: 13 [15000/60000 (32%)]\tLoss: 2.550106\n",
            "Train Epoch: 13 [20000/60000 (43%)]\tLoss: 2.523823\n",
            "Train Epoch: 13 [25000/60000 (53%)]\tLoss: 2.437165\n",
            "Train Epoch: 13 [30000/60000 (64%)]\tLoss: 2.437549\n",
            "Train Epoch: 13 [35000/60000 (75%)]\tLoss: 2.431069\n",
            "Train Epoch: 13 [40000/60000 (85%)]\tLoss: 2.465706\n",
            "Train Epoch: 13 [45000/60000 (96%)]\tLoss: 2.361685\n",
            "Train Epoch: 14 [0/60000 (0%)]\tLoss: 2.505743\n",
            "Train Epoch: 14 [5000/60000 (11%)]\tLoss: 2.534880\n",
            "Train Epoch: 14 [10000/60000 (21%)]\tLoss: 2.472749\n",
            "Train Epoch: 14 [15000/60000 (32%)]\tLoss: 2.417541\n",
            "Train Epoch: 14 [20000/60000 (43%)]\tLoss: 2.511189\n",
            "Train Epoch: 14 [25000/60000 (53%)]\tLoss: 2.426600\n",
            "Train Epoch: 14 [30000/60000 (64%)]\tLoss: 2.350796\n",
            "Train Epoch: 14 [35000/60000 (75%)]\tLoss: 2.518841\n",
            "Train Epoch: 14 [40000/60000 (85%)]\tLoss: 2.538050\n",
            "Train Epoch: 14 [45000/60000 (96%)]\tLoss: 2.451917\n",
            "Train Epoch: 15 [0/60000 (0%)]\tLoss: 2.418916\n",
            "Train Epoch: 15 [5000/60000 (11%)]\tLoss: 2.405601\n",
            "Train Epoch: 15 [10000/60000 (21%)]\tLoss: 2.593487\n",
            "Train Epoch: 15 [15000/60000 (32%)]\tLoss: 2.476233\n",
            "Train Epoch: 15 [20000/60000 (43%)]\tLoss: 2.337309\n",
            "Train Epoch: 15 [25000/60000 (53%)]\tLoss: 2.551408\n",
            "Train Epoch: 15 [30000/60000 (64%)]\tLoss: 2.384164\n",
            "Train Epoch: 15 [35000/60000 (75%)]\tLoss: 2.440515\n",
            "Train Epoch: 15 [40000/60000 (85%)]\tLoss: 2.481933\n",
            "Train Epoch: 15 [45000/60000 (96%)]\tLoss: 2.472738\n",
            "Train Epoch: 16 [0/60000 (0%)]\tLoss: 2.346604\n",
            "Train Epoch: 16 [5000/60000 (11%)]\tLoss: 2.516423\n",
            "Train Epoch: 16 [10000/60000 (21%)]\tLoss: 2.591954\n",
            "Train Epoch: 16 [15000/60000 (32%)]\tLoss: 2.492756\n",
            "Train Epoch: 16 [20000/60000 (43%)]\tLoss: 2.386554\n",
            "Train Epoch: 16 [25000/60000 (53%)]\tLoss: 2.462404\n",
            "Train Epoch: 16 [30000/60000 (64%)]\tLoss: 2.592555\n",
            "Train Epoch: 16 [35000/60000 (75%)]\tLoss: 2.524316\n",
            "Train Epoch: 16 [40000/60000 (85%)]\tLoss: 2.576004\n",
            "Train Epoch: 16 [45000/60000 (96%)]\tLoss: 2.478387\n",
            "Train Epoch: 17 [0/60000 (0%)]\tLoss: 2.423091\n",
            "Train Epoch: 17 [5000/60000 (11%)]\tLoss: 2.564709\n",
            "Train Epoch: 17 [10000/60000 (21%)]\tLoss: 2.406098\n",
            "Train Epoch: 17 [15000/60000 (32%)]\tLoss: 2.616761\n",
            "Train Epoch: 17 [20000/60000 (43%)]\tLoss: 2.489896\n",
            "Train Epoch: 17 [25000/60000 (53%)]\tLoss: 2.391881\n",
            "Train Epoch: 17 [30000/60000 (64%)]\tLoss: 2.459831\n",
            "Train Epoch: 17 [35000/60000 (75%)]\tLoss: 2.443410\n",
            "Train Epoch: 17 [40000/60000 (85%)]\tLoss: 2.531510\n",
            "Train Epoch: 17 [45000/60000 (96%)]\tLoss: 2.527118\n",
            "Train Epoch: 18 [0/60000 (0%)]\tLoss: 2.460151\n",
            "Train Epoch: 18 [5000/60000 (11%)]\tLoss: 2.498021\n",
            "Train Epoch: 18 [10000/60000 (21%)]\tLoss: 2.466273\n",
            "Train Epoch: 18 [15000/60000 (32%)]\tLoss: 2.429730\n",
            "Train Epoch: 18 [20000/60000 (43%)]\tLoss: 2.380841\n",
            "Train Epoch: 18 [25000/60000 (53%)]\tLoss: 2.302837\n",
            "Train Epoch: 18 [30000/60000 (64%)]\tLoss: 2.436723\n",
            "Train Epoch: 18 [35000/60000 (75%)]\tLoss: 2.548179\n",
            "Train Epoch: 18 [40000/60000 (85%)]\tLoss: 2.472997\n",
            "Train Epoch: 18 [45000/60000 (96%)]\tLoss: 2.520273\n",
            "Train Epoch: 19 [0/60000 (0%)]\tLoss: 2.443931\n",
            "Train Epoch: 19 [5000/60000 (11%)]\tLoss: 2.522925\n",
            "Train Epoch: 19 [10000/60000 (21%)]\tLoss: 2.508948\n",
            "Train Epoch: 19 [15000/60000 (32%)]\tLoss: 2.539069\n",
            "Train Epoch: 19 [20000/60000 (43%)]\tLoss: 2.407865\n",
            "Train Epoch: 19 [25000/60000 (53%)]\tLoss: 2.527611\n",
            "Train Epoch: 19 [30000/60000 (64%)]\tLoss: 2.588002\n",
            "Train Epoch: 19 [35000/60000 (75%)]\tLoss: 2.475166\n",
            "Train Epoch: 19 [40000/60000 (85%)]\tLoss: 2.506349\n",
            "Train Epoch: 19 [45000/60000 (96%)]\tLoss: 2.492830\n"
          ]
        }
      ]
    },
    {
      "cell_type": "code",
      "source": [
        "\n",
        "def test_50(network):\n",
        "    network.eval()\n",
        "    test_loss = 0\n",
        "    correct = 0\n",
        "    for data, target in test_loader:\n",
        "        output = network(data)\n",
        "        test_loss += F.cross_entropy(output, target, reduction='sum').item() # sum up batch loss\n",
        "        pred = output.data.max(1, keepdim=True)[1] # get the index of the max log-probability\n",
        "        correct += pred.eq(target.data.view_as(pred)).cpu().sum()\n"
      ],
      "metadata": {
        "id": "BtlkhWAHSj1T"
      },
      "execution_count": null,
      "outputs": []
    },
    {
      "cell_type": "code",
      "source": [
        "\n",
        "def test_50(network):\n",
        "    network.eval()\n",
        "    test_loss = 0\n",
        "    correct = 0\n",
        "    for data, target in test_loader:\n",
        "        output = network(data)\n",
        "        test_loss += F.cross_entropy(output, target, reduction='sum').item() # sum up batch loss\n",
        "        pred = output.data.max(1, keepdim=True)[1] # get the index of the max log-probability\n",
        "        correct += pred.eq(target.data.view_as(pred)).cpu().sum()\n",
        "\n",
        "    test_loss /= len(test_loader.dataset)\n",
        "    print('\\nTest set: Average loss: {:.4f}, Accuracy: {}/{} ({:.0f}%)\\n'.format(\n",
        "        test_loss, correct, len(test_loader.dataset),\n",
        "        100. * correct / len(test_loader.dataset)))"
      ],
      "metadata": {
        "id": "bhAyrAxAUWZ3"
      },
      "execution_count": null,
      "outputs": []
    },
    {
      "cell_type": "code",
      "source": [
        "test_50(new_net)"
      ],
      "metadata": {
        "colab": {
          "base_uri": "https://localhost:8080/"
        },
        "id": "lNoH0ylbUkjK",
        "outputId": "456115d1-b4b2-41a8-b4d8-4aa77bef47d8"
      },
      "execution_count": null,
      "outputs": [
        {
          "output_type": "stream",
          "name": "stdout",
          "text": [
            "\n",
            "Test set: Average loss: 0.2690, Accuracy: 9236/10000 (92%)\n",
            "\n"
          ]
        }
      ]
    },
    {
      "cell_type": "markdown",
      "source": [
        "Our initial batch consisted of 64 examples, with 50, the training still proceeds duly. We now consider 50 training examples in total. "
      ],
      "metadata": {
        "id": "hRLYAgoQUO2t"
      }
    },
    {
      "cell_type": "code",
      "source": [
        "def train_fewer_examples(epochs,network):\n",
        "    network.train()\n",
        "\n",
        "    \n",
        "    \n",
        "    train_iter = iter(train_loader)\n",
        "    data,target = train_iter.next()\n",
        "    (data,target)= (data[:50],target[:50])\n",
        "\n",
        "\n",
        "    for epoch in range(epochs):\n",
        "\n",
        "      for batch_idx,(x,y) in enumerate(train_loader):\n",
        "\n",
        "          y_pred = network(data)\n",
        "          loss = F.cross_entropy(y_pred, target)\n",
        "          loss.backward()\n",
        "          optimizer.step()\n",
        "          if batch_idx % 100 == 0:\n",
        "\n",
        "            print('Train Epoch: {} [{}/{} ({:.0f}%)]\\tLoss: {:.6f}'.format(\n",
        "                epoch, batch_idx * len(data), len(train_loader.dataset),\n",
        "                100. * batch_idx / len(train_loader), loss.item()))\n",
        "\n"
      ],
      "metadata": {
        "id": "XOrisKStW3oz"
      },
      "execution_count": null,
      "outputs": []
    },
    {
      "cell_type": "code",
      "source": [
        "def test_fewer_examples(network):\n",
        "\n",
        "    network.eval()\n",
        "    test_loss = 0\n",
        "    correct = 0\n",
        "    for data, target in test_loader:\n",
        "        output = network(data)\n",
        "        test_loss += F.cross_entropy(output, target, reduction='sum').item() # sum up batch loss\n",
        "        pred = output.data.max(1, keepdim=True)[1] # get the index of the max log-probability\n",
        "        correct += pred.eq(target.data.view_as(pred)).cpu().sum()\n",
        "\n",
        "    test_loss /= len(test_loader.dataset)\n",
        "    print('\\nTest set: Average loss: {:.4f}, Accuracy: {}/{} ({:.0f}%)\\n'.format(\n",
        "        test_loss, correct, len(test_loader.dataset),\n",
        "        100. * correct / len(test_loader.dataset)))\n"
      ],
      "metadata": {
        "id": "Nv0sb-TcZpPA"
      },
      "execution_count": null,
      "outputs": []
    },
    {
      "cell_type": "code",
      "source": [
        "\n",
        "fewer_net = Net(num_inputs, num_outputs)\n",
        "train_fewer_examples(20,fewer_net)"
      ],
      "metadata": {
        "colab": {
          "base_uri": "https://localhost:8080/"
        },
        "id": "fMJykA_cZ3bo",
        "outputId": "436b1512-7b0e-4e66-ab43-3cdeceb9e6df"
      },
      "execution_count": null,
      "outputs": [
        {
          "output_type": "stream",
          "name": "stdout",
          "text": [
            "Train Epoch: 0 [0/60000 (0%)]\tLoss: 2.622071\n",
            "Train Epoch: 0 [5000/60000 (11%)]\tLoss: 2.622071\n",
            "Train Epoch: 0 [10000/60000 (21%)]\tLoss: 2.622071\n",
            "Train Epoch: 0 [15000/60000 (32%)]\tLoss: 2.622071\n",
            "Train Epoch: 0 [20000/60000 (43%)]\tLoss: 2.622071\n",
            "Train Epoch: 0 [25000/60000 (53%)]\tLoss: 2.622071\n",
            "Train Epoch: 0 [30000/60000 (64%)]\tLoss: 2.622071\n",
            "Train Epoch: 0 [35000/60000 (75%)]\tLoss: 2.622071\n",
            "Train Epoch: 0 [40000/60000 (85%)]\tLoss: 2.622071\n",
            "Train Epoch: 0 [45000/60000 (96%)]\tLoss: 2.622071\n",
            "Train Epoch: 1 [0/60000 (0%)]\tLoss: 2.622071\n",
            "Train Epoch: 1 [5000/60000 (11%)]\tLoss: 2.622071\n",
            "Train Epoch: 1 [10000/60000 (21%)]\tLoss: 2.622071\n",
            "Train Epoch: 1 [15000/60000 (32%)]\tLoss: 2.622071\n",
            "Train Epoch: 1 [20000/60000 (43%)]\tLoss: 2.622071\n",
            "Train Epoch: 1 [25000/60000 (53%)]\tLoss: 2.622071\n",
            "Train Epoch: 1 [30000/60000 (64%)]\tLoss: 2.622071\n",
            "Train Epoch: 1 [35000/60000 (75%)]\tLoss: 2.622071\n",
            "Train Epoch: 1 [40000/60000 (85%)]\tLoss: 2.622071\n",
            "Train Epoch: 1 [45000/60000 (96%)]\tLoss: 2.622071\n",
            "Train Epoch: 2 [0/60000 (0%)]\tLoss: 2.622071\n",
            "Train Epoch: 2 [5000/60000 (11%)]\tLoss: 2.622071\n",
            "Train Epoch: 2 [10000/60000 (21%)]\tLoss: 2.622071\n",
            "Train Epoch: 2 [15000/60000 (32%)]\tLoss: 2.622071\n",
            "Train Epoch: 2 [20000/60000 (43%)]\tLoss: 2.622071\n",
            "Train Epoch: 2 [25000/60000 (53%)]\tLoss: 2.622071\n",
            "Train Epoch: 2 [30000/60000 (64%)]\tLoss: 2.622071\n",
            "Train Epoch: 2 [35000/60000 (75%)]\tLoss: 2.622071\n",
            "Train Epoch: 2 [40000/60000 (85%)]\tLoss: 2.622071\n",
            "Train Epoch: 2 [45000/60000 (96%)]\tLoss: 2.622071\n",
            "Train Epoch: 3 [0/60000 (0%)]\tLoss: 2.622071\n",
            "Train Epoch: 3 [5000/60000 (11%)]\tLoss: 2.622071\n",
            "Train Epoch: 3 [10000/60000 (21%)]\tLoss: 2.622071\n",
            "Train Epoch: 3 [15000/60000 (32%)]\tLoss: 2.622071\n",
            "Train Epoch: 3 [20000/60000 (43%)]\tLoss: 2.622071\n",
            "Train Epoch: 3 [25000/60000 (53%)]\tLoss: 2.622071\n",
            "Train Epoch: 3 [30000/60000 (64%)]\tLoss: 2.622071\n",
            "Train Epoch: 3 [35000/60000 (75%)]\tLoss: 2.622071\n",
            "Train Epoch: 3 [40000/60000 (85%)]\tLoss: 2.622071\n",
            "Train Epoch: 3 [45000/60000 (96%)]\tLoss: 2.622071\n",
            "Train Epoch: 4 [0/60000 (0%)]\tLoss: 2.622071\n",
            "Train Epoch: 4 [5000/60000 (11%)]\tLoss: 2.622071\n",
            "Train Epoch: 4 [10000/60000 (21%)]\tLoss: 2.622071\n",
            "Train Epoch: 4 [15000/60000 (32%)]\tLoss: 2.622071\n",
            "Train Epoch: 4 [20000/60000 (43%)]\tLoss: 2.622071\n",
            "Train Epoch: 4 [25000/60000 (53%)]\tLoss: 2.622071\n",
            "Train Epoch: 4 [30000/60000 (64%)]\tLoss: 2.622071\n",
            "Train Epoch: 4 [35000/60000 (75%)]\tLoss: 2.622071\n",
            "Train Epoch: 4 [40000/60000 (85%)]\tLoss: 2.622071\n",
            "Train Epoch: 4 [45000/60000 (96%)]\tLoss: 2.622071\n",
            "Train Epoch: 5 [0/60000 (0%)]\tLoss: 2.622071\n",
            "Train Epoch: 5 [5000/60000 (11%)]\tLoss: 2.622071\n",
            "Train Epoch: 5 [10000/60000 (21%)]\tLoss: 2.622071\n",
            "Train Epoch: 5 [15000/60000 (32%)]\tLoss: 2.622071\n",
            "Train Epoch: 5 [20000/60000 (43%)]\tLoss: 2.622071\n",
            "Train Epoch: 5 [25000/60000 (53%)]\tLoss: 2.622071\n",
            "Train Epoch: 5 [30000/60000 (64%)]\tLoss: 2.622071\n",
            "Train Epoch: 5 [35000/60000 (75%)]\tLoss: 2.622071\n",
            "Train Epoch: 5 [40000/60000 (85%)]\tLoss: 2.622071\n",
            "Train Epoch: 5 [45000/60000 (96%)]\tLoss: 2.622071\n",
            "Train Epoch: 6 [0/60000 (0%)]\tLoss: 2.622071\n",
            "Train Epoch: 6 [5000/60000 (11%)]\tLoss: 2.622071\n",
            "Train Epoch: 6 [10000/60000 (21%)]\tLoss: 2.622071\n",
            "Train Epoch: 6 [15000/60000 (32%)]\tLoss: 2.622071\n",
            "Train Epoch: 6 [20000/60000 (43%)]\tLoss: 2.622071\n",
            "Train Epoch: 6 [25000/60000 (53%)]\tLoss: 2.622071\n",
            "Train Epoch: 6 [30000/60000 (64%)]\tLoss: 2.622071\n",
            "Train Epoch: 6 [35000/60000 (75%)]\tLoss: 2.622071\n",
            "Train Epoch: 6 [40000/60000 (85%)]\tLoss: 2.622071\n",
            "Train Epoch: 6 [45000/60000 (96%)]\tLoss: 2.622071\n",
            "Train Epoch: 7 [0/60000 (0%)]\tLoss: 2.622071\n",
            "Train Epoch: 7 [5000/60000 (11%)]\tLoss: 2.622071\n",
            "Train Epoch: 7 [10000/60000 (21%)]\tLoss: 2.622071\n",
            "Train Epoch: 7 [15000/60000 (32%)]\tLoss: 2.622071\n",
            "Train Epoch: 7 [20000/60000 (43%)]\tLoss: 2.622071\n",
            "Train Epoch: 7 [25000/60000 (53%)]\tLoss: 2.622071\n",
            "Train Epoch: 7 [30000/60000 (64%)]\tLoss: 2.622071\n",
            "Train Epoch: 7 [35000/60000 (75%)]\tLoss: 2.622071\n",
            "Train Epoch: 7 [40000/60000 (85%)]\tLoss: 2.622071\n",
            "Train Epoch: 7 [45000/60000 (96%)]\tLoss: 2.622071\n",
            "Train Epoch: 8 [0/60000 (0%)]\tLoss: 2.622071\n",
            "Train Epoch: 8 [5000/60000 (11%)]\tLoss: 2.622071\n",
            "Train Epoch: 8 [10000/60000 (21%)]\tLoss: 2.622071\n",
            "Train Epoch: 8 [15000/60000 (32%)]\tLoss: 2.622071\n",
            "Train Epoch: 8 [20000/60000 (43%)]\tLoss: 2.622071\n",
            "Train Epoch: 8 [25000/60000 (53%)]\tLoss: 2.622071\n",
            "Train Epoch: 8 [30000/60000 (64%)]\tLoss: 2.622071\n",
            "Train Epoch: 8 [35000/60000 (75%)]\tLoss: 2.622071\n",
            "Train Epoch: 8 [40000/60000 (85%)]\tLoss: 2.622071\n",
            "Train Epoch: 8 [45000/60000 (96%)]\tLoss: 2.622071\n",
            "Train Epoch: 9 [0/60000 (0%)]\tLoss: 2.622071\n",
            "Train Epoch: 9 [5000/60000 (11%)]\tLoss: 2.622071\n",
            "Train Epoch: 9 [10000/60000 (21%)]\tLoss: 2.622071\n",
            "Train Epoch: 9 [15000/60000 (32%)]\tLoss: 2.622071\n",
            "Train Epoch: 9 [20000/60000 (43%)]\tLoss: 2.622071\n",
            "Train Epoch: 9 [25000/60000 (53%)]\tLoss: 2.622071\n",
            "Train Epoch: 9 [30000/60000 (64%)]\tLoss: 2.622071\n",
            "Train Epoch: 9 [35000/60000 (75%)]\tLoss: 2.622071\n",
            "Train Epoch: 9 [40000/60000 (85%)]\tLoss: 2.622071\n",
            "Train Epoch: 9 [45000/60000 (96%)]\tLoss: 2.622071\n",
            "Train Epoch: 10 [0/60000 (0%)]\tLoss: 2.622071\n",
            "Train Epoch: 10 [5000/60000 (11%)]\tLoss: 2.622071\n",
            "Train Epoch: 10 [10000/60000 (21%)]\tLoss: 2.622071\n",
            "Train Epoch: 10 [15000/60000 (32%)]\tLoss: 2.622071\n",
            "Train Epoch: 10 [20000/60000 (43%)]\tLoss: 2.622071\n",
            "Train Epoch: 10 [25000/60000 (53%)]\tLoss: 2.622071\n",
            "Train Epoch: 10 [30000/60000 (64%)]\tLoss: 2.622071\n",
            "Train Epoch: 10 [35000/60000 (75%)]\tLoss: 2.622071\n",
            "Train Epoch: 10 [40000/60000 (85%)]\tLoss: 2.622071\n",
            "Train Epoch: 10 [45000/60000 (96%)]\tLoss: 2.622071\n",
            "Train Epoch: 11 [0/60000 (0%)]\tLoss: 2.622071\n",
            "Train Epoch: 11 [5000/60000 (11%)]\tLoss: 2.622071\n",
            "Train Epoch: 11 [10000/60000 (21%)]\tLoss: 2.622071\n",
            "Train Epoch: 11 [15000/60000 (32%)]\tLoss: 2.622071\n",
            "Train Epoch: 11 [20000/60000 (43%)]\tLoss: 2.622071\n",
            "Train Epoch: 11 [25000/60000 (53%)]\tLoss: 2.622071\n",
            "Train Epoch: 11 [30000/60000 (64%)]\tLoss: 2.622071\n",
            "Train Epoch: 11 [35000/60000 (75%)]\tLoss: 2.622071\n",
            "Train Epoch: 11 [40000/60000 (85%)]\tLoss: 2.622071\n",
            "Train Epoch: 11 [45000/60000 (96%)]\tLoss: 2.622071\n",
            "Train Epoch: 12 [0/60000 (0%)]\tLoss: 2.622071\n",
            "Train Epoch: 12 [5000/60000 (11%)]\tLoss: 2.622071\n",
            "Train Epoch: 12 [10000/60000 (21%)]\tLoss: 2.622071\n",
            "Train Epoch: 12 [15000/60000 (32%)]\tLoss: 2.622071\n",
            "Train Epoch: 12 [20000/60000 (43%)]\tLoss: 2.622071\n",
            "Train Epoch: 12 [25000/60000 (53%)]\tLoss: 2.622071\n",
            "Train Epoch: 12 [30000/60000 (64%)]\tLoss: 2.622071\n",
            "Train Epoch: 12 [35000/60000 (75%)]\tLoss: 2.622071\n",
            "Train Epoch: 12 [40000/60000 (85%)]\tLoss: 2.622071\n",
            "Train Epoch: 12 [45000/60000 (96%)]\tLoss: 2.622071\n",
            "Train Epoch: 13 [0/60000 (0%)]\tLoss: 2.622071\n",
            "Train Epoch: 13 [5000/60000 (11%)]\tLoss: 2.622071\n",
            "Train Epoch: 13 [10000/60000 (21%)]\tLoss: 2.622071\n",
            "Train Epoch: 13 [15000/60000 (32%)]\tLoss: 2.622071\n",
            "Train Epoch: 13 [20000/60000 (43%)]\tLoss: 2.622071\n",
            "Train Epoch: 13 [25000/60000 (53%)]\tLoss: 2.622071\n",
            "Train Epoch: 13 [30000/60000 (64%)]\tLoss: 2.622071\n",
            "Train Epoch: 13 [35000/60000 (75%)]\tLoss: 2.622071\n",
            "Train Epoch: 13 [40000/60000 (85%)]\tLoss: 2.622071\n",
            "Train Epoch: 13 [45000/60000 (96%)]\tLoss: 2.622071\n",
            "Train Epoch: 14 [0/60000 (0%)]\tLoss: 2.622071\n",
            "Train Epoch: 14 [5000/60000 (11%)]\tLoss: 2.622071\n",
            "Train Epoch: 14 [10000/60000 (21%)]\tLoss: 2.622071\n",
            "Train Epoch: 14 [15000/60000 (32%)]\tLoss: 2.622071\n",
            "Train Epoch: 14 [20000/60000 (43%)]\tLoss: 2.622071\n",
            "Train Epoch: 14 [25000/60000 (53%)]\tLoss: 2.622071\n",
            "Train Epoch: 14 [30000/60000 (64%)]\tLoss: 2.622071\n",
            "Train Epoch: 14 [35000/60000 (75%)]\tLoss: 2.622071\n",
            "Train Epoch: 14 [40000/60000 (85%)]\tLoss: 2.622071\n",
            "Train Epoch: 14 [45000/60000 (96%)]\tLoss: 2.622071\n",
            "Train Epoch: 15 [0/60000 (0%)]\tLoss: 2.622071\n",
            "Train Epoch: 15 [5000/60000 (11%)]\tLoss: 2.622071\n",
            "Train Epoch: 15 [10000/60000 (21%)]\tLoss: 2.622071\n",
            "Train Epoch: 15 [15000/60000 (32%)]\tLoss: 2.622071\n",
            "Train Epoch: 15 [20000/60000 (43%)]\tLoss: 2.622071\n",
            "Train Epoch: 15 [25000/60000 (53%)]\tLoss: 2.622071\n",
            "Train Epoch: 15 [30000/60000 (64%)]\tLoss: 2.622071\n",
            "Train Epoch: 15 [35000/60000 (75%)]\tLoss: 2.622071\n",
            "Train Epoch: 15 [40000/60000 (85%)]\tLoss: 2.622071\n",
            "Train Epoch: 15 [45000/60000 (96%)]\tLoss: 2.622071\n",
            "Train Epoch: 16 [0/60000 (0%)]\tLoss: 2.622071\n",
            "Train Epoch: 16 [5000/60000 (11%)]\tLoss: 2.622071\n",
            "Train Epoch: 16 [10000/60000 (21%)]\tLoss: 2.622071\n",
            "Train Epoch: 16 [15000/60000 (32%)]\tLoss: 2.622071\n",
            "Train Epoch: 16 [20000/60000 (43%)]\tLoss: 2.622071\n",
            "Train Epoch: 16 [25000/60000 (53%)]\tLoss: 2.622071\n",
            "Train Epoch: 16 [30000/60000 (64%)]\tLoss: 2.622071\n",
            "Train Epoch: 16 [35000/60000 (75%)]\tLoss: 2.622071\n",
            "Train Epoch: 16 [40000/60000 (85%)]\tLoss: 2.622071\n",
            "Train Epoch: 16 [45000/60000 (96%)]\tLoss: 2.622071\n",
            "Train Epoch: 17 [0/60000 (0%)]\tLoss: 2.622071\n",
            "Train Epoch: 17 [5000/60000 (11%)]\tLoss: 2.622071\n",
            "Train Epoch: 17 [10000/60000 (21%)]\tLoss: 2.622071\n",
            "Train Epoch: 17 [15000/60000 (32%)]\tLoss: 2.622071\n",
            "Train Epoch: 17 [20000/60000 (43%)]\tLoss: 2.622071\n",
            "Train Epoch: 17 [25000/60000 (53%)]\tLoss: 2.622071\n",
            "Train Epoch: 17 [30000/60000 (64%)]\tLoss: 2.622071\n",
            "Train Epoch: 17 [35000/60000 (75%)]\tLoss: 2.622071\n",
            "Train Epoch: 17 [40000/60000 (85%)]\tLoss: 2.622071\n",
            "Train Epoch: 17 [45000/60000 (96%)]\tLoss: 2.622071\n",
            "Train Epoch: 18 [0/60000 (0%)]\tLoss: 2.622071\n",
            "Train Epoch: 18 [5000/60000 (11%)]\tLoss: 2.622071\n",
            "Train Epoch: 18 [10000/60000 (21%)]\tLoss: 2.622071\n",
            "Train Epoch: 18 [15000/60000 (32%)]\tLoss: 2.622071\n",
            "Train Epoch: 18 [20000/60000 (43%)]\tLoss: 2.622071\n",
            "Train Epoch: 18 [25000/60000 (53%)]\tLoss: 2.622071\n",
            "Train Epoch: 18 [30000/60000 (64%)]\tLoss: 2.622071\n",
            "Train Epoch: 18 [35000/60000 (75%)]\tLoss: 2.622071\n",
            "Train Epoch: 18 [40000/60000 (85%)]\tLoss: 2.622071\n",
            "Train Epoch: 18 [45000/60000 (96%)]\tLoss: 2.622071\n",
            "Train Epoch: 19 [0/60000 (0%)]\tLoss: 2.622071\n",
            "Train Epoch: 19 [5000/60000 (11%)]\tLoss: 2.622071\n",
            "Train Epoch: 19 [10000/60000 (21%)]\tLoss: 2.622071\n",
            "Train Epoch: 19 [15000/60000 (32%)]\tLoss: 2.622071\n",
            "Train Epoch: 19 [20000/60000 (43%)]\tLoss: 2.622071\n",
            "Train Epoch: 19 [25000/60000 (53%)]\tLoss: 2.622071\n",
            "Train Epoch: 19 [30000/60000 (64%)]\tLoss: 2.622071\n",
            "Train Epoch: 19 [35000/60000 (75%)]\tLoss: 2.622071\n",
            "Train Epoch: 19 [40000/60000 (85%)]\tLoss: 2.622071\n",
            "Train Epoch: 19 [45000/60000 (96%)]\tLoss: 2.622071\n"
          ]
        }
      ]
    },
    {
      "cell_type": "code",
      "source": [
        "test_fewer_examples(fewer_net)"
      ],
      "metadata": {
        "colab": {
          "base_uri": "https://localhost:8080/"
        },
        "id": "kx6VrE_6a2fY",
        "outputId": "c67a0349-a309-49c1-d875-4b813e47c473"
      },
      "execution_count": null,
      "outputs": [
        {
          "output_type": "stream",
          "name": "stdout",
          "text": [
            "\n",
            "Test set: Average loss: 2.5574, Accuracy: 651/10000 (7%)\n",
            "\n"
          ]
        }
      ]
    },
    {
      "cell_type": "markdown",
      "source": [
        "We see that we get a a very low accuracy score. With respect to the task at hand, the model is not able to generalize and form meaningful representations with limited data. The given dataset may not be fully representative of the data generating distribution which the model is trying to capture. Since the neural network is a versatile function mapper on data, it can learn to map a function wrt the limited data shown which may not be representative of the underlying function. The model needs more data to train on."
      ],
      "metadata": {
        "id": "KjzFBhWSUpiI"
      }
    },
    {
      "cell_type": "markdown",
      "source": [
        "# Part 3"
      ],
      "metadata": {
        "id": "Rxx-SI3AW5Mb"
      }
    },
    {
      "cell_type": "code",
      "source": [
        "\n",
        "class Net(nn.Module):\n",
        "    def __init__(self, num_inputs, num_outputs):\n",
        "        super(Net, self).__init__()\n",
        "        self.layer1 = nn.Linear(num_inputs, 1000)\n",
        "        self.layer2 = nn.Linear(1000,num_outputs)\n",
        "\n",
        "\n",
        "    def forward(self, input):\n",
        "        input = input.view(-1, num_inputs) # reshape input to batch x num_inputs\n",
        "        x = self.layer1(input)\n",
        "        x = F.tanh(x)\n",
        "        output = self.layer2(x)\n",
        "\n",
        "        return output\n",
        "\n",
        "network = Net(num_inputs, num_outputs)\n",
        "optimizer = optim.SGD(network.parameters(), lr=lr)"
      ],
      "metadata": {
        "id": "TrUy2uJFXCoj"
      },
      "execution_count": null,
      "outputs": []
    },
    {
      "cell_type": "code",
      "source": [
        "def train_network(epochs,network):\n",
        "  for epoch in range(epochs):\n",
        "    for batch_idx, (data, target) in enumerate(train_loader):\n",
        "        optimizer.zero_grad()\n",
        "        output = network(data)\n",
        "        loss = F.cross_entropy(output, target)\n",
        "        loss.backward()\n",
        "        optimizer.step()\n",
        "        if batch_idx % 100 == 0:\n",
        "            print('Train Epoch: {} [{}/{} ({:.0f}%)]\\tLoss: {:.6f}'.format(\n",
        "                epoch, batch_idx * len(data), len(train_loader.dataset),\n",
        "                100. * batch_idx / len(train_loader), loss.item()))"
      ],
      "metadata": {
        "id": "Z3AcKEoieW5r"
      },
      "execution_count": null,
      "outputs": []
    },
    {
      "cell_type": "code",
      "source": [
        "def test_network( network):\n",
        "  \n",
        "    network.eval()\n",
        "    test_loss = 0\n",
        "    correct = 0\n",
        "    for data, target in test_loader:\n",
        "        output = network(data)\n",
        "        test_loss += F.cross_entropy(output, target, reduction='sum').item() # sum up batch loss\n",
        "        pred = output.data.max(1, keepdim=True)[1] # get the index of the max log-probability\n",
        "        correct += pred.eq(target.data.view_as(pred)).cpu().sum()\n",
        "\n",
        "    test_loss /= len(test_loader.dataset)\n",
        "    print('\\nTest set: Average loss: {:.4f}, Accuracy: {}/{} ({:.0f}%)\\n'.format(\n",
        "        test_loss, correct, len(test_loader.dataset),\n",
        "        100. * correct / len(test_loader.dataset)))\n"
      ],
      "metadata": {
        "id": "29s2gmnkenKo"
      },
      "execution_count": null,
      "outputs": []
    },
    {
      "cell_type": "code",
      "source": [
        "train_network(20,network)"
      ],
      "metadata": {
        "colab": {
          "base_uri": "https://localhost:8080/"
        },
        "id": "6YLkHYkEfITx",
        "outputId": "2c295463-3eef-4c6d-a21d-df114f8f82eb"
      },
      "execution_count": null,
      "outputs": [
        {
          "output_type": "stream",
          "name": "stdout",
          "text": [
            "Train Epoch: 0 [0/60000 (0%)]\tLoss: 2.363920\n",
            "Train Epoch: 0 [6400/60000 (11%)]\tLoss: 0.751795\n",
            "Train Epoch: 0 [12800/60000 (21%)]\tLoss: 0.542119\n",
            "Train Epoch: 0 [19200/60000 (32%)]\tLoss: 0.456941\n",
            "Train Epoch: 0 [25600/60000 (43%)]\tLoss: 0.384891\n",
            "Train Epoch: 0 [32000/60000 (53%)]\tLoss: 0.468179\n",
            "Train Epoch: 0 [38400/60000 (64%)]\tLoss: 0.358359\n",
            "Train Epoch: 0 [44800/60000 (75%)]\tLoss: 0.354831\n",
            "Train Epoch: 0 [51200/60000 (85%)]\tLoss: 0.468747\n",
            "Train Epoch: 0 [57600/60000 (96%)]\tLoss: 0.220206\n",
            "Train Epoch: 1 [0/60000 (0%)]\tLoss: 0.357213\n",
            "Train Epoch: 1 [6400/60000 (11%)]\tLoss: 0.212456\n",
            "Train Epoch: 1 [12800/60000 (21%)]\tLoss: 0.335676\n",
            "Train Epoch: 1 [19200/60000 (32%)]\tLoss: 0.227792\n",
            "Train Epoch: 1 [25600/60000 (43%)]\tLoss: 0.272437\n",
            "Train Epoch: 1 [32000/60000 (53%)]\tLoss: 0.275555\n",
            "Train Epoch: 1 [38400/60000 (64%)]\tLoss: 0.372031\n",
            "Train Epoch: 1 [44800/60000 (75%)]\tLoss: 0.379412\n",
            "Train Epoch: 1 [51200/60000 (85%)]\tLoss: 0.249927\n",
            "Train Epoch: 1 [57600/60000 (96%)]\tLoss: 0.365439\n",
            "Train Epoch: 2 [0/60000 (0%)]\tLoss: 0.277758\n",
            "Train Epoch: 2 [6400/60000 (11%)]\tLoss: 0.248864\n",
            "Train Epoch: 2 [12800/60000 (21%)]\tLoss: 0.254740\n",
            "Train Epoch: 2 [19200/60000 (32%)]\tLoss: 0.392478\n",
            "Train Epoch: 2 [25600/60000 (43%)]\tLoss: 0.174283\n",
            "Train Epoch: 2 [32000/60000 (53%)]\tLoss: 0.409632\n",
            "Train Epoch: 2 [38400/60000 (64%)]\tLoss: 0.232129\n",
            "Train Epoch: 2 [44800/60000 (75%)]\tLoss: 0.220080\n",
            "Train Epoch: 2 [51200/60000 (85%)]\tLoss: 0.253809\n",
            "Train Epoch: 2 [57600/60000 (96%)]\tLoss: 0.304803\n",
            "Train Epoch: 3 [0/60000 (0%)]\tLoss: 0.201678\n",
            "Train Epoch: 3 [6400/60000 (11%)]\tLoss: 0.257600\n",
            "Train Epoch: 3 [12800/60000 (21%)]\tLoss: 0.161289\n",
            "Train Epoch: 3 [19200/60000 (32%)]\tLoss: 0.163798\n",
            "Train Epoch: 3 [25600/60000 (43%)]\tLoss: 0.355650\n",
            "Train Epoch: 3 [32000/60000 (53%)]\tLoss: 0.190437\n",
            "Train Epoch: 3 [38400/60000 (64%)]\tLoss: 0.275245\n",
            "Train Epoch: 3 [44800/60000 (75%)]\tLoss: 0.295499\n",
            "Train Epoch: 3 [51200/60000 (85%)]\tLoss: 0.263169\n",
            "Train Epoch: 3 [57600/60000 (96%)]\tLoss: 0.227504\n",
            "Train Epoch: 4 [0/60000 (0%)]\tLoss: 0.406068\n",
            "Train Epoch: 4 [6400/60000 (11%)]\tLoss: 0.158796\n",
            "Train Epoch: 4 [12800/60000 (21%)]\tLoss: 0.313478\n",
            "Train Epoch: 4 [19200/60000 (32%)]\tLoss: 0.203162\n",
            "Train Epoch: 4 [25600/60000 (43%)]\tLoss: 0.129209\n",
            "Train Epoch: 4 [32000/60000 (53%)]\tLoss: 0.197550\n",
            "Train Epoch: 4 [38400/60000 (64%)]\tLoss: 0.197217\n",
            "Train Epoch: 4 [44800/60000 (75%)]\tLoss: 0.323606\n",
            "Train Epoch: 4 [51200/60000 (85%)]\tLoss: 0.321704\n",
            "Train Epoch: 4 [57600/60000 (96%)]\tLoss: 0.121780\n",
            "Train Epoch: 5 [0/60000 (0%)]\tLoss: 0.235252\n",
            "Train Epoch: 5 [6400/60000 (11%)]\tLoss: 0.311666\n",
            "Train Epoch: 5 [12800/60000 (21%)]\tLoss: 0.267092\n",
            "Train Epoch: 5 [19200/60000 (32%)]\tLoss: 0.153394\n",
            "Train Epoch: 5 [25600/60000 (43%)]\tLoss: 0.143843\n",
            "Train Epoch: 5 [32000/60000 (53%)]\tLoss: 0.198142\n",
            "Train Epoch: 5 [38400/60000 (64%)]\tLoss: 0.141173\n",
            "Train Epoch: 5 [44800/60000 (75%)]\tLoss: 0.294217\n",
            "Train Epoch: 5 [51200/60000 (85%)]\tLoss: 0.222937\n",
            "Train Epoch: 5 [57600/60000 (96%)]\tLoss: 0.354218\n",
            "Train Epoch: 6 [0/60000 (0%)]\tLoss: 0.208283\n",
            "Train Epoch: 6 [6400/60000 (11%)]\tLoss: 0.227245\n",
            "Train Epoch: 6 [12800/60000 (21%)]\tLoss: 0.187615\n",
            "Train Epoch: 6 [19200/60000 (32%)]\tLoss: 0.205805\n",
            "Train Epoch: 6 [25600/60000 (43%)]\tLoss: 0.185596\n",
            "Train Epoch: 6 [32000/60000 (53%)]\tLoss: 0.151210\n",
            "Train Epoch: 6 [38400/60000 (64%)]\tLoss: 0.132822\n",
            "Train Epoch: 6 [44800/60000 (75%)]\tLoss: 0.338042\n",
            "Train Epoch: 6 [51200/60000 (85%)]\tLoss: 0.231101\n",
            "Train Epoch: 6 [57600/60000 (96%)]\tLoss: 0.172520\n",
            "Train Epoch: 7 [0/60000 (0%)]\tLoss: 0.107702\n",
            "Train Epoch: 7 [6400/60000 (11%)]\tLoss: 0.139871\n",
            "Train Epoch: 7 [12800/60000 (21%)]\tLoss: 0.104381\n",
            "Train Epoch: 7 [19200/60000 (32%)]\tLoss: 0.153989\n",
            "Train Epoch: 7 [25600/60000 (43%)]\tLoss: 0.199485\n",
            "Train Epoch: 7 [32000/60000 (53%)]\tLoss: 0.200684\n",
            "Train Epoch: 7 [38400/60000 (64%)]\tLoss: 0.200016\n",
            "Train Epoch: 7 [44800/60000 (75%)]\tLoss: 0.130147\n",
            "Train Epoch: 7 [51200/60000 (85%)]\tLoss: 0.244772\n",
            "Train Epoch: 7 [57600/60000 (96%)]\tLoss: 0.244241\n",
            "Train Epoch: 8 [0/60000 (0%)]\tLoss: 0.093158\n",
            "Train Epoch: 8 [6400/60000 (11%)]\tLoss: 0.255833\n",
            "Train Epoch: 8 [12800/60000 (21%)]\tLoss: 0.169604\n",
            "Train Epoch: 8 [19200/60000 (32%)]\tLoss: 0.211617\n",
            "Train Epoch: 8 [25600/60000 (43%)]\tLoss: 0.153648\n",
            "Train Epoch: 8 [32000/60000 (53%)]\tLoss: 0.306750\n",
            "Train Epoch: 8 [38400/60000 (64%)]\tLoss: 0.190924\n",
            "Train Epoch: 8 [44800/60000 (75%)]\tLoss: 0.124743\n",
            "Train Epoch: 8 [51200/60000 (85%)]\tLoss: 0.204066\n",
            "Train Epoch: 8 [57600/60000 (96%)]\tLoss: 0.107363\n",
            "Train Epoch: 9 [0/60000 (0%)]\tLoss: 0.183624\n",
            "Train Epoch: 9 [6400/60000 (11%)]\tLoss: 0.227819\n",
            "Train Epoch: 9 [12800/60000 (21%)]\tLoss: 0.347325\n",
            "Train Epoch: 9 [19200/60000 (32%)]\tLoss: 0.214910\n",
            "Train Epoch: 9 [25600/60000 (43%)]\tLoss: 0.228846\n",
            "Train Epoch: 9 [32000/60000 (53%)]\tLoss: 0.133677\n",
            "Train Epoch: 9 [38400/60000 (64%)]\tLoss: 0.246927\n",
            "Train Epoch: 9 [44800/60000 (75%)]\tLoss: 0.209337\n",
            "Train Epoch: 9 [51200/60000 (85%)]\tLoss: 0.127490\n",
            "Train Epoch: 9 [57600/60000 (96%)]\tLoss: 0.234082\n",
            "Train Epoch: 10 [0/60000 (0%)]\tLoss: 0.146148\n",
            "Train Epoch: 10 [6400/60000 (11%)]\tLoss: 0.154601\n",
            "Train Epoch: 10 [12800/60000 (21%)]\tLoss: 0.233860\n",
            "Train Epoch: 10 [19200/60000 (32%)]\tLoss: 0.160347\n",
            "Train Epoch: 10 [25600/60000 (43%)]\tLoss: 0.056025\n",
            "Train Epoch: 10 [32000/60000 (53%)]\tLoss: 0.265431\n",
            "Train Epoch: 10 [38400/60000 (64%)]\tLoss: 0.118189\n",
            "Train Epoch: 10 [44800/60000 (75%)]\tLoss: 0.213203\n",
            "Train Epoch: 10 [51200/60000 (85%)]\tLoss: 0.058538\n",
            "Train Epoch: 10 [57600/60000 (96%)]\tLoss: 0.078824\n",
            "Train Epoch: 11 [0/60000 (0%)]\tLoss: 0.065631\n",
            "Train Epoch: 11 [6400/60000 (11%)]\tLoss: 0.180334\n",
            "Train Epoch: 11 [12800/60000 (21%)]\tLoss: 0.138189\n",
            "Train Epoch: 11 [19200/60000 (32%)]\tLoss: 0.243180\n",
            "Train Epoch: 11 [25600/60000 (43%)]\tLoss: 0.129538\n",
            "Train Epoch: 11 [32000/60000 (53%)]\tLoss: 0.095105\n",
            "Train Epoch: 11 [38400/60000 (64%)]\tLoss: 0.037165\n",
            "Train Epoch: 11 [44800/60000 (75%)]\tLoss: 0.228262\n",
            "Train Epoch: 11 [51200/60000 (85%)]\tLoss: 0.117240\n",
            "Train Epoch: 11 [57600/60000 (96%)]\tLoss: 0.126527\n",
            "Train Epoch: 12 [0/60000 (0%)]\tLoss: 0.100906\n",
            "Train Epoch: 12 [6400/60000 (11%)]\tLoss: 0.099328\n",
            "Train Epoch: 12 [12800/60000 (21%)]\tLoss: 0.189757\n",
            "Train Epoch: 12 [19200/60000 (32%)]\tLoss: 0.129465\n",
            "Train Epoch: 12 [25600/60000 (43%)]\tLoss: 0.102209\n",
            "Train Epoch: 12 [32000/60000 (53%)]\tLoss: 0.088811\n",
            "Train Epoch: 12 [38400/60000 (64%)]\tLoss: 0.033883\n",
            "Train Epoch: 12 [44800/60000 (75%)]\tLoss: 0.091106\n",
            "Train Epoch: 12 [51200/60000 (85%)]\tLoss: 0.121972\n",
            "Train Epoch: 12 [57600/60000 (96%)]\tLoss: 0.158051\n",
            "Train Epoch: 13 [0/60000 (0%)]\tLoss: 0.130828\n",
            "Train Epoch: 13 [6400/60000 (11%)]\tLoss: 0.097718\n",
            "Train Epoch: 13 [12800/60000 (21%)]\tLoss: 0.066469\n",
            "Train Epoch: 13 [19200/60000 (32%)]\tLoss: 0.123845\n",
            "Train Epoch: 13 [25600/60000 (43%)]\tLoss: 0.270858\n",
            "Train Epoch: 13 [32000/60000 (53%)]\tLoss: 0.138490\n",
            "Train Epoch: 13 [38400/60000 (64%)]\tLoss: 0.159902\n",
            "Train Epoch: 13 [44800/60000 (75%)]\tLoss: 0.118438\n",
            "Train Epoch: 13 [51200/60000 (85%)]\tLoss: 0.050481\n",
            "Train Epoch: 13 [57600/60000 (96%)]\tLoss: 0.132769\n",
            "Train Epoch: 14 [0/60000 (0%)]\tLoss: 0.176682\n",
            "Train Epoch: 14 [6400/60000 (11%)]\tLoss: 0.200609\n",
            "Train Epoch: 14 [12800/60000 (21%)]\tLoss: 0.117186\n",
            "Train Epoch: 14 [19200/60000 (32%)]\tLoss: 0.105399\n",
            "Train Epoch: 14 [25600/60000 (43%)]\tLoss: 0.148281\n",
            "Train Epoch: 14 [32000/60000 (53%)]\tLoss: 0.149743\n",
            "Train Epoch: 14 [38400/60000 (64%)]\tLoss: 0.073168\n",
            "Train Epoch: 14 [44800/60000 (75%)]\tLoss: 0.122578\n",
            "Train Epoch: 14 [51200/60000 (85%)]\tLoss: 0.086401\n",
            "Train Epoch: 14 [57600/60000 (96%)]\tLoss: 0.187326\n",
            "Train Epoch: 15 [0/60000 (0%)]\tLoss: 0.049287\n",
            "Train Epoch: 15 [6400/60000 (11%)]\tLoss: 0.113594\n",
            "Train Epoch: 15 [12800/60000 (21%)]\tLoss: 0.074946\n",
            "Train Epoch: 15 [19200/60000 (32%)]\tLoss: 0.053784\n",
            "Train Epoch: 15 [25600/60000 (43%)]\tLoss: 0.067672\n",
            "Train Epoch: 15 [32000/60000 (53%)]\tLoss: 0.240229\n",
            "Train Epoch: 15 [38400/60000 (64%)]\tLoss: 0.117650\n",
            "Train Epoch: 15 [44800/60000 (75%)]\tLoss: 0.059156\n",
            "Train Epoch: 15 [51200/60000 (85%)]\tLoss: 0.088255\n",
            "Train Epoch: 15 [57600/60000 (96%)]\tLoss: 0.054009\n",
            "Train Epoch: 16 [0/60000 (0%)]\tLoss: 0.189833\n",
            "Train Epoch: 16 [6400/60000 (11%)]\tLoss: 0.070873\n",
            "Train Epoch: 16 [12800/60000 (21%)]\tLoss: 0.070177\n",
            "Train Epoch: 16 [19200/60000 (32%)]\tLoss: 0.026388\n",
            "Train Epoch: 16 [25600/60000 (43%)]\tLoss: 0.030395\n",
            "Train Epoch: 16 [32000/60000 (53%)]\tLoss: 0.216624\n",
            "Train Epoch: 16 [38400/60000 (64%)]\tLoss: 0.093064\n",
            "Train Epoch: 16 [44800/60000 (75%)]\tLoss: 0.115413\n",
            "Train Epoch: 16 [51200/60000 (85%)]\tLoss: 0.051728\n",
            "Train Epoch: 16 [57600/60000 (96%)]\tLoss: 0.127059\n",
            "Train Epoch: 17 [0/60000 (0%)]\tLoss: 0.043366\n",
            "Train Epoch: 17 [6400/60000 (11%)]\tLoss: 0.226800\n",
            "Train Epoch: 17 [12800/60000 (21%)]\tLoss: 0.151553\n",
            "Train Epoch: 17 [19200/60000 (32%)]\tLoss: 0.080074\n",
            "Train Epoch: 17 [25600/60000 (43%)]\tLoss: 0.085227\n",
            "Train Epoch: 17 [32000/60000 (53%)]\tLoss: 0.037813\n",
            "Train Epoch: 17 [38400/60000 (64%)]\tLoss: 0.093849\n",
            "Train Epoch: 17 [44800/60000 (75%)]\tLoss: 0.074393\n",
            "Train Epoch: 17 [51200/60000 (85%)]\tLoss: 0.081233\n",
            "Train Epoch: 17 [57600/60000 (96%)]\tLoss: 0.150264\n",
            "Train Epoch: 18 [0/60000 (0%)]\tLoss: 0.110258\n",
            "Train Epoch: 18 [6400/60000 (11%)]\tLoss: 0.036160\n",
            "Train Epoch: 18 [12800/60000 (21%)]\tLoss: 0.109313\n",
            "Train Epoch: 18 [19200/60000 (32%)]\tLoss: 0.056798\n",
            "Train Epoch: 18 [25600/60000 (43%)]\tLoss: 0.087532\n",
            "Train Epoch: 18 [32000/60000 (53%)]\tLoss: 0.166510\n",
            "Train Epoch: 18 [38400/60000 (64%)]\tLoss: 0.050869\n",
            "Train Epoch: 18 [44800/60000 (75%)]\tLoss: 0.070889\n",
            "Train Epoch: 18 [51200/60000 (85%)]\tLoss: 0.078974\n",
            "Train Epoch: 18 [57600/60000 (96%)]\tLoss: 0.177351\n",
            "Train Epoch: 19 [0/60000 (0%)]\tLoss: 0.038233\n",
            "Train Epoch: 19 [6400/60000 (11%)]\tLoss: 0.056302\n",
            "Train Epoch: 19 [12800/60000 (21%)]\tLoss: 0.072423\n",
            "Train Epoch: 19 [19200/60000 (32%)]\tLoss: 0.136163\n",
            "Train Epoch: 19 [25600/60000 (43%)]\tLoss: 0.043816\n",
            "Train Epoch: 19 [32000/60000 (53%)]\tLoss: 0.074562\n",
            "Train Epoch: 19 [38400/60000 (64%)]\tLoss: 0.135697\n",
            "Train Epoch: 19 [44800/60000 (75%)]\tLoss: 0.119364\n",
            "Train Epoch: 19 [51200/60000 (85%)]\tLoss: 0.099359\n",
            "Train Epoch: 19 [57600/60000 (96%)]\tLoss: 0.103545\n"
          ]
        }
      ]
    },
    {
      "cell_type": "code",
      "source": [
        "test_network(network)"
      ],
      "metadata": {
        "colab": {
          "base_uri": "https://localhost:8080/"
        },
        "id": "x5t7jHmlkWNm",
        "outputId": "91ec15e7-ecc6-431e-c47f-59e8a5754d11"
      },
      "execution_count": null,
      "outputs": [
        {
          "output_type": "stream",
          "name": "stdout",
          "text": [
            "\n",
            "Test set: Average loss: 0.0732, Accuracy: 9778/10000 (98%)\n",
            "\n"
          ]
        }
      ]
    },
    {
      "cell_type": "code",
      "source": [
        "lr =10 "
      ],
      "metadata": {
        "id": "1jRGLxgbmk_S"
      },
      "execution_count": null,
      "outputs": []
    },
    {
      "cell_type": "code",
      "source": [
        "\n",
        "network = Net(num_inputs, num_outputs)\n",
        "optimizer = optim.SGD(network.parameters(), lr=lr)"
      ],
      "metadata": {
        "id": "j-d4SAFEq2O0"
      },
      "execution_count": null,
      "outputs": []
    },
    {
      "cell_type": "code",
      "source": [
        "train_network(20,network)"
      ],
      "metadata": {
        "colab": {
          "base_uri": "https://localhost:8080/"
        },
        "id": "kAL_xoR6pzp2",
        "outputId": "40923c95-b6c8-4043-fb6d-b9ea5133f64d"
      },
      "execution_count": null,
      "outputs": [
        {
          "output_type": "stream",
          "name": "stdout",
          "text": [
            "Train Epoch: 0 [0/60000 (0%)]\tLoss: 2.403147\n",
            "Train Epoch: 0 [6400/60000 (11%)]\tLoss: 1840.159668\n",
            "Train Epoch: 0 [12800/60000 (21%)]\tLoss: 921.110291\n",
            "Train Epoch: 0 [19200/60000 (32%)]\tLoss: 844.946899\n",
            "Train Epoch: 0 [25600/60000 (43%)]\tLoss: 773.075317\n",
            "Train Epoch: 0 [32000/60000 (53%)]\tLoss: 615.471252\n",
            "Train Epoch: 0 [38400/60000 (64%)]\tLoss: 362.419373\n",
            "Train Epoch: 0 [44800/60000 (75%)]\tLoss: 1083.430176\n",
            "Train Epoch: 0 [51200/60000 (85%)]\tLoss: 256.072357\n",
            "Train Epoch: 0 [57600/60000 (96%)]\tLoss: 806.931152\n",
            "Train Epoch: 1 [0/60000 (0%)]\tLoss: 315.760010\n",
            "Train Epoch: 1 [6400/60000 (11%)]\tLoss: 148.693741\n",
            "Train Epoch: 1 [12800/60000 (21%)]\tLoss: 736.879028\n",
            "Train Epoch: 1 [19200/60000 (32%)]\tLoss: 711.858154\n",
            "Train Epoch: 1 [25600/60000 (43%)]\tLoss: 241.924408\n",
            "Train Epoch: 1 [32000/60000 (53%)]\tLoss: 309.966217\n",
            "Train Epoch: 1 [38400/60000 (64%)]\tLoss: 324.832245\n",
            "Train Epoch: 1 [44800/60000 (75%)]\tLoss: 141.518539\n",
            "Train Epoch: 1 [51200/60000 (85%)]\tLoss: 284.018341\n",
            "Train Epoch: 1 [57600/60000 (96%)]\tLoss: 121.661652\n",
            "Train Epoch: 2 [0/60000 (0%)]\tLoss: 592.053711\n",
            "Train Epoch: 2 [6400/60000 (11%)]\tLoss: 189.572433\n",
            "Train Epoch: 2 [12800/60000 (21%)]\tLoss: 195.127762\n",
            "Train Epoch: 2 [19200/60000 (32%)]\tLoss: 204.296722\n",
            "Train Epoch: 2 [25600/60000 (43%)]\tLoss: 252.473953\n",
            "Train Epoch: 2 [32000/60000 (53%)]\tLoss: 205.919815\n",
            "Train Epoch: 2 [38400/60000 (64%)]\tLoss: 272.186981\n",
            "Train Epoch: 2 [44800/60000 (75%)]\tLoss: 312.758057\n",
            "Train Epoch: 2 [51200/60000 (85%)]\tLoss: 659.607056\n",
            "Train Epoch: 2 [57600/60000 (96%)]\tLoss: 223.551025\n",
            "Train Epoch: 3 [0/60000 (0%)]\tLoss: 405.178223\n",
            "Train Epoch: 3 [6400/60000 (11%)]\tLoss: 229.838165\n",
            "Train Epoch: 3 [12800/60000 (21%)]\tLoss: 277.794556\n",
            "Train Epoch: 3 [19200/60000 (32%)]\tLoss: 268.086395\n",
            "Train Epoch: 3 [25600/60000 (43%)]\tLoss: 324.280518\n",
            "Train Epoch: 3 [32000/60000 (53%)]\tLoss: 462.731995\n",
            "Train Epoch: 3 [38400/60000 (64%)]\tLoss: 553.221313\n",
            "Train Epoch: 3 [44800/60000 (75%)]\tLoss: 297.340393\n",
            "Train Epoch: 3 [51200/60000 (85%)]\tLoss: 99.004585\n",
            "Train Epoch: 3 [57600/60000 (96%)]\tLoss: 503.649811\n",
            "Train Epoch: 4 [0/60000 (0%)]\tLoss: 185.495178\n",
            "Train Epoch: 4 [6400/60000 (11%)]\tLoss: 383.464478\n",
            "Train Epoch: 4 [12800/60000 (21%)]\tLoss: 297.103363\n",
            "Train Epoch: 4 [19200/60000 (32%)]\tLoss: 186.739578\n",
            "Train Epoch: 4 [25600/60000 (43%)]\tLoss: 430.098328\n",
            "Train Epoch: 4 [32000/60000 (53%)]\tLoss: 308.838196\n",
            "Train Epoch: 4 [38400/60000 (64%)]\tLoss: 239.026733\n",
            "Train Epoch: 4 [44800/60000 (75%)]\tLoss: 327.807922\n",
            "Train Epoch: 4 [51200/60000 (85%)]\tLoss: 105.443787\n",
            "Train Epoch: 4 [57600/60000 (96%)]\tLoss: 506.079773\n",
            "Train Epoch: 5 [0/60000 (0%)]\tLoss: 130.844757\n",
            "Train Epoch: 5 [6400/60000 (11%)]\tLoss: 79.548111\n",
            "Train Epoch: 5 [12800/60000 (21%)]\tLoss: 290.056824\n",
            "Train Epoch: 5 [19200/60000 (32%)]\tLoss: 219.550842\n",
            "Train Epoch: 5 [25600/60000 (43%)]\tLoss: 438.460052\n",
            "Train Epoch: 5 [32000/60000 (53%)]\tLoss: 107.104782\n",
            "Train Epoch: 5 [38400/60000 (64%)]\tLoss: 294.438751\n",
            "Train Epoch: 5 [44800/60000 (75%)]\tLoss: 505.706635\n",
            "Train Epoch: 5 [51200/60000 (85%)]\tLoss: 241.045685\n",
            "Train Epoch: 5 [57600/60000 (96%)]\tLoss: 35.566265\n",
            "Train Epoch: 6 [0/60000 (0%)]\tLoss: 654.678650\n",
            "Train Epoch: 6 [6400/60000 (11%)]\tLoss: 166.308655\n",
            "Train Epoch: 6 [12800/60000 (21%)]\tLoss: 110.201431\n",
            "Train Epoch: 6 [19200/60000 (32%)]\tLoss: 98.650833\n",
            "Train Epoch: 6 [25600/60000 (43%)]\tLoss: 189.118591\n",
            "Train Epoch: 6 [32000/60000 (53%)]\tLoss: 150.477234\n",
            "Train Epoch: 6 [38400/60000 (64%)]\tLoss: 232.903397\n",
            "Train Epoch: 6 [44800/60000 (75%)]\tLoss: 377.817383\n",
            "Train Epoch: 6 [51200/60000 (85%)]\tLoss: 245.497665\n",
            "Train Epoch: 6 [57600/60000 (96%)]\tLoss: 370.984619\n",
            "Train Epoch: 7 [0/60000 (0%)]\tLoss: 359.753815\n",
            "Train Epoch: 7 [6400/60000 (11%)]\tLoss: 139.328125\n",
            "Train Epoch: 7 [12800/60000 (21%)]\tLoss: 482.340912\n",
            "Train Epoch: 7 [19200/60000 (32%)]\tLoss: 367.831116\n",
            "Train Epoch: 7 [25600/60000 (43%)]\tLoss: 389.386414\n",
            "Train Epoch: 7 [32000/60000 (53%)]\tLoss: 116.460815\n",
            "Train Epoch: 7 [38400/60000 (64%)]\tLoss: 186.546051\n",
            "Train Epoch: 7 [44800/60000 (75%)]\tLoss: 170.610016\n",
            "Train Epoch: 7 [51200/60000 (85%)]\tLoss: 202.587769\n",
            "Train Epoch: 7 [57600/60000 (96%)]\tLoss: 278.447571\n",
            "Train Epoch: 8 [0/60000 (0%)]\tLoss: 726.180420\n",
            "Train Epoch: 8 [6400/60000 (11%)]\tLoss: 137.422714\n",
            "Train Epoch: 8 [12800/60000 (21%)]\tLoss: 128.846146\n",
            "Train Epoch: 8 [19200/60000 (32%)]\tLoss: 235.214951\n",
            "Train Epoch: 8 [25600/60000 (43%)]\tLoss: 323.221405\n",
            "Train Epoch: 8 [32000/60000 (53%)]\tLoss: 280.074097\n",
            "Train Epoch: 8 [38400/60000 (64%)]\tLoss: 194.304016\n",
            "Train Epoch: 8 [44800/60000 (75%)]\tLoss: 225.080475\n",
            "Train Epoch: 8 [51200/60000 (85%)]\tLoss: 272.082916\n",
            "Train Epoch: 8 [57600/60000 (96%)]\tLoss: 162.791733\n",
            "Train Epoch: 9 [0/60000 (0%)]\tLoss: 345.060974\n",
            "Train Epoch: 9 [6400/60000 (11%)]\tLoss: 79.056763\n",
            "Train Epoch: 9 [12800/60000 (21%)]\tLoss: 124.556488\n",
            "Train Epoch: 9 [19200/60000 (32%)]\tLoss: 112.675217\n",
            "Train Epoch: 9 [25600/60000 (43%)]\tLoss: 180.402344\n",
            "Train Epoch: 9 [32000/60000 (53%)]\tLoss: 337.341339\n",
            "Train Epoch: 9 [38400/60000 (64%)]\tLoss: 219.588318\n",
            "Train Epoch: 9 [44800/60000 (75%)]\tLoss: 169.561981\n",
            "Train Epoch: 9 [51200/60000 (85%)]\tLoss: 258.472473\n",
            "Train Epoch: 9 [57600/60000 (96%)]\tLoss: 493.052307\n",
            "Train Epoch: 10 [0/60000 (0%)]\tLoss: 158.841309\n",
            "Train Epoch: 10 [6400/60000 (11%)]\tLoss: 122.667938\n",
            "Train Epoch: 10 [12800/60000 (21%)]\tLoss: 275.563965\n",
            "Train Epoch: 10 [19200/60000 (32%)]\tLoss: 288.130798\n",
            "Train Epoch: 10 [25600/60000 (43%)]\tLoss: 107.387741\n",
            "Train Epoch: 10 [32000/60000 (53%)]\tLoss: 126.022667\n",
            "Train Epoch: 10 [38400/60000 (64%)]\tLoss: 300.165619\n",
            "Train Epoch: 10 [44800/60000 (75%)]\tLoss: 245.614380\n",
            "Train Epoch: 10 [51200/60000 (85%)]\tLoss: 337.064392\n",
            "Train Epoch: 10 [57600/60000 (96%)]\tLoss: 303.227814\n",
            "Train Epoch: 11 [0/60000 (0%)]\tLoss: 234.231842\n",
            "Train Epoch: 11 [6400/60000 (11%)]\tLoss: 238.120407\n",
            "Train Epoch: 11 [12800/60000 (21%)]\tLoss: 210.223389\n",
            "Train Epoch: 11 [19200/60000 (32%)]\tLoss: 389.921753\n",
            "Train Epoch: 11 [25600/60000 (43%)]\tLoss: 192.627441\n",
            "Train Epoch: 11 [32000/60000 (53%)]\tLoss: 85.389282\n",
            "Train Epoch: 11 [38400/60000 (64%)]\tLoss: 126.298218\n",
            "Train Epoch: 11 [44800/60000 (75%)]\tLoss: 96.722008\n",
            "Train Epoch: 11 [51200/60000 (85%)]\tLoss: 432.396942\n",
            "Train Epoch: 11 [57600/60000 (96%)]\tLoss: 129.594513\n",
            "Train Epoch: 12 [0/60000 (0%)]\tLoss: 129.263550\n",
            "Train Epoch: 12 [6400/60000 (11%)]\tLoss: 180.429489\n",
            "Train Epoch: 12 [12800/60000 (21%)]\tLoss: 120.574806\n",
            "Train Epoch: 12 [19200/60000 (32%)]\tLoss: 201.276276\n",
            "Train Epoch: 12 [25600/60000 (43%)]\tLoss: 194.173477\n",
            "Train Epoch: 12 [32000/60000 (53%)]\tLoss: 171.691788\n",
            "Train Epoch: 12 [38400/60000 (64%)]\tLoss: 48.831993\n",
            "Train Epoch: 12 [44800/60000 (75%)]\tLoss: 168.973557\n",
            "Train Epoch: 12 [51200/60000 (85%)]\tLoss: 217.890854\n",
            "Train Epoch: 12 [57600/60000 (96%)]\tLoss: 195.125458\n",
            "Train Epoch: 13 [0/60000 (0%)]\tLoss: 447.393188\n",
            "Train Epoch: 13 [6400/60000 (11%)]\tLoss: 133.178146\n",
            "Train Epoch: 13 [12800/60000 (21%)]\tLoss: 157.932404\n",
            "Train Epoch: 13 [19200/60000 (32%)]\tLoss: 83.122406\n",
            "Train Epoch: 13 [25600/60000 (43%)]\tLoss: 349.694031\n",
            "Train Epoch: 13 [32000/60000 (53%)]\tLoss: 182.386658\n",
            "Train Epoch: 13 [38400/60000 (64%)]\tLoss: 185.116577\n",
            "Train Epoch: 13 [44800/60000 (75%)]\tLoss: 323.650391\n",
            "Train Epoch: 13 [51200/60000 (85%)]\tLoss: 218.692902\n",
            "Train Epoch: 13 [57600/60000 (96%)]\tLoss: 138.161148\n",
            "Train Epoch: 14 [0/60000 (0%)]\tLoss: 196.970581\n",
            "Train Epoch: 14 [6400/60000 (11%)]\tLoss: 200.631866\n",
            "Train Epoch: 14 [12800/60000 (21%)]\tLoss: 173.481445\n",
            "Train Epoch: 14 [19200/60000 (32%)]\tLoss: 67.320747\n",
            "Train Epoch: 14 [25600/60000 (43%)]\tLoss: 130.701477\n",
            "Train Epoch: 14 [32000/60000 (53%)]\tLoss: 157.619019\n",
            "Train Epoch: 14 [38400/60000 (64%)]\tLoss: 124.633438\n",
            "Train Epoch: 14 [44800/60000 (75%)]\tLoss: 115.207840\n",
            "Train Epoch: 14 [51200/60000 (85%)]\tLoss: 107.462166\n",
            "Train Epoch: 14 [57600/60000 (96%)]\tLoss: 134.427551\n",
            "Train Epoch: 15 [0/60000 (0%)]\tLoss: 207.715042\n",
            "Train Epoch: 15 [6400/60000 (11%)]\tLoss: 95.302437\n",
            "Train Epoch: 15 [12800/60000 (21%)]\tLoss: 108.651749\n",
            "Train Epoch: 15 [19200/60000 (32%)]\tLoss: 126.739731\n",
            "Train Epoch: 15 [25600/60000 (43%)]\tLoss: 498.906860\n",
            "Train Epoch: 15 [32000/60000 (53%)]\tLoss: 79.319725\n",
            "Train Epoch: 15 [38400/60000 (64%)]\tLoss: 84.379448\n",
            "Train Epoch: 15 [44800/60000 (75%)]\tLoss: 116.703194\n",
            "Train Epoch: 15 [51200/60000 (85%)]\tLoss: 129.299149\n",
            "Train Epoch: 15 [57600/60000 (96%)]\tLoss: 227.688538\n",
            "Train Epoch: 16 [0/60000 (0%)]\tLoss: 85.136726\n",
            "Train Epoch: 16 [6400/60000 (11%)]\tLoss: 275.774200\n",
            "Train Epoch: 16 [12800/60000 (21%)]\tLoss: 80.321007\n",
            "Train Epoch: 16 [19200/60000 (32%)]\tLoss: 121.544601\n",
            "Train Epoch: 16 [25600/60000 (43%)]\tLoss: 401.851440\n",
            "Train Epoch: 16 [32000/60000 (53%)]\tLoss: 241.565826\n",
            "Train Epoch: 16 [38400/60000 (64%)]\tLoss: 135.280731\n",
            "Train Epoch: 16 [44800/60000 (75%)]\tLoss: 166.399750\n",
            "Train Epoch: 16 [51200/60000 (85%)]\tLoss: 565.231506\n",
            "Train Epoch: 16 [57600/60000 (96%)]\tLoss: 122.810669\n",
            "Train Epoch: 17 [0/60000 (0%)]\tLoss: 75.401726\n",
            "Train Epoch: 17 [6400/60000 (11%)]\tLoss: 136.478760\n",
            "Train Epoch: 17 [12800/60000 (21%)]\tLoss: 134.834946\n",
            "Train Epoch: 17 [19200/60000 (32%)]\tLoss: 119.978394\n",
            "Train Epoch: 17 [25600/60000 (43%)]\tLoss: 111.938766\n",
            "Train Epoch: 17 [32000/60000 (53%)]\tLoss: 265.014313\n",
            "Train Epoch: 17 [38400/60000 (64%)]\tLoss: 239.574203\n",
            "Train Epoch: 17 [44800/60000 (75%)]\tLoss: 179.232269\n",
            "Train Epoch: 17 [51200/60000 (85%)]\tLoss: 134.094772\n",
            "Train Epoch: 17 [57600/60000 (96%)]\tLoss: 164.670776\n",
            "Train Epoch: 18 [0/60000 (0%)]\tLoss: 249.739319\n",
            "Train Epoch: 18 [6400/60000 (11%)]\tLoss: 221.317322\n",
            "Train Epoch: 18 [12800/60000 (21%)]\tLoss: 81.154327\n",
            "Train Epoch: 18 [19200/60000 (32%)]\tLoss: 228.204468\n",
            "Train Epoch: 18 [25600/60000 (43%)]\tLoss: 247.001434\n",
            "Train Epoch: 18 [32000/60000 (53%)]\tLoss: 116.115082\n",
            "Train Epoch: 18 [38400/60000 (64%)]\tLoss: 169.190659\n",
            "Train Epoch: 18 [44800/60000 (75%)]\tLoss: 308.730530\n",
            "Train Epoch: 18 [51200/60000 (85%)]\tLoss: 375.546875\n",
            "Train Epoch: 18 [57600/60000 (96%)]\tLoss: 198.999176\n",
            "Train Epoch: 19 [0/60000 (0%)]\tLoss: 459.308441\n",
            "Train Epoch: 19 [6400/60000 (11%)]\tLoss: 84.361320\n",
            "Train Epoch: 19 [12800/60000 (21%)]\tLoss: 340.468109\n",
            "Train Epoch: 19 [19200/60000 (32%)]\tLoss: 106.356133\n",
            "Train Epoch: 19 [25600/60000 (43%)]\tLoss: 316.740967\n",
            "Train Epoch: 19 [32000/60000 (53%)]\tLoss: 161.229691\n",
            "Train Epoch: 19 [38400/60000 (64%)]\tLoss: 180.122086\n",
            "Train Epoch: 19 [44800/60000 (75%)]\tLoss: 201.059372\n",
            "Train Epoch: 19 [51200/60000 (85%)]\tLoss: 83.900208\n",
            "Train Epoch: 19 [57600/60000 (96%)]\tLoss: 273.664185\n"
          ]
        }
      ]
    },
    {
      "cell_type": "code",
      "source": [
        "test_network(network)"
      ],
      "metadata": {
        "colab": {
          "base_uri": "https://localhost:8080/"
        },
        "id": "C3NCMK0rqAEP",
        "outputId": "1329badc-5814-4fa8-c77e-62696b82e9b1"
      },
      "execution_count": null,
      "outputs": [
        {
          "output_type": "stream",
          "name": "stdout",
          "text": [
            "\n",
            "Test set: Average loss: 250.7108, Accuracy: 6069/10000 (61%)\n",
            "\n"
          ]
        }
      ]
    },
    {
      "cell_type": "markdown",
      "source": [
        "With a high learning rate, the parameter space trajectory is suboptimal. The model can take large steps in the direction of the current gradient which may not be necessary. The learning procedure will overshoot. This leads to a high variance in the learned distributions and leads to suboptimal learning trajectory with respect to loss convergence. The accuracy is not that high."
      ],
      "metadata": {
        "id": "xgG-LwxyW_Bs"
      }
    },
    {
      "cell_type": "code",
      "source": [
        "dataset = 'cifar' # options: 'mnist' | 'cifar10'\n",
        "batch_size = 64   # input batch size for training\n",
        "epochs = 10       # number of epochs to train\n",
        "lr = 0.01  "
      ],
      "metadata": {
        "id": "2st5l6ddBU4X"
      },
      "execution_count": null,
      "outputs": []
    },
    {
      "cell_type": "code",
      "source": [
        "num_outputs = 10 \n",
        "\n",
        "class Conv_Net(nn.Module):\n",
        "    def __init__(self):\n",
        "        super(Conv_Net, self).__init__()\n",
        "        self.conv1 = nn.Conv2d(in_channels = 3, out_channels = 16, kernel_size = 5)\n",
        "        self.conv2 = nn.Conv2d(16, 128, 5)\n",
        "\n",
        "        self.fc1 = nn.Linear(128 * 5 * 5, 64)  \n",
        "        self.fc2 = nn.Linear(64, 10)\n",
        "\n",
        "    def forward(self, x):\n",
        "        x = torch.tanh(self.conv1(x))\n",
        "        x = F.max_pool2d(x, (2, 2), stride=2)\n",
        "        \n",
        "        x = torch.tanh(self.conv2(x))\n",
        "        x = F.max_pool2d(x, (2, 2), stride=2)\n",
        "\n",
        "        x = x.view(-1, self.flatten_dims(x))\n",
        "\n",
        "        x = F.tanh(self.fc1(x))\n",
        "        x = self.fc2(x)\n",
        "        return x\n",
        "    \n",
        "    def flatten_dims(self, x):\n",
        "        dims = x.size()[1:] \n",
        "        ans = 1 \n",
        "        for d in dims:\n",
        "            ans *= d\n",
        "        return ans\n",
        "\n",
        "cifar_net = Conv_Net()\n",
        "cifar_optimizer = optim.SGD(cifar_net.parameters(), lr=0.01, weight_decay=0)"
      ],
      "metadata": {
        "id": "iBJw-bO_7IHW"
      },
      "execution_count": null,
      "outputs": []
    },
    {
      "cell_type": "code",
      "source": [
        "cifar_data_transform = transforms.Compose([\n",
        "        transforms.ToTensor(),\n",
        "        transforms.Normalize((0.5, 0.5, 0.5), (0.5, 0.5, 0.5)),\n",
        "    ])\n",
        "\n",
        "trainset = datasets.CIFAR10(root='.', train=True, download=True, transform=cifar_data_transform)\n",
        "testset = datasets.CIFAR10(root='.', train=False, download=True, transform=cifar_data_transform)\n",
        "\n",
        "train_loader = torch.utils.data.DataLoader(trainset, batch_size=batch_size, shuffle=True, num_workers=0)\n",
        "test_loader  = torch.utils.data.DataLoader(testset, batch_size=batch_size, shuffle=False, num_workers=0)"
      ],
      "metadata": {
        "colab": {
          "base_uri": "https://localhost:8080/"
        },
        "id": "Mrr7LaPRCMu7",
        "outputId": "8b2078b4-8287-4777-a22f-5e2f8138be70"
      },
      "execution_count": null,
      "outputs": [
        {
          "output_type": "stream",
          "name": "stdout",
          "text": [
            "Files already downloaded and verified\n",
            "Files already downloaded and verified\n"
          ]
        }
      ]
    },
    {
      "cell_type": "code",
      "source": [
        "def train_conv_network(epochs, conv_net,optimizer):\n",
        "    conv_net.train()\n",
        "\n",
        "    for epoch in range(epochs):\n",
        "\n",
        "      for batch_idx, (data, target) in enumerate(train_loader):\n",
        "      \n",
        "        optimizer.zero_grad()\n",
        "        output = conv_net(data)\n",
        "        loss = F.cross_entropy(output, target)\n",
        "        loss.backward()\n",
        "        optimizer.step()\n",
        "        if batch_idx % 100 == 0:\n",
        "            print('Train Epoch: {} [{}/{} ({:.0f}%)]\\tLoss: {:.6f}'.format(\n",
        "                epoch, batch_idx * len(data), len(train_loader.dataset),\n",
        "                100. * batch_idx / len(train_loader), loss.item()))\n"
      ],
      "metadata": {
        "id": "wRMy3f3vBaF0"
      },
      "execution_count": null,
      "outputs": []
    },
    {
      "cell_type": "code",
      "source": [
        "train_conv_network(20, cifar_net, cifar_optimizer)"
      ],
      "metadata": {
        "colab": {
          "base_uri": "https://localhost:8080/"
        },
        "id": "wWVpOj2zCuqS",
        "outputId": "3b2e8612-0875-44ab-d84d-5ca3c566532a"
      },
      "execution_count": null,
      "outputs": [
        {
          "output_type": "stream",
          "name": "stdout",
          "text": [
            "Train Epoch: 0 [0/50000 (0%)]\tLoss: 2.304082\n",
            "Train Epoch: 0 [6400/50000 (13%)]\tLoss: 2.200733\n",
            "Train Epoch: 0 [12800/50000 (26%)]\tLoss: 2.075092\n",
            "Train Epoch: 0 [19200/50000 (38%)]\tLoss: 2.005274\n",
            "Train Epoch: 0 [25600/50000 (51%)]\tLoss: 1.897321\n",
            "Train Epoch: 0 [32000/50000 (64%)]\tLoss: 1.749880\n",
            "Train Epoch: 0 [38400/50000 (77%)]\tLoss: 2.033839\n",
            "Train Epoch: 0 [44800/50000 (90%)]\tLoss: 1.858278\n",
            "Train Epoch: 1 [0/50000 (0%)]\tLoss: 1.712282\n",
            "Train Epoch: 1 [6400/50000 (13%)]\tLoss: 1.833300\n",
            "Train Epoch: 1 [12800/50000 (26%)]\tLoss: 1.826558\n",
            "Train Epoch: 1 [19200/50000 (38%)]\tLoss: 1.848309\n",
            "Train Epoch: 1 [25600/50000 (51%)]\tLoss: 1.607377\n",
            "Train Epoch: 1 [32000/50000 (64%)]\tLoss: 1.726454\n",
            "Train Epoch: 1 [38400/50000 (77%)]\tLoss: 1.606298\n",
            "Train Epoch: 1 [44800/50000 (90%)]\tLoss: 1.618581\n",
            "Train Epoch: 2 [0/50000 (0%)]\tLoss: 1.503444\n",
            "Train Epoch: 2 [6400/50000 (13%)]\tLoss: 1.569250\n",
            "Train Epoch: 2 [12800/50000 (26%)]\tLoss: 1.628366\n",
            "Train Epoch: 2 [19200/50000 (38%)]\tLoss: 1.605164\n",
            "Train Epoch: 2 [25600/50000 (51%)]\tLoss: 1.337283\n",
            "Train Epoch: 2 [32000/50000 (64%)]\tLoss: 1.489831\n",
            "Train Epoch: 2 [38400/50000 (77%)]\tLoss: 1.453298\n",
            "Train Epoch: 2 [44800/50000 (90%)]\tLoss: 1.581241\n",
            "Train Epoch: 3 [0/50000 (0%)]\tLoss: 1.393526\n",
            "Train Epoch: 3 [6400/50000 (13%)]\tLoss: 1.409940\n",
            "Train Epoch: 3 [12800/50000 (26%)]\tLoss: 1.310650\n",
            "Train Epoch: 3 [19200/50000 (38%)]\tLoss: 1.447054\n",
            "Train Epoch: 3 [25600/50000 (51%)]\tLoss: 1.433156\n",
            "Train Epoch: 3 [32000/50000 (64%)]\tLoss: 1.358078\n",
            "Train Epoch: 3 [38400/50000 (77%)]\tLoss: 1.234655\n",
            "Train Epoch: 3 [44800/50000 (90%)]\tLoss: 1.549704\n",
            "Train Epoch: 4 [0/50000 (0%)]\tLoss: 1.374417\n",
            "Train Epoch: 4 [6400/50000 (13%)]\tLoss: 1.384086\n",
            "Train Epoch: 4 [12800/50000 (26%)]\tLoss: 1.398457\n",
            "Train Epoch: 4 [19200/50000 (38%)]\tLoss: 1.586196\n",
            "Train Epoch: 4 [25600/50000 (51%)]\tLoss: 1.238442\n",
            "Train Epoch: 4 [32000/50000 (64%)]\tLoss: 1.257894\n",
            "Train Epoch: 4 [38400/50000 (77%)]\tLoss: 1.607558\n",
            "Train Epoch: 4 [44800/50000 (90%)]\tLoss: 1.511309\n",
            "Train Epoch: 5 [0/50000 (0%)]\tLoss: 1.199458\n",
            "Train Epoch: 5 [6400/50000 (13%)]\tLoss: 1.153785\n",
            "Train Epoch: 5 [12800/50000 (26%)]\tLoss: 1.303547\n",
            "Train Epoch: 5 [19200/50000 (38%)]\tLoss: 1.285886\n",
            "Train Epoch: 5 [25600/50000 (51%)]\tLoss: 1.363856\n",
            "Train Epoch: 5 [32000/50000 (64%)]\tLoss: 1.178566\n",
            "Train Epoch: 5 [38400/50000 (77%)]\tLoss: 1.153882\n",
            "Train Epoch: 5 [44800/50000 (90%)]\tLoss: 1.427882\n",
            "Train Epoch: 6 [0/50000 (0%)]\tLoss: 1.363880\n",
            "Train Epoch: 6 [6400/50000 (13%)]\tLoss: 1.297671\n",
            "Train Epoch: 6 [12800/50000 (26%)]\tLoss: 1.164722\n",
            "Train Epoch: 6 [19200/50000 (38%)]\tLoss: 1.184348\n",
            "Train Epoch: 6 [25600/50000 (51%)]\tLoss: 1.263231\n",
            "Train Epoch: 6 [32000/50000 (64%)]\tLoss: 1.399113\n",
            "Train Epoch: 6 [38400/50000 (77%)]\tLoss: 1.138227\n",
            "Train Epoch: 6 [44800/50000 (90%)]\tLoss: 1.161139\n",
            "Train Epoch: 7 [0/50000 (0%)]\tLoss: 1.251470\n",
            "Train Epoch: 7 [6400/50000 (13%)]\tLoss: 1.300076\n",
            "Train Epoch: 7 [12800/50000 (26%)]\tLoss: 1.206787\n",
            "Train Epoch: 7 [19200/50000 (38%)]\tLoss: 1.350028\n",
            "Train Epoch: 7 [25600/50000 (51%)]\tLoss: 1.214617\n",
            "Train Epoch: 7 [32000/50000 (64%)]\tLoss: 1.329137\n",
            "Train Epoch: 7 [38400/50000 (77%)]\tLoss: 1.280391\n",
            "Train Epoch: 7 [44800/50000 (90%)]\tLoss: 1.046370\n",
            "Train Epoch: 8 [0/50000 (0%)]\tLoss: 1.176996\n",
            "Train Epoch: 8 [6400/50000 (13%)]\tLoss: 1.340944\n",
            "Train Epoch: 8 [12800/50000 (26%)]\tLoss: 1.021573\n",
            "Train Epoch: 8 [19200/50000 (38%)]\tLoss: 1.268217\n",
            "Train Epoch: 8 [25600/50000 (51%)]\tLoss: 1.222394\n",
            "Train Epoch: 8 [32000/50000 (64%)]\tLoss: 1.226100\n",
            "Train Epoch: 8 [38400/50000 (77%)]\tLoss: 1.166311\n",
            "Train Epoch: 8 [44800/50000 (90%)]\tLoss: 1.239668\n",
            "Train Epoch: 9 [0/50000 (0%)]\tLoss: 1.082980\n",
            "Train Epoch: 9 [6400/50000 (13%)]\tLoss: 1.138866\n",
            "Train Epoch: 9 [12800/50000 (26%)]\tLoss: 1.016668\n",
            "Train Epoch: 9 [19200/50000 (38%)]\tLoss: 1.153357\n",
            "Train Epoch: 9 [25600/50000 (51%)]\tLoss: 1.102864\n",
            "Train Epoch: 9 [32000/50000 (64%)]\tLoss: 1.208687\n",
            "Train Epoch: 9 [38400/50000 (77%)]\tLoss: 1.182674\n",
            "Train Epoch: 9 [44800/50000 (90%)]\tLoss: 1.093650\n",
            "Train Epoch: 10 [0/50000 (0%)]\tLoss: 1.075093\n",
            "Train Epoch: 10 [6400/50000 (13%)]\tLoss: 1.102097\n",
            "Train Epoch: 10 [12800/50000 (26%)]\tLoss: 1.090021\n",
            "Train Epoch: 10 [19200/50000 (38%)]\tLoss: 0.856802\n",
            "Train Epoch: 10 [25600/50000 (51%)]\tLoss: 0.765401\n",
            "Train Epoch: 10 [32000/50000 (64%)]\tLoss: 0.865122\n",
            "Train Epoch: 10 [38400/50000 (77%)]\tLoss: 1.061341\n",
            "Train Epoch: 10 [44800/50000 (90%)]\tLoss: 1.012335\n",
            "Train Epoch: 11 [0/50000 (0%)]\tLoss: 0.911882\n",
            "Train Epoch: 11 [6400/50000 (13%)]\tLoss: 0.996068\n",
            "Train Epoch: 11 [12800/50000 (26%)]\tLoss: 1.186739\n",
            "Train Epoch: 11 [19200/50000 (38%)]\tLoss: 0.873884\n",
            "Train Epoch: 11 [25600/50000 (51%)]\tLoss: 0.984897\n",
            "Train Epoch: 11 [32000/50000 (64%)]\tLoss: 1.098298\n",
            "Train Epoch: 11 [38400/50000 (77%)]\tLoss: 0.773732\n",
            "Train Epoch: 11 [44800/50000 (90%)]\tLoss: 1.249341\n",
            "Train Epoch: 12 [0/50000 (0%)]\tLoss: 1.085707\n",
            "Train Epoch: 12 [6400/50000 (13%)]\tLoss: 0.887412\n",
            "Train Epoch: 12 [12800/50000 (26%)]\tLoss: 0.772942\n",
            "Train Epoch: 12 [19200/50000 (38%)]\tLoss: 1.014085\n",
            "Train Epoch: 12 [25600/50000 (51%)]\tLoss: 0.933577\n",
            "Train Epoch: 12 [32000/50000 (64%)]\tLoss: 0.832601\n",
            "Train Epoch: 12 [38400/50000 (77%)]\tLoss: 1.022397\n",
            "Train Epoch: 12 [44800/50000 (90%)]\tLoss: 1.024380\n",
            "Train Epoch: 13 [0/50000 (0%)]\tLoss: 0.850744\n",
            "Train Epoch: 13 [6400/50000 (13%)]\tLoss: 0.896002\n",
            "Train Epoch: 13 [12800/50000 (26%)]\tLoss: 0.739355\n",
            "Train Epoch: 13 [19200/50000 (38%)]\tLoss: 0.833902\n",
            "Train Epoch: 13 [25600/50000 (51%)]\tLoss: 0.969599\n",
            "Train Epoch: 13 [32000/50000 (64%)]\tLoss: 0.905167\n",
            "Train Epoch: 13 [38400/50000 (77%)]\tLoss: 0.790819\n",
            "Train Epoch: 13 [44800/50000 (90%)]\tLoss: 0.909118\n",
            "Train Epoch: 14 [0/50000 (0%)]\tLoss: 0.962981\n",
            "Train Epoch: 14 [6400/50000 (13%)]\tLoss: 1.112450\n",
            "Train Epoch: 14 [12800/50000 (26%)]\tLoss: 0.910009\n",
            "Train Epoch: 14 [19200/50000 (38%)]\tLoss: 1.300921\n",
            "Train Epoch: 14 [25600/50000 (51%)]\tLoss: 0.841391\n",
            "Train Epoch: 14 [32000/50000 (64%)]\tLoss: 0.893293\n",
            "Train Epoch: 14 [38400/50000 (77%)]\tLoss: 0.918829\n",
            "Train Epoch: 14 [44800/50000 (90%)]\tLoss: 1.103398\n",
            "Train Epoch: 15 [0/50000 (0%)]\tLoss: 0.928405\n",
            "Train Epoch: 15 [6400/50000 (13%)]\tLoss: 1.030511\n",
            "Train Epoch: 15 [12800/50000 (26%)]\tLoss: 0.997770\n",
            "Train Epoch: 15 [19200/50000 (38%)]\tLoss: 1.040968\n",
            "Train Epoch: 15 [25600/50000 (51%)]\tLoss: 0.800032\n",
            "Train Epoch: 15 [32000/50000 (64%)]\tLoss: 0.989702\n",
            "Train Epoch: 15 [38400/50000 (77%)]\tLoss: 0.736488\n",
            "Train Epoch: 15 [44800/50000 (90%)]\tLoss: 0.867221\n",
            "Train Epoch: 16 [0/50000 (0%)]\tLoss: 0.948444\n",
            "Train Epoch: 16 [6400/50000 (13%)]\tLoss: 0.837483\n",
            "Train Epoch: 16 [12800/50000 (26%)]\tLoss: 0.890603\n",
            "Train Epoch: 16 [19200/50000 (38%)]\tLoss: 0.895634\n",
            "Train Epoch: 16 [25600/50000 (51%)]\tLoss: 0.669565\n",
            "Train Epoch: 16 [32000/50000 (64%)]\tLoss: 0.841190\n",
            "Train Epoch: 16 [38400/50000 (77%)]\tLoss: 0.808233\n",
            "Train Epoch: 16 [44800/50000 (90%)]\tLoss: 0.953568\n",
            "Train Epoch: 17 [0/50000 (0%)]\tLoss: 0.893827\n",
            "Train Epoch: 17 [6400/50000 (13%)]\tLoss: 1.111253\n",
            "Train Epoch: 17 [12800/50000 (26%)]\tLoss: 0.808466\n",
            "Train Epoch: 17 [19200/50000 (38%)]\tLoss: 0.865111\n",
            "Train Epoch: 17 [25600/50000 (51%)]\tLoss: 0.609834\n",
            "Train Epoch: 17 [32000/50000 (64%)]\tLoss: 0.835425\n",
            "Train Epoch: 17 [38400/50000 (77%)]\tLoss: 0.848917\n",
            "Train Epoch: 17 [44800/50000 (90%)]\tLoss: 0.821556\n",
            "Train Epoch: 18 [0/50000 (0%)]\tLoss: 0.828891\n",
            "Train Epoch: 18 [6400/50000 (13%)]\tLoss: 0.619761\n",
            "Train Epoch: 18 [12800/50000 (26%)]\tLoss: 0.810722\n",
            "Train Epoch: 18 [19200/50000 (38%)]\tLoss: 0.660578\n",
            "Train Epoch: 18 [25600/50000 (51%)]\tLoss: 0.897739\n",
            "Train Epoch: 18 [32000/50000 (64%)]\tLoss: 0.689484\n",
            "Train Epoch: 18 [38400/50000 (77%)]\tLoss: 0.816912\n",
            "Train Epoch: 18 [44800/50000 (90%)]\tLoss: 0.603961\n",
            "Train Epoch: 19 [0/50000 (0%)]\tLoss: 0.645115\n",
            "Train Epoch: 19 [6400/50000 (13%)]\tLoss: 0.823930\n",
            "Train Epoch: 19 [12800/50000 (26%)]\tLoss: 0.729318\n",
            "Train Epoch: 19 [19200/50000 (38%)]\tLoss: 0.766274\n",
            "Train Epoch: 19 [25600/50000 (51%)]\tLoss: 0.839667\n",
            "Train Epoch: 19 [32000/50000 (64%)]\tLoss: 1.000231\n",
            "Train Epoch: 19 [38400/50000 (77%)]\tLoss: 0.635196\n",
            "Train Epoch: 19 [44800/50000 (90%)]\tLoss: 0.786951\n"
          ]
        }
      ]
    },
    {
      "cell_type": "code",
      "source": [
        "torch.save(cifar_net.state_dict(), 'checkpoint_new.pth')"
      ],
      "metadata": {
        "id": "KrXzSEzcIDbv"
      },
      "execution_count": null,
      "outputs": []
    },
    {
      "cell_type": "code",
      "source": [
        "# the following cells were used for ease in computing and continuity.\n",
        "\n",
        "#from google.colab import files"
      ],
      "metadata": {
        "id": "xy7q_OAN6owo"
      },
      "execution_count": null,
      "outputs": []
    },
    {
      "cell_type": "code",
      "source": [
        "\n",
        "#files.download('checkpoint_new.pth')"
      ],
      "metadata": {
        "colab": {
          "base_uri": "https://localhost:8080/",
          "height": 17
        },
        "id": "4AADdLsCIaxN",
        "outputId": "9b454ac7-77d2-4f84-8fee-316ee1b78b26"
      },
      "execution_count": null,
      "outputs": [
        {
          "output_type": "display_data",
          "data": {
            "text/plain": [
              "<IPython.core.display.Javascript object>"
            ],
            "application/javascript": [
              "\n",
              "    async function download(id, filename, size) {\n",
              "      if (!google.colab.kernel.accessAllowed) {\n",
              "        return;\n",
              "      }\n",
              "      const div = document.createElement('div');\n",
              "      const label = document.createElement('label');\n",
              "      label.textContent = `Downloading \"${filename}\": `;\n",
              "      div.appendChild(label);\n",
              "      const progress = document.createElement('progress');\n",
              "      progress.max = size;\n",
              "      div.appendChild(progress);\n",
              "      document.body.appendChild(div);\n",
              "\n",
              "      const buffers = [];\n",
              "      let downloaded = 0;\n",
              "\n",
              "      const channel = await google.colab.kernel.comms.open(id);\n",
              "      // Send a message to notify the kernel that we're ready.\n",
              "      channel.send({})\n",
              "\n",
              "      for await (const message of channel.messages) {\n",
              "        // Send a message to notify the kernel that we're ready.\n",
              "        channel.send({})\n",
              "        if (message.buffers) {\n",
              "          for (const buffer of message.buffers) {\n",
              "            buffers.push(buffer);\n",
              "            downloaded += buffer.byteLength;\n",
              "            progress.value = downloaded;\n",
              "          }\n",
              "        }\n",
              "      }\n",
              "      const blob = new Blob(buffers, {type: 'application/binary'});\n",
              "      const a = document.createElement('a');\n",
              "      a.href = window.URL.createObjectURL(blob);\n",
              "      a.download = filename;\n",
              "      div.appendChild(a);\n",
              "      a.click();\n",
              "      div.remove();\n",
              "    }\n",
              "  "
            ]
          },
          "metadata": {}
        },
        {
          "output_type": "display_data",
          "data": {
            "text/plain": [
              "<IPython.core.display.Javascript object>"
            ],
            "application/javascript": [
              "download(\"download_e66770d6-4de3-4567-8d72-698c4a2f1312\", \"checkpoint_new.pth\", 1034447)"
            ]
          },
          "metadata": {}
        }
      ]
    },
    {
      "cell_type": "code",
      "source": [
        "#uploaded = files.upload()"
      ],
      "metadata": {
        "id": "ChnMgBiC6_wz"
      },
      "execution_count": null,
      "outputs": []
    },
    {
      "cell_type": "code",
      "source": [],
      "metadata": {
        "id": "Qj2VZ4kS-1vb"
      },
      "execution_count": null,
      "outputs": []
    },
    {
      "cell_type": "code",
      "source": [
        "#state_dict = torch.load('checkpoint_new.pth')\n",
        "#print(state_dict.keys())"
      ],
      "metadata": {
        "colab": {
          "base_uri": "https://localhost:8080/"
        },
        "id": "_CGGxTuN6YGM",
        "outputId": "56a08bed-8a8a-4b17-e772-a95f45ccee6a"
      },
      "execution_count": null,
      "outputs": [
        {
          "output_type": "stream",
          "name": "stdout",
          "text": [
            "odict_keys(['conv1.weight', 'conv1.bias', 'conv2.weight', 'conv2.bias', 'fc1.weight', 'fc1.bias', 'fc2.weight', 'fc2.bias'])\n"
          ]
        }
      ]
    },
    {
      "cell_type": "code",
      "source": [
        "\n",
        "#cifar_net_new = Conv_Net()\n",
        "#cifar_optimizer = optim.SGD(cifar_net.parameters(), lr=0.01, weight_decay=0)"
      ],
      "metadata": {
        "id": "QDZSqYXV7tB3"
      },
      "execution_count": null,
      "outputs": []
    },
    {
      "cell_type": "code",
      "source": [
        "#cifar_net_new.load_state_dict(state_dict)"
      ],
      "metadata": {
        "colab": {
          "base_uri": "https://localhost:8080/"
        },
        "id": "nmaH3pwh8Lcs",
        "outputId": "788d7d0a-73c2-4ea2-c16a-56eaffdb49fa"
      },
      "execution_count": null,
      "outputs": [
        {
          "output_type": "execute_result",
          "data": {
            "text/plain": [
              "<All keys matched successfully>"
            ]
          },
          "metadata": {},
          "execution_count": 19
        }
      ]
    },
    {
      "cell_type": "code",
      "source": [
        "flag=0\n",
        "try:\n",
        "  state_dict = torch.load('checkpoint_new.pth')\n",
        "  print(state_dict.keys())\n",
        "  cifar_net_new = Conv_Net()\n",
        "  cifar_optimizer = optim.SGD(cifar_net.parameters(), lr=0.01, weight_decay=0)\n",
        "  cifar_net_new.load_state_dict(state_dict)\n",
        "\n",
        "except:\n",
        "  flag = 1\n"
      ],
      "metadata": {
        "id": "6ZUj7Sk89_uL"
      },
      "execution_count": null,
      "outputs": []
    },
    {
      "cell_type": "code",
      "source": [
        "if flag==1:\n",
        "  model = cifar_net\n",
        "else:\n",
        "  model = cifar_net_new  \n"
      ],
      "metadata": {
        "id": "h6ywE14--3cW"
      },
      "execution_count": null,
      "outputs": []
    },
    {
      "cell_type": "code",
      "source": [
        "model"
      ],
      "metadata": {
        "colab": {
          "base_uri": "https://localhost:8080/"
        },
        "id": "QqOmNlxe_Top",
        "outputId": "114b34af-7f2a-4be4-a6b2-1cc81a6a4b99"
      },
      "execution_count": null,
      "outputs": [
        {
          "output_type": "execute_result",
          "data": {
            "text/plain": [
              "Conv_Net(\n",
              "  (conv1): Conv2d(3, 16, kernel_size=(5, 5), stride=(1, 1))\n",
              "  (conv2): Conv2d(16, 128, kernel_size=(5, 5), stride=(1, 1))\n",
              "  (fc1): Linear(in_features=3200, out_features=64, bias=True)\n",
              "  (fc2): Linear(in_features=64, out_features=10, bias=True)\n",
              ")"
            ]
          },
          "metadata": {},
          "execution_count": 10
        }
      ]
    },
    {
      "cell_type": "code",
      "source": [
        "def test_conv_net(network):\n",
        "\n",
        "    network.eval()\n",
        "    test_loss = 0\n",
        "    correct = 0\n",
        "    for data, target in test_loader:\n",
        "        output = network(data)\n",
        "        test_loss += F.cross_entropy(output, target, reduction='sum').item()\n",
        "        pred = output.data.max(1, keepdim=True)[1] \n",
        "        correct += pred.eq(target.data.view_as(pred)).cpu().sum()\n",
        "\n",
        "    test_loss /= len(test_loader.dataset)\n",
        "    print('\\nTest set: Average loss: {:.4f}, Accuracy: {}/{} ({:.0f}%)\\n'.format(\n",
        "        test_loss, correct, len(test_loader.dataset),\n",
        "        100. * correct / len(test_loader.dataset)))\n"
      ],
      "metadata": {
        "id": "cCW0ZL-yAvVN"
      },
      "execution_count": null,
      "outputs": []
    },
    {
      "cell_type": "code",
      "source": [
        "test_conv_net(cifar_net)"
      ],
      "metadata": {
        "colab": {
          "base_uri": "https://localhost:8080/"
        },
        "id": "p_HYOnfuIpO3",
        "outputId": "1907f8a2-972a-4b4c-82ef-d8bf823dbb2e"
      },
      "execution_count": null,
      "outputs": [
        {
          "output_type": "stream",
          "name": "stdout",
          "text": [
            "\n",
            "Test set: Average loss: 0.9430, Accuracy: 6687/10000 (67%)\n",
            "\n"
          ]
        }
      ]
    },
    {
      "cell_type": "code",
      "source": [
        "cifar_net.state_dict().keys()"
      ],
      "metadata": {
        "colab": {
          "base_uri": "https://localhost:8080/"
        },
        "id": "nOr4iwXzNx1Z",
        "outputId": "a9ff52ab-7b5f-4975-a461-708fddd17071"
      },
      "execution_count": null,
      "outputs": [
        {
          "output_type": "execute_result",
          "data": {
            "text/plain": [
              "odict_keys(['conv1.weight', 'conv1.bias', 'conv2.weight', 'conv2.bias', 'fc1.weight', 'fc1.bias', 'fc2.weight', 'fc2.bias'])"
            ]
          },
          "metadata": {},
          "execution_count": 23
        }
      ]
    },
    {
      "cell_type": "code",
      "source": [
        "params = cifar_net.state_dict()['conv1.weight']"
      ],
      "metadata": {
        "id": "MLFu2Y5JP7_G"
      },
      "execution_count": null,
      "outputs": []
    },
    {
      "cell_type": "code",
      "source": [
        "params.shape"
      ],
      "metadata": {
        "colab": {
          "base_uri": "https://localhost:8080/"
        },
        "id": "t2SZQbCMQIhg",
        "outputId": "4563e8c4-bcdc-4d9d-e1ec-a1e3805588bf"
      },
      "execution_count": null,
      "outputs": [
        {
          "output_type": "execute_result",
          "data": {
            "text/plain": [
              "torch.Size([16, 3, 5, 5])"
            ]
          },
          "metadata": {},
          "execution_count": 25
        }
      ]
    },
    {
      "cell_type": "code",
      "source": [
        "#torch.save(cifar_net,'model.pth')"
      ],
      "metadata": {
        "id": "qu1uC90lQP_P"
      },
      "execution_count": null,
      "outputs": []
    },
    {
      "cell_type": "code",
      "source": [
        "#torch.save(cifar_net.state_dict(),'model_dict.pth')"
      ],
      "metadata": {
        "id": "b4OgdkjyTSy3"
      },
      "execution_count": null,
      "outputs": []
    },
    {
      "cell_type": "code",
      "source": [
        "#files.download('model_dict.pth')"
      ],
      "metadata": {
        "colab": {
          "base_uri": "https://localhost:8080/",
          "height": 17
        },
        "id": "YtaWfDtCTX2n",
        "outputId": "1f9b6210-32e0-4236-8b99-66df659babaa"
      },
      "execution_count": null,
      "outputs": [
        {
          "output_type": "display_data",
          "data": {
            "text/plain": [
              "<IPython.core.display.Javascript object>"
            ],
            "application/javascript": [
              "\n",
              "    async function download(id, filename, size) {\n",
              "      if (!google.colab.kernel.accessAllowed) {\n",
              "        return;\n",
              "      }\n",
              "      const div = document.createElement('div');\n",
              "      const label = document.createElement('label');\n",
              "      label.textContent = `Downloading \"${filename}\": `;\n",
              "      div.appendChild(label);\n",
              "      const progress = document.createElement('progress');\n",
              "      progress.max = size;\n",
              "      div.appendChild(progress);\n",
              "      document.body.appendChild(div);\n",
              "\n",
              "      const buffers = [];\n",
              "      let downloaded = 0;\n",
              "\n",
              "      const channel = await google.colab.kernel.comms.open(id);\n",
              "      // Send a message to notify the kernel that we're ready.\n",
              "      channel.send({})\n",
              "\n",
              "      for await (const message of channel.messages) {\n",
              "        // Send a message to notify the kernel that we're ready.\n",
              "        channel.send({})\n",
              "        if (message.buffers) {\n",
              "          for (const buffer of message.buffers) {\n",
              "            buffers.push(buffer);\n",
              "            downloaded += buffer.byteLength;\n",
              "            progress.value = downloaded;\n",
              "          }\n",
              "        }\n",
              "      }\n",
              "      const blob = new Blob(buffers, {type: 'application/binary'});\n",
              "      const a = document.createElement('a');\n",
              "      a.href = window.URL.createObjectURL(blob);\n",
              "      a.download = filename;\n",
              "      div.appendChild(a);\n",
              "      a.click();\n",
              "      div.remove();\n",
              "    }\n",
              "  "
            ]
          },
          "metadata": {}
        },
        {
          "output_type": "display_data",
          "data": {
            "text/plain": [
              "<IPython.core.display.Javascript object>"
            ],
            "application/javascript": [
              "download(\"download_21b7c611-4e39-43d8-b9ce-eb9690b76f46\", \"model_dict.pth\", 1034447)"
            ]
          },
          "metadata": {}
        }
      ]
    },
    {
      "cell_type": "code",
      "source": [
        "#files.download('model.pth')"
      ],
      "metadata": {
        "colab": {
          "base_uri": "https://localhost:8080/",
          "height": 17
        },
        "id": "8nBhwQJlTHFm",
        "outputId": "a59b5b67-7f29-4ca6-d7a5-f0ec4d5d0a9f"
      },
      "execution_count": null,
      "outputs": [
        {
          "output_type": "display_data",
          "data": {
            "text/plain": [
              "<IPython.core.display.Javascript object>"
            ],
            "application/javascript": [
              "\n",
              "    async function download(id, filename, size) {\n",
              "      if (!google.colab.kernel.accessAllowed) {\n",
              "        return;\n",
              "      }\n",
              "      const div = document.createElement('div');\n",
              "      const label = document.createElement('label');\n",
              "      label.textContent = `Downloading \"${filename}\": `;\n",
              "      div.appendChild(label);\n",
              "      const progress = document.createElement('progress');\n",
              "      progress.max = size;\n",
              "      div.appendChild(progress);\n",
              "      document.body.appendChild(div);\n",
              "\n",
              "      const buffers = [];\n",
              "      let downloaded = 0;\n",
              "\n",
              "      const channel = await google.colab.kernel.comms.open(id);\n",
              "      // Send a message to notify the kernel that we're ready.\n",
              "      channel.send({})\n",
              "\n",
              "      for await (const message of channel.messages) {\n",
              "        // Send a message to notify the kernel that we're ready.\n",
              "        channel.send({})\n",
              "        if (message.buffers) {\n",
              "          for (const buffer of message.buffers) {\n",
              "            buffers.push(buffer);\n",
              "            downloaded += buffer.byteLength;\n",
              "            progress.value = downloaded;\n",
              "          }\n",
              "        }\n",
              "      }\n",
              "      const blob = new Blob(buffers, {type: 'application/binary'});\n",
              "      const a = document.createElement('a');\n",
              "      a.href = window.URL.createObjectURL(blob);\n",
              "      a.download = filename;\n",
              "      div.appendChild(a);\n",
              "      a.click();\n",
              "      div.remove();\n",
              "    }\n",
              "  "
            ]
          },
          "metadata": {}
        },
        {
          "output_type": "display_data",
          "data": {
            "text/plain": [
              "<IPython.core.display.Javascript object>"
            ],
            "application/javascript": [
              "download(\"download_11923668-d9d6-4d3a-b10d-11dc8b60dc1e\", \"model.pth\", 1035727)"
            ]
          },
          "metadata": {}
        }
      ]
    },
    {
      "cell_type": "code",
      "source": [
        "from google.colab import files"
      ],
      "metadata": {
        "id": "p_xbRwg0rSB8"
      },
      "execution_count": null,
      "outputs": []
    },
    {
      "cell_type": "code",
      "source": [
        "#uploaded = files.upload()"
      ],
      "metadata": {
        "colab": {
          "base_uri": "https://localhost:8080/",
          "height": 73
        },
        "id": "vqX3px5ku9hy",
        "outputId": "b215bba2-3cdf-41a8-e6fa-5286bd8e4e51"
      },
      "execution_count": null,
      "outputs": [
        {
          "output_type": "display_data",
          "data": {
            "text/plain": [
              "<IPython.core.display.HTML object>"
            ],
            "text/html": [
              "\n",
              "     <input type=\"file\" id=\"files-c9c728b4-1dec-46dc-b7e9-0c99a2c937af\" name=\"files[]\" multiple disabled\n",
              "        style=\"border:none\" />\n",
              "     <output id=\"result-c9c728b4-1dec-46dc-b7e9-0c99a2c937af\">\n",
              "      Upload widget is only available when the cell has been executed in the\n",
              "      current browser session. Please rerun this cell to enable.\n",
              "      </output>\n",
              "      <script>// Copyright 2017 Google LLC\n",
              "//\n",
              "// Licensed under the Apache License, Version 2.0 (the \"License\");\n",
              "// you may not use this file except in compliance with the License.\n",
              "// You may obtain a copy of the License at\n",
              "//\n",
              "//      http://www.apache.org/licenses/LICENSE-2.0\n",
              "//\n",
              "// Unless required by applicable law or agreed to in writing, software\n",
              "// distributed under the License is distributed on an \"AS IS\" BASIS,\n",
              "// WITHOUT WARRANTIES OR CONDITIONS OF ANY KIND, either express or implied.\n",
              "// See the License for the specific language governing permissions and\n",
              "// limitations under the License.\n",
              "\n",
              "/**\n",
              " * @fileoverview Helpers for google.colab Python module.\n",
              " */\n",
              "(function(scope) {\n",
              "function span(text, styleAttributes = {}) {\n",
              "  const element = document.createElement('span');\n",
              "  element.textContent = text;\n",
              "  for (const key of Object.keys(styleAttributes)) {\n",
              "    element.style[key] = styleAttributes[key];\n",
              "  }\n",
              "  return element;\n",
              "}\n",
              "\n",
              "// Max number of bytes which will be uploaded at a time.\n",
              "const MAX_PAYLOAD_SIZE = 100 * 1024;\n",
              "\n",
              "function _uploadFiles(inputId, outputId) {\n",
              "  const steps = uploadFilesStep(inputId, outputId);\n",
              "  const outputElement = document.getElementById(outputId);\n",
              "  // Cache steps on the outputElement to make it available for the next call\n",
              "  // to uploadFilesContinue from Python.\n",
              "  outputElement.steps = steps;\n",
              "\n",
              "  return _uploadFilesContinue(outputId);\n",
              "}\n",
              "\n",
              "// This is roughly an async generator (not supported in the browser yet),\n",
              "// where there are multiple asynchronous steps and the Python side is going\n",
              "// to poll for completion of each step.\n",
              "// This uses a Promise to block the python side on completion of each step,\n",
              "// then passes the result of the previous step as the input to the next step.\n",
              "function _uploadFilesContinue(outputId) {\n",
              "  const outputElement = document.getElementById(outputId);\n",
              "  const steps = outputElement.steps;\n",
              "\n",
              "  const next = steps.next(outputElement.lastPromiseValue);\n",
              "  return Promise.resolve(next.value.promise).then((value) => {\n",
              "    // Cache the last promise value to make it available to the next\n",
              "    // step of the generator.\n",
              "    outputElement.lastPromiseValue = value;\n",
              "    return next.value.response;\n",
              "  });\n",
              "}\n",
              "\n",
              "/**\n",
              " * Generator function which is called between each async step of the upload\n",
              " * process.\n",
              " * @param {string} inputId Element ID of the input file picker element.\n",
              " * @param {string} outputId Element ID of the output display.\n",
              " * @return {!Iterable<!Object>} Iterable of next steps.\n",
              " */\n",
              "function* uploadFilesStep(inputId, outputId) {\n",
              "  const inputElement = document.getElementById(inputId);\n",
              "  inputElement.disabled = false;\n",
              "\n",
              "  const outputElement = document.getElementById(outputId);\n",
              "  outputElement.innerHTML = '';\n",
              "\n",
              "  const pickedPromise = new Promise((resolve) => {\n",
              "    inputElement.addEventListener('change', (e) => {\n",
              "      resolve(e.target.files);\n",
              "    });\n",
              "  });\n",
              "\n",
              "  const cancel = document.createElement('button');\n",
              "  inputElement.parentElement.appendChild(cancel);\n",
              "  cancel.textContent = 'Cancel upload';\n",
              "  const cancelPromise = new Promise((resolve) => {\n",
              "    cancel.onclick = () => {\n",
              "      resolve(null);\n",
              "    };\n",
              "  });\n",
              "\n",
              "  // Wait for the user to pick the files.\n",
              "  const files = yield {\n",
              "    promise: Promise.race([pickedPromise, cancelPromise]),\n",
              "    response: {\n",
              "      action: 'starting',\n",
              "    }\n",
              "  };\n",
              "\n",
              "  cancel.remove();\n",
              "\n",
              "  // Disable the input element since further picks are not allowed.\n",
              "  inputElement.disabled = true;\n",
              "\n",
              "  if (!files) {\n",
              "    return {\n",
              "      response: {\n",
              "        action: 'complete',\n",
              "      }\n",
              "    };\n",
              "  }\n",
              "\n",
              "  for (const file of files) {\n",
              "    const li = document.createElement('li');\n",
              "    li.append(span(file.name, {fontWeight: 'bold'}));\n",
              "    li.append(span(\n",
              "        `(${file.type || 'n/a'}) - ${file.size} bytes, ` +\n",
              "        `last modified: ${\n",
              "            file.lastModifiedDate ? file.lastModifiedDate.toLocaleDateString() :\n",
              "                                    'n/a'} - `));\n",
              "    const percent = span('0% done');\n",
              "    li.appendChild(percent);\n",
              "\n",
              "    outputElement.appendChild(li);\n",
              "\n",
              "    const fileDataPromise = new Promise((resolve) => {\n",
              "      const reader = new FileReader();\n",
              "      reader.onload = (e) => {\n",
              "        resolve(e.target.result);\n",
              "      };\n",
              "      reader.readAsArrayBuffer(file);\n",
              "    });\n",
              "    // Wait for the data to be ready.\n",
              "    let fileData = yield {\n",
              "      promise: fileDataPromise,\n",
              "      response: {\n",
              "        action: 'continue',\n",
              "      }\n",
              "    };\n",
              "\n",
              "    // Use a chunked sending to avoid message size limits. See b/62115660.\n",
              "    let position = 0;\n",
              "    do {\n",
              "      const length = Math.min(fileData.byteLength - position, MAX_PAYLOAD_SIZE);\n",
              "      const chunk = new Uint8Array(fileData, position, length);\n",
              "      position += length;\n",
              "\n",
              "      const base64 = btoa(String.fromCharCode.apply(null, chunk));\n",
              "      yield {\n",
              "        response: {\n",
              "          action: 'append',\n",
              "          file: file.name,\n",
              "          data: base64,\n",
              "        },\n",
              "      };\n",
              "\n",
              "      let percentDone = fileData.byteLength === 0 ?\n",
              "          100 :\n",
              "          Math.round((position / fileData.byteLength) * 100);\n",
              "      percent.textContent = `${percentDone}% done`;\n",
              "\n",
              "    } while (position < fileData.byteLength);\n",
              "  }\n",
              "\n",
              "  // All done.\n",
              "  yield {\n",
              "    response: {\n",
              "      action: 'complete',\n",
              "    }\n",
              "  };\n",
              "}\n",
              "\n",
              "scope.google = scope.google || {};\n",
              "scope.google.colab = scope.google.colab || {};\n",
              "scope.google.colab._files = {\n",
              "  _uploadFiles,\n",
              "  _uploadFilesContinue,\n",
              "};\n",
              "})(self);\n",
              "</script> "
            ]
          },
          "metadata": {}
        },
        {
          "output_type": "stream",
          "name": "stdout",
          "text": [
            "Saving model.pth to model.pth\n"
          ]
        }
      ]
    },
    {
      "cell_type": "code",
      "source": [
        "#cifar_net = torch.load('model.pth')"
      ],
      "metadata": {
        "id": "SinU4DJhvFJc"
      },
      "execution_count": null,
      "outputs": []
    },
    {
      "cell_type": "code",
      "source": [
        "params = cifar_net.state_dict()['conv1.weight']\n",
        "params.shape"
      ],
      "metadata": {
        "colab": {
          "base_uri": "https://localhost:8080/"
        },
        "id": "hc4ETQruvOHl",
        "outputId": "fe857cc8-3443-4223-fab4-c7fc0145ea99"
      },
      "execution_count": null,
      "outputs": [
        {
          "output_type": "execute_result",
          "data": {
            "text/plain": [
              "torch.Size([16, 3, 5, 5])"
            ]
          },
          "metadata": {},
          "execution_count": 15
        }
      ]
    },
    {
      "cell_type": "code",
      "source": [
        "import numpy as np\n",
        "import matplotlib.pyplot as plt"
      ],
      "metadata": {
        "id": "6QkYeUO-vc8h"
      },
      "execution_count": null,
      "outputs": []
    },
    {
      "cell_type": "code",
      "source": [
        "\n",
        "plt.imshow(np.transpose(params[0], (1, 2, 0)))"
      ],
      "metadata": {
        "colab": {
          "base_uri": "https://localhost:8080/",
          "height": 300
        },
        "id": "F7iuR4NEvrl3",
        "outputId": "cf2d4359-5c89-42c1-975c-7802f79c4148"
      },
      "execution_count": null,
      "outputs": [
        {
          "output_type": "stream",
          "name": "stderr",
          "text": [
            "WARNING:matplotlib.image:Clipping input data to the valid range for imshow with RGB data ([0..1] for floats or [0..255] for integers).\n"
          ]
        },
        {
          "output_type": "execute_result",
          "data": {
            "text/plain": [
              "<matplotlib.image.AxesImage at 0x7f22e2ba4c90>"
            ]
          },
          "metadata": {},
          "execution_count": 22
        },
        {
          "output_type": "display_data",
          "data": {
            "text/plain": [
              "<Figure size 432x288 with 1 Axes>"
            ],
            "image/png": "[encoded data removed]"
          },
          "metadata": {
            "needs_background": "light"
          }
        }
      ]
    },
    {
      "cell_type": "code",
      "source": [
        "\n",
        "plt.imshow(np.transpose(0.5*params[0] + 0.5, (1, 2, 0)))"
      ],
      "metadata": {
        "colab": {
          "base_uri": "https://localhost:8080/",
          "height": 282
        },
        "id": "2AfnViskvxn5",
        "outputId": "2c5bba71-3fa5-47b3-ce2a-52eba37d94ba"
      },
      "execution_count": null,
      "outputs": [
        {
          "output_type": "execute_result",
          "data": {
            "text/plain": [
              "<matplotlib.image.AxesImage at 0x7f22dae4dd10>"
            ]
          },
          "metadata": {},
          "execution_count": 23
        },
        {
          "output_type": "display_data",
          "data": {
            "text/plain": [
              "<Figure size 432x288 with 1 Axes>"
            ],
            "image/png": "[encoded data removed]"
          },
          "metadata": {
            "needs_background": "light"
          }
        }
      ]
    },
    {
      "cell_type": "code",
      "source": [
        "params[1].shape\n"
      ],
      "metadata": {
        "colab": {
          "base_uri": "https://localhost:8080/"
        },
        "id": "6ugMZ2W9yVqk",
        "outputId": "8f25d312-a364-4fc2-c349-67fe0fbc4215"
      },
      "execution_count": null,
      "outputs": [
        {
          "output_type": "execute_result",
          "data": {
            "text/plain": [
              "torch.Size([3, 5, 5])"
            ]
          },
          "metadata": {},
          "execution_count": 35
        }
      ]
    },
    {
      "cell_type": "code",
      "source": [
        "len(params)"
      ],
      "metadata": {
        "colab": {
          "base_uri": "https://localhost:8080/"
        },
        "id": "xcpfmjeNzTaN",
        "outputId": "ea6dc4dd-acc9-470f-a9fc-b72f0a31f487"
      },
      "execution_count": null,
      "outputs": [
        {
          "output_type": "execute_result",
          "data": {
            "text/plain": [
              "16"
            ]
          },
          "metadata": {},
          "execution_count": 36
        }
      ]
    },
    {
      "cell_type": "code",
      "source": [
        "fig, axes = plt.subplots(1,16)\n",
        "for i in range(len(params)):\n",
        "    \n",
        "    axes[i].figure.set_size_inches(30, 30)\n",
        "    axes[i].imshow(0.5* np.transpose(params[i] + 0.5, (1, 2, 0)))\n"
      ],
      "metadata": {
        "colab": {
          "base_uri": "https://localhost:8080/",
          "height": 120
        },
        "id": "iVVgrYC9zVhz",
        "outputId": "e355cd5e-676b-42e9-c827-0cee737fec20"
      },
      "execution_count": null,
      "outputs": [
        {
          "output_type": "display_data",
          "data": {
            "text/plain": [
              "<Figure size 2160x2160 with 16 Axes>"
            ],
            "image/png": "[encoded data removed]"
          },
          "metadata": {
            "needs_background": "light"
          }
        }
      ]
    },
    {
      "cell_type": "markdown",
      "source": [
        "We thus see the visualizations of the first layer filters and we see the breakdown of the parameters of the model."
      ],
      "metadata": {
        "id": "zGCusULUYlF3"
      }
    },
    {
      "cell_type": "code",
      "source": [
        "from torchsummary import summary\n",
        "\n",
        "summary(cifar_net.cpu(), input_size=(3, 32, 32), device=\"cpu\")\n"
      ],
      "metadata": {
        "colab": {
          "base_uri": "https://localhost:8080/"
        },
        "id": "MivFn1b20FLP",
        "outputId": "82bd1f97-a054-406b-b2e2-c79e11a13656"
      },
      "execution_count": null,
      "outputs": [
        {
          "output_type": "stream",
          "name": "stdout",
          "text": [
            "----------------------------------------------------------------\n",
            "        Layer (type)               Output Shape         Param #\n",
            "================================================================\n",
            "            Conv2d-1           [-1, 16, 28, 28]           1,216\n",
            "            Conv2d-2          [-1, 128, 10, 10]          51,328\n",
            "            Linear-3                   [-1, 64]         204,864\n",
            "            Linear-4                   [-1, 10]             650\n",
            "================================================================\n",
            "Total params: 258,058\n",
            "Trainable params: 258,058\n",
            "Non-trainable params: 0\n",
            "----------------------------------------------------------------\n",
            "Input size (MB): 0.01\n",
            "Forward/backward pass size (MB): 0.19\n",
            "Params size (MB): 0.98\n",
            "Estimated Total Size (MB): 1.19\n",
            "----------------------------------------------------------------\n"
          ]
        },
        {
          "output_type": "stream",
          "name": "stderr",
          "text": [
            "/usr/local/lib/python3.7/dist-packages/torch/nn/functional.py:1949: UserWarning: nn.functional.tanh is deprecated. Use torch.tanh instead.\n",
            "  warnings.warn(\"nn.functional.tanh is deprecated. Use torch.tanh instead.\")\n"
          ]
        }
      ]
    }
  ]
}